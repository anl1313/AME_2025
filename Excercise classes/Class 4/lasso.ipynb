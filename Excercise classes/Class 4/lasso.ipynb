{
 "cells": [
  {
   "cell_type": "code",
   "execution_count": null,
   "id": "a99098a0",
   "metadata": {},
   "outputs": [
    {
     "name": "stdout",
     "output_type": "stream",
     "text": [
      "Index([0, 1, 2, 3, 4, 5, 6, 7, 8, 9, 10], dtype='int64')\n",
      "[-0.    0.   -0.    0.   -0.    0.   -0.    0.   -0.   -0.01 -0.    0.\n",
      " -0.  ]\n",
      "[-0.01]\n"
     ]
    }
   ],
   "source": [
    "import numpy as np\n",
    "import pandas as pd\n",
    "from sklearn import datasets\n",
    "from sklearn . linear_model import Lasso\n",
    "data_url = \"http://lib.stat.cmu.edu/datasets/boston\"\n",
    "raw_df = pd.read_csv(data_url, sep=\"\\s+\", skiprows=22, header=None)\n",
    "data = np.hstack([raw_df.values[::2, :], raw_df.values[1::2, :2]])\n",
    "target = raw_df.values[1::2, 2]\n",
    "X = data\n",
    "y = target\n",
    "fit = Lasso(alpha=500).fit(X, y)  # alpha = penalty\n",
    "y_pred = fit.predict(X)\n",
    "coef = fit.coef_\n",
    "sel = (coef != 0)\n",
    "XNames = raw_df.columns[:data.shape[1]]\n",
    "print(XNames)\n",
    "print(np.round(coef, 2))\n",
    "#print(XNames[sel])\n",
    "print(np.round(coef[sel], 2))"
   ]
  },
  {
   "cell_type": "code",
   "execution_count": 12,
   "id": "e9f13243",
   "metadata": {},
   "outputs": [
    {
     "name": "stdout",
     "output_type": "stream",
     "text": [
      "[ 2.54 -1.16 -3.49]\n",
      "[ 3.61 -0.54 -0.49]\n"
     ]
    }
   ],
   "source": [
    "# lasso with standardization\n",
    "muhat = np . mean (X , axis = 0)\n",
    "stdhat = np . std (X , axis = 0)\n",
    "Xtilde = (X - muhat )/ stdhat # standardize\n",
    "y = target\n",
    "fit = Lasso ( alpha = 1.3). fit ( Xtilde , y )\n",
    "yhat = fit . predict ( Xtilde ) # Q : Why OK ?\n",
    "coef = fit . coef_\n",
    "sel = ( coef != 0)\n",
    "XNames = raw_df.columns[:data.shape[1]]\n",
    "#print ( XNames [ sel ])\n",
    "print ( np . round ( coef [ sel ] ,2)) # in std . dev . s\n",
    "coef_orig = coef / stdhat\n",
    "print ( np . round ( coef_orig [ sel ] ,2)) # original"
   ]
  },
  {
   "cell_type": "code",
   "execution_count": null,
   "id": "6cf04ca5",
   "metadata": {},
   "outputs": [
    {
     "name": "stdout",
     "output_type": "stream",
     "text": [
      "573.5058823812358\n",
      "1.2987144409659397\n"
     ]
    }
   ],
   "source": [
    "# BRT rule\n",
    "from scipy.stats import norm\n",
    "sigma = np . std ( y )\n",
    "(n , p ) = X . shape\n",
    "Xscale = np . max ( np . mean (( X ** 2) , axis = 0)) ** 0.5\n",
    "c = 1.1; alpha = 0.05\n",
    "lamb = c * sigma * norm.ppf (1 - alpha /(2* p ))\n",
    "lamb *= Xscale / np.sqrt ( n )\n",
    "# BRT as stated - -^ & upon normalizing --v\n",
    "lamb1 = c * sigma * norm.ppf (1 - alpha /(2* p ))/ np.sqrt ( n )\n",
    "print (lamb) # the lambda here is blown up bc regressoors are not measured on the same scale\n",
    "print (lamb1) # here the regressors are standardized\n",
    "# Note : Dividing by 2 ( Python Lasso definition ) 24 / 29\n"
   ]
  },
  {
   "cell_type": "code",
   "execution_count": null,
   "id": "a1b113ed",
   "metadata": {},
   "outputs": [
    {
     "name": "stdout",
     "output_type": "stream",
     "text": [
      "[-0.47  0.5  -0.07  0.64 -1.31  2.91 -2.03  0.37 -0.16 -1.85  0.71 -3.72]\n"
     ]
    },
    {
     "ename": "",
     "evalue": "",
     "output_type": "error",
     "traceback": [
      "\u001b[1;31mThe Kernel crashed while executing code in the current cell or a previous cell. \n",
      "\u001b[1;31mPlease review the code in the cell(s) to identify a possible cause of the failure. \n",
      "\u001b[1;31mClick <a href='https://aka.ms/vscodeJupyterKernelCrash'>here</a> for more info. \n",
      "\u001b[1;31mView Jupyter <a href='command:jupyter.viewOutput'>log</a> for further details."
     ]
    }
   ],
   "source": [
    "# cross validation\n",
    "from sklearn.linear_model import LassoCV\n",
    "fitCV = LassoCV(cv=5).fit(Xtilde,y)\n",
    "coef_ = fitCV.coef_\n",
    "sel = (coef_ !=0)\n",
    "print(np.round(coef_[sel],2))\n",
    "\n",
    "from sklearn.model_selection import KFold\n"
   ]
  },
  {
   "cell_type": "code",
   "execution_count": null,
   "id": "8e1713c7",
   "metadata": {},
   "outputs": [],
   "source": [
    "# "
   ]
  }
 ],
 "metadata": {
  "kernelspec": {
   "display_name": "base",
   "language": "python",
   "name": "python3"
  },
  "language_info": {
   "codemirror_mode": {
    "name": "ipython",
    "version": 3
   },
   "file_extension": ".py",
   "mimetype": "text/x-python",
   "name": "python",
   "nbconvert_exporter": "python",
   "pygments_lexer": "ipython3",
   "version": "3.13.5"
  }
 },
 "nbformat": 4,
 "nbformat_minor": 5
}
