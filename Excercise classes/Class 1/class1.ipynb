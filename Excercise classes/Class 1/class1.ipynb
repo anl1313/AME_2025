{
 "cells": [
  {
   "cell_type": "markdown",
   "id": "0a0f3d19",
   "metadata": {},
   "source": []
  },
  {
   "cell_type": "code",
   "execution_count": 1,
   "id": "05c1a753",
   "metadata": {},
   "outputs": [
    {
     "name": "stderr",
     "output_type": "stream",
     "text": [
      "Matplotlib is building the font cache; this may take a moment.\n"
     ]
    }
   ],
   "source": [
    "import numpy as np\n",
    "import matplotlib.pyplot as plt\n",
    "import pandas as pd"
   ]
  },
  {
   "cell_type": "code",
   "execution_count": null,
   "id": "69df1071",
   "metadata": {},
   "outputs": [
    {
     "name": "stdout",
     "output_type": "stream",
     "text": [
      "A er en (3, 3) matrice med 2 dimensioner og dermed 9 elementer\n",
      "[[0.9047619  1.04761905 1.66666667]\n",
      " [0.9047619  1.04761905 1.66666667]\n",
      " [0.9047619  1.04761905 1.66666667]]\n"
     ]
    }
   ],
   "source": [
    "# leger lidt rundt med matricer\n",
    "A = np.array([[1, 1, 1],\n",
    "              [2, 2, 2],\n",
    "              [3, 3, 3]])\n",
    "B = np.array([[5, 6, 9],\n",
    "              [6, 7, 11],\n",
    "              [7, 8, 13]])\n",
    "\n",
    "print('A er en', A.shape, 'matrice med', A.ndim, 'dimensioner og dermed', A.size, 'elementer')\n",
    "\n",
    "# koder OLS op fra bunden\n",
    "X = A\n",
    "y = B\n",
    "# estimatoren er defineret som ((X'X)^(-1))X'y \n",
    "#beta = np.linalg.inv(X.T@X)@X.T@y\n",
    "# skal faktisk bruge pseudo-inversen fordi matrix A ikke har fuld rank\n",
    "beta = np.linalg.pinv(X.T @ X) @ X.T @ y\n",
    "\n",
    "# bruger beta til at forudsige y\n",
    "\n",
    "\n",
    "y_hat = X @ beta\n",
    "\n",
    "print(beta)"
   ]
  },
  {
   "cell_type": "code",
   "execution_count": null,
   "id": "0f75b14a",
   "metadata": {},
   "outputs": [],
   "source": []
  },
  {
   "cell_type": "code",
   "execution_count": null,
   "id": "a2c16358",
   "metadata": {},
   "outputs": [],
   "source": []
  }
 ],
 "metadata": {
  "kernelspec": {
   "display_name": "base",
   "language": "python",
   "name": "python3"
  },
  "language_info": {
   "codemirror_mode": {
    "name": "ipython",
    "version": 3
   },
   "file_extension": ".py",
   "mimetype": "text/x-python",
   "name": "python",
   "nbconvert_exporter": "python",
   "pygments_lexer": "ipython3",
   "version": "3.13.5"
  }
 },
 "nbformat": 4,
 "nbformat_minor": 5
}
