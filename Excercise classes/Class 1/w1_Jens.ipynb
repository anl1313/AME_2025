{
 "cells": [
  {
   "cell_type": "markdown",
   "metadata": {},
   "source": [
    "# Week 1 \n",
    "\n",
    "The purpose of this week's exercise is twofold: First, to introduce you to Numpy and making you familiar with the library and some of its pitfalls. Second, you will apply this to estimate the linear model using OLS."
   ]
  },
  {
   "cell_type": "markdown",
   "metadata": {},
   "source": [
    "(Jupyter Basics) A few things to note about Jupyter Notebook (ipynb files). (1) Notebooks may run cells individually by selecting a cell and using ctrl + enter. (2) Each notebook runs on a kernel which is selected by the user the first time a cell is run. (3) The kernel \"stores\" variables as the code is run. To utilize code in a proceeding cell, it is neccessary to run the previous cell. Be careful with overlapping variable names across cells. It becomes messy to clean up.\n",
    "\n",
    "* The kernel is your installation of Python. Make sure your installation of Python is visible to your environment."
   ]
  },
  {
   "cell_type": "markdown",
   "metadata": {},
   "source": [
    "Please note that some of the exercises are purposefully made to return errors. Take the time to identify why they occur."
   ]
  },
  {
   "cell_type": "markdown",
   "metadata": {},
   "source": [
    "## A short introduction to Numpy and Linear Algebra (Linalg)\n",
    "First, import all necessary packages. If you are missing a package, you can either install it through your terminal using pip, or an Anaconda terminal using conda."
   ]
  },
  {
   "cell_type": "code",
   "execution_count": 2,
   "metadata": {},
   "outputs": [],
   "source": [
    "import numpy as np # We import the package numpy and name it \"np\"\n",
    "from numpy import linalg as la \n",
    "# We import the subpackage linalg from numpy and name it \"la\". \n",
    "# In most cases, importing a subpackage is not neccessary when the overarching package has been imported, \n",
    "# although lacking dependencies may change functionality in some cases.\n",
    "from numpy import random as random\n",
    "from tabulate import tabulate\n",
    "#(NB if you havent got tabulate yet, install it using !pip install tabulate)\n",
    "from matplotlib import pyplot as plt"
   ]
  },
  {
   "cell_type": "markdown",
   "metadata": {},
   "source": [
    "### Entering matrices manually\n",
    "To create a $1\\times9$ *row* vector write,"
   ]
  },
  {
   "cell_type": "code",
   "execution_count": 12,
   "metadata": {},
   "outputs": [
    {
     "name": "stdout",
     "output_type": "stream",
     "text": [
      "[1 2 3 4 5 6 7 8 9]\n"
     ]
    }
   ],
   "source": [
    "row = np.array([1, 2, 3, 4, 5, 6, 7, 8, 9])\n",
    "print(row)"
   ]
  },
  {
   "cell_type": "markdown",
   "metadata": {},
   "source": [
    "To create a $9\\times1$ *column* vector write,"
   ]
  },
  {
   "cell_type": "code",
   "execution_count": 13,
   "metadata": {},
   "outputs": [
    {
     "name": "stdout",
     "output_type": "stream",
     "text": [
      "[[1]\n",
      " [2]\n",
      " [3]\n",
      " [4]\n",
      " [5]\n",
      " [6]\n",
      " [7]\n",
      " [8]\n",
      " [9]]\n"
     ]
    }
   ],
   "source": [
    "col = np.array([[1], [2], [3], [4], [5], [6], [7], [8], [9]])\n",
    "print(col)"
   ]
  },
  {
   "cell_type": "markdown",
   "metadata": {},
   "source": [
    "An easier method is to define a row vector, and transpose it. Notice the double [[]]. Try to see what happens if you transpose a row vector using only []."
   ]
  },
  {
   "cell_type": "code",
   "execution_count": 14,
   "metadata": {},
   "outputs": [
    {
     "name": "stdout",
     "output_type": "stream",
     "text": [
      "[[1]\n",
      " [2]\n",
      " [3]\n",
      " [4]\n",
      " [5]\n",
      " [6]\n",
      " [7]\n",
      " [8]\n",
      " [9]]\n"
     ]
    }
   ],
   "source": [
    "col = np.array([[1, 2, 3, 4, 5, 6, 7, 8, 9]]).T\n",
    "print(col)"
   ]
  },
  {
   "cell_type": "markdown",
   "metadata": {},
   "source": [
    "**A short note on numpy vectors**\n",
    "Numpy does not treat vectors and matrices the same. A *true* numpy vector has the shape (k,), . The shape of a numpy array is an attribute, how do you call this attribute for the `row` and `col` arrays? What is the shape of the `row.T` array? "
   ]
  },
  {
   "cell_type": "code",
   "execution_count": 19,
   "metadata": {},
   "outputs": [
    {
     "name": "stdout",
     "output_type": "stream",
     "text": [
      "(9, 1)\n",
      "(9, 1)\n"
     ]
    }
   ],
   "source": [
    "# Call the shape attribute for the row and col vars. Check the shape of col.T\n",
    "print(col.shape)\n",
    "row2 = row.reshape(-1,1)\n",
    "print(row2.shape)\n",
    "# FILL IN HERE"
   ]
  },
  {
   "cell_type": "markdown",
   "metadata": {},
   "source": [
    "To create a matrix, you combine what you have learned to manually create a $3 \\times 3$ matrix called x, that has the numbers 0 to 8."
   ]
  },
  {
   "cell_type": "code",
   "execution_count": 27,
   "metadata": {},
   "outputs": [
    {
     "name": "stdout",
     "output_type": "stream",
     "text": [
      "[[ 1  2  3  4  5  6  7  8  9]\n",
      " [ 2  4  6  8 10 12 14 16 18]\n",
      " [ 3  6  9 12 15 18 21 24 27]\n",
      " [ 4  8 12 16 20 24 28 32 36]\n",
      " [ 5 10 15 20 25 30 35 40 45]\n",
      " [ 6 12 18 24 30 36 42 48 54]\n",
      " [ 7 14 21 28 35 42 49 56 63]\n",
      " [ 8 16 24 32 40 48 56 64 72]\n",
      " [ 9 18 27 36 45 54 63 72 81]]\n",
      "[[1 2 3]\n",
      " [4 5 6]\n",
      " [7 8 9]]\n"
     ]
    }
   ],
   "source": [
    "x = row*col# FILL IN HERE\n",
    "print(x)\n",
    "\n",
    "y = np.array([[1,2,3],\n",
    "             [4,5,6],\n",
    "             [7,8,9]])\n",
    "print(y)"
   ]
  },
  {
   "cell_type": "markdown",
   "metadata": {},
   "source": [
    "Create the same $3 \\times 3$ using `np.arange()` and np.reshape()"
   ]
  },
  {
   "cell_type": "code",
   "execution_count": 35,
   "metadata": {},
   "outputs": [
    {
     "name": "stdout",
     "output_type": "stream",
     "text": [
      "[1 2 3 4 5 6 7 8 9]\n",
      "[[1 2 3]\n",
      " [4 5 6]\n",
      " [7 8 9]]\n"
     ]
    }
   ],
   "source": [
    "x = np.arange(1,10)# FILL IN HERE\n",
    "y = np.reshape(x,(3,3))\n",
    "print(x)\n",
    "print(y)"
   ]
  },
  {
   "cell_type": "markdown",
   "metadata": {},
   "source": [
    "### Matrix calculations \n",
    "There are several types of matrix calculations available to us with the numpy library, and we will introduce some here.\n",
    "\n",
    "For matrix **multiplication** you can for the matrices `a` and `b` use `a@b`, `np.dot(a, b)` or `a.dot(b)`\n",
    "\n",
    "Perform matrix multiplication on the following:\n",
    "- `row`$\\cdot$`row'`, `row'`$\\cdot$`row`, `row`$\\cdot$`row`;\n",
    "- `col`$\\cdot$`col'`, `col'`$\\cdot$`col`, `col`$\\cdot$`col`;\n",
    "- `x`$\\cdot$`x`, `row`$\\cdot$`col'`, `col`$\\cdot$`row'`.\n",
    "\n",
    "Does the `row` vector behave as you would expect?"
   ]
  },
  {
   "cell_type": "code",
   "execution_count": 44,
   "metadata": {},
   "outputs": [
    {
     "name": "stdout",
     "output_type": "stream",
     "text": [
      "285 285 285\n",
      "[[ 1  2  3  4  5  6  7  8  9]\n",
      " [ 2  4  6  8 10 12 14 16 18]\n",
      " [ 3  6  9 12 15 18 21 24 27]\n",
      " [ 4  8 12 16 20 24 28 32 36]\n",
      " [ 5 10 15 20 25 30 35 40 45]\n",
      " [ 6 12 18 24 30 36 42 48 54]\n",
      " [ 7 14 21 28 35 42 49 56 63]\n",
      " [ 8 16 24 32 40 48 56 64 72]\n",
      " [ 9 18 27 36 45 54 63 72 81]] [[285]] [[ 1]\n",
      " [ 4]\n",
      " [ 9]\n",
      " [16]\n",
      " [25]\n",
      " [36]\n",
      " [49]\n",
      " [64]\n",
      " [81]]\n",
      "[[ 30  36  42]\n",
      " [ 66  81  96]\n",
      " [102 126 150]] [[ 1  2  3  4  5  6  7  8  9]\n",
      " [ 2  4  6  8 10 12 14 16 18]\n",
      " [ 3  6  9 12 15 18 21 24 27]\n",
      " [ 4  8 12 16 20 24 28 32 36]\n",
      " [ 5 10 15 20 25 30 35 40 45]\n",
      " [ 6 12 18 24 30 36 42 48 54]\n",
      " [ 7 14 21 28 35 42 49 56 63]\n",
      " [ 8 16 24 32 40 48 56 64 72]\n",
      " [ 9 18 27 36 45 54 63 72 81]] [[ 1  2  3  4  5  6  7  8  9]\n",
      " [ 2  4  6  8 10 12 14 16 18]\n",
      " [ 3  6  9 12 15 18 21 24 27]\n",
      " [ 4  8 12 16 20 24 28 32 36]\n",
      " [ 5 10 15 20 25 30 35 40 45]\n",
      " [ 6 12 18 24 30 36 42 48 54]\n",
      " [ 7 14 21 28 35 42 49 56 63]\n",
      " [ 8 16 24 32 40 48 56 64 72]\n",
      " [ 9 18 27 36 45 54 63 72 81]]\n"
     ]
    }
   ],
   "source": [
    "print(row@row.T, row.T@row, row@row) # FILL IN HERE \n",
    "print(col@col.T, col.T@col, col*col)# FILL IN HERE \n",
    "print(y@y, row2@col.T, col*row.T)"
   ]
  },
  {
   "cell_type": "code",
   "execution_count": null,
   "metadata": {},
   "outputs": [],
   "source": [
    "print( # FILL IN HERE )\n",
    "print( # FILL IN HERE )\n",
    "print( # FILL IN HERE )"
   ]
  },
  {
   "cell_type": "code",
   "execution_count": null,
   "metadata": {},
   "outputs": [],
   "source": [
    "print( # FILL IN HERE )\n",
    "print( # FILL IN HERE )\n",
    "print( # FILL IN HERE )"
   ]
  },
  {
   "cell_type": "markdown",
   "metadata": {},
   "source": [
    "What happens if you use `*` and `/` operators on the same pairs as above? Does the `col` vector behave as you would expect?"
   ]
  },
  {
   "cell_type": "code",
   "execution_count": 46,
   "metadata": {},
   "outputs": [
    {
     "name": "stdout",
     "output_type": "stream",
     "text": [
      "[ 1  4  9 16 25 36 49 64 81]\n",
      "[ 1  4  9 16 25 36 49 64 81]\n",
      "[ 1  4  9 16 25 36 49 64 81]\n",
      "[1. 1. 1. 1. 1. 1. 1. 1. 1.]\n",
      "[1. 1. 1. 1. 1. 1. 1. 1. 1.]\n",
      "[1. 1. 1. 1. 1. 1. 1. 1. 1.]\n"
     ]
    }
   ],
   "source": [
    "print(row*row.T)\n",
    "print(row.T*row)\n",
    "print(row*row)\n",
    "print(row/row.T)\n",
    "print(row.T/row)\n",
    "print(row/row)"
   ]
  },
  {
   "cell_type": "code",
   "execution_count": 47,
   "metadata": {},
   "outputs": [
    {
     "name": "stdout",
     "output_type": "stream",
     "text": [
      "[[ 1  2  3  4  5  6  7  8  9]\n",
      " [ 2  4  6  8 10 12 14 16 18]\n",
      " [ 3  6  9 12 15 18 21 24 27]\n",
      " [ 4  8 12 16 20 24 28 32 36]\n",
      " [ 5 10 15 20 25 30 35 40 45]\n",
      " [ 6 12 18 24 30 36 42 48 54]\n",
      " [ 7 14 21 28 35 42 49 56 63]\n",
      " [ 8 16 24 32 40 48 56 64 72]\n",
      " [ 9 18 27 36 45 54 63 72 81]]\n",
      "[[ 1  2  3  4  5  6  7  8  9]\n",
      " [ 2  4  6  8 10 12 14 16 18]\n",
      " [ 3  6  9 12 15 18 21 24 27]\n",
      " [ 4  8 12 16 20 24 28 32 36]\n",
      " [ 5 10 15 20 25 30 35 40 45]\n",
      " [ 6 12 18 24 30 36 42 48 54]\n",
      " [ 7 14 21 28 35 42 49 56 63]\n",
      " [ 8 16 24 32 40 48 56 64 72]\n",
      " [ 9 18 27 36 45 54 63 72 81]]\n",
      "[[ 1]\n",
      " [ 4]\n",
      " [ 9]\n",
      " [16]\n",
      " [25]\n",
      " [36]\n",
      " [49]\n",
      " [64]\n",
      " [81]]\n",
      "[[1.         0.5        0.33333333 0.25       0.2        0.16666667\n",
      "  0.14285714 0.125      0.11111111]\n",
      " [2.         1.         0.66666667 0.5        0.4        0.33333333\n",
      "  0.28571429 0.25       0.22222222]\n",
      " [3.         1.5        1.         0.75       0.6        0.5\n",
      "  0.42857143 0.375      0.33333333]\n",
      " [4.         2.         1.33333333 1.         0.8        0.66666667\n",
      "  0.57142857 0.5        0.44444444]\n",
      " [5.         2.5        1.66666667 1.25       1.         0.83333333\n",
      "  0.71428571 0.625      0.55555556]\n",
      " [6.         3.         2.         1.5        1.2        1.\n",
      "  0.85714286 0.75       0.66666667]\n",
      " [7.         3.5        2.33333333 1.75       1.4        1.16666667\n",
      "  1.         0.875      0.77777778]\n",
      " [8.         4.         2.66666667 2.         1.6        1.33333333\n",
      "  1.14285714 1.         0.88888889]\n",
      " [9.         4.5        3.         2.25       1.8        1.5\n",
      "  1.28571429 1.125      1.        ]]\n",
      "[[1.         2.         3.         4.         5.         6.\n",
      "  7.         8.         9.        ]\n",
      " [0.5        1.         1.5        2.         2.5        3.\n",
      "  3.5        4.         4.5       ]\n",
      " [0.33333333 0.66666667 1.         1.33333333 1.66666667 2.\n",
      "  2.33333333 2.66666667 3.        ]\n",
      " [0.25       0.5        0.75       1.         1.25       1.5\n",
      "  1.75       2.         2.25      ]\n",
      " [0.2        0.4        0.6        0.8        1.         1.2\n",
      "  1.4        1.6        1.8       ]\n",
      " [0.16666667 0.33333333 0.5        0.66666667 0.83333333 1.\n",
      "  1.16666667 1.33333333 1.5       ]\n",
      " [0.14285714 0.28571429 0.42857143 0.57142857 0.71428571 0.85714286\n",
      "  1.         1.14285714 1.28571429]\n",
      " [0.125      0.25       0.375      0.5        0.625      0.75\n",
      "  0.875      1.         1.125     ]\n",
      " [0.11111111 0.22222222 0.33333333 0.44444444 0.55555556 0.66666667\n",
      "  0.77777778 0.88888889 1.        ]]\n",
      "[[1.]\n",
      " [1.]\n",
      " [1.]\n",
      " [1.]\n",
      " [1.]\n",
      " [1.]\n",
      " [1.]\n",
      " [1.]\n",
      " [1.]]\n"
     ]
    }
   ],
   "source": [
    "print(col*col.T)\n",
    "print(col.T*col)\n",
    "print(col*col)\n",
    "print(col/col.T)\n",
    "print(col.T/col)\n",
    "print(col/col)"
   ]
  },
  {
   "cell_type": "code",
   "execution_count": 48,
   "metadata": {},
   "outputs": [
    {
     "name": "stdout",
     "output_type": "stream",
     "text": [
      "[[ 1  4  9]\n",
      " [16 25 36]\n",
      " [49 64 81]]\n",
      "[[ 1  2  3  4  5  6  7  8  9]\n",
      " [ 2  4  6  8 10 12 14 16 18]\n",
      " [ 3  6  9 12 15 18 21 24 27]\n",
      " [ 4  8 12 16 20 24 28 32 36]\n",
      " [ 5 10 15 20 25 30 35 40 45]\n",
      " [ 6 12 18 24 30 36 42 48 54]\n",
      " [ 7 14 21 28 35 42 49 56 63]\n",
      " [ 8 16 24 32 40 48 56 64 72]\n",
      " [ 9 18 27 36 45 54 63 72 81]]\n",
      "[[ 1  2  3  4  5  6  7  8  9]\n",
      " [ 2  4  6  8 10 12 14 16 18]\n",
      " [ 3  6  9 12 15 18 21 24 27]\n",
      " [ 4  8 12 16 20 24 28 32 36]\n",
      " [ 5 10 15 20 25 30 35 40 45]\n",
      " [ 6 12 18 24 30 36 42 48 54]\n",
      " [ 7 14 21 28 35 42 49 56 63]\n",
      " [ 8 16 24 32 40 48 56 64 72]\n",
      " [ 9 18 27 36 45 54 63 72 81]]\n",
      "[[1. 1. 1.]\n",
      " [1. 1. 1.]\n",
      " [1. 1. 1.]]\n",
      "[[1.         2.         3.         4.         5.         6.\n",
      "  7.         8.         9.        ]\n",
      " [0.5        1.         1.5        2.         2.5        3.\n",
      "  3.5        4.         4.5       ]\n",
      " [0.33333333 0.66666667 1.         1.33333333 1.66666667 2.\n",
      "  2.33333333 2.66666667 3.        ]\n",
      " [0.25       0.5        0.75       1.         1.25       1.5\n",
      "  1.75       2.         2.25      ]\n",
      " [0.2        0.4        0.6        0.8        1.         1.2\n",
      "  1.4        1.6        1.8       ]\n",
      " [0.16666667 0.33333333 0.5        0.66666667 0.83333333 1.\n",
      "  1.16666667 1.33333333 1.5       ]\n",
      " [0.14285714 0.28571429 0.42857143 0.57142857 0.71428571 0.85714286\n",
      "  1.         1.14285714 1.28571429]\n",
      " [0.125      0.25       0.375      0.5        0.625      0.75\n",
      "  0.875      1.         1.125     ]\n",
      " [0.11111111 0.22222222 0.33333333 0.44444444 0.55555556 0.66666667\n",
      "  0.77777778 0.88888889 1.        ]]\n",
      "[[1.         0.5        0.33333333 0.25       0.2        0.16666667\n",
      "  0.14285714 0.125      0.11111111]\n",
      " [2.         1.         0.66666667 0.5        0.4        0.33333333\n",
      "  0.28571429 0.25       0.22222222]\n",
      " [3.         1.5        1.         0.75       0.6        0.5\n",
      "  0.42857143 0.375      0.33333333]\n",
      " [4.         2.         1.33333333 1.         0.8        0.66666667\n",
      "  0.57142857 0.5        0.44444444]\n",
      " [5.         2.5        1.66666667 1.25       1.         0.83333333\n",
      "  0.71428571 0.625      0.55555556]\n",
      " [6.         3.         2.         1.5        1.2        1.\n",
      "  0.85714286 0.75       0.66666667]\n",
      " [7.         3.5        2.33333333 1.75       1.4        1.16666667\n",
      "  1.         0.875      0.77777778]\n",
      " [8.         4.         2.66666667 2.         1.6        1.33333333\n",
      "  1.14285714 1.         0.88888889]\n",
      " [9.         4.5        3.         2.25       1.8        1.5\n",
      "  1.28571429 1.125      1.        ]]\n"
     ]
    }
   ],
   "source": [
    "print( y*y )\n",
    "print(row*col)\n",
    "print(col*row)\n",
    "print(y/y)\n",
    "print(row/col)\n",
    "print(col/row)"
   ]
  },
  {
   "cell_type": "markdown",
   "metadata": {},
   "source": [
    "For OLS we need to be able to calculate the inverse. This is done with the `linalg` submodule. Create a new matrix that we can calculate the inverse on. Why can't we take the inverse of `x`?"
   ]
  },
  {
   "cell_type": "code",
   "execution_count": 56,
   "metadata": {},
   "outputs": [
    {
     "name": "stdout",
     "output_type": "stream",
     "text": [
      "[[1 2 3]\n",
      " [4 5 6]\n",
      " [7 8 9]]\n",
      "[[ 3.15251974e+15 -6.30503948e+15  3.15251974e+15]\n",
      " [-6.30503948e+15  1.26100790e+16 -6.30503948e+15]\n",
      " [ 3.15251974e+15 -6.30503948e+15  3.15251974e+15]]\n",
      "-7.000000000000001\n",
      "3\n",
      "[[-1.14285714  0.71428571  0.14285714]\n",
      " [ 0.14285714  0.28571429 -0.14285714]\n",
      " [ 1.85714286 -1.28571429  0.14285714]]\n"
     ]
    }
   ],
   "source": [
    "matrix = np.arange(1,10)# FILL IN HERE\n",
    "maxtrx2 = np.reshape(x,(3,3))\n",
    "print(maxtrx2)\n",
    "import numpy.linalg as linalg\n",
    "print(linalg.inv(maxtrx2))\n",
    "\n",
    "\n",
    "A = np.array([[1,2,1],[2,3,1],[5,1,3]], dtype=float)\n",
    "print(np.linalg.det(A))         # 0.0  -> singular\n",
    "print(np.linalg.matrix_rank(A)) # 2\n",
    "\n",
    "A_pinv = np.linalg.pinv(A)\n",
    "print(A_pinv)"
   ]
  },
  {
   "cell_type": "markdown",
   "metadata": {},
   "source": [
    "What do we normally need to check before we take the inverse? What `numpy.linalg` methods can we use to help us check for this?"
   ]
  },
  {
   "cell_type": "code",
   "execution_count": null,
   "metadata": {},
   "outputs": [],
   "source": []
  },
  {
   "cell_type": "code",
   "execution_count": null,
   "metadata": {},
   "outputs": [
    {
     "name": "stdout",
     "output_type": "stream",
     "text": [
      "-7.000000000000001\n",
      "3\n"
     ]
    }
   ],
   "source": [
    "# FILL IN HERE\n",
    "print(np.linalg.det(A))\n",
    "print(np.linalg.matrix_rank(A))"
   ]
  },
  {
   "cell_type": "markdown",
   "metadata": {},
   "source": [
    "### Stack vectors or matrices together\n",
    "If you have several 1-D vectors (has the shape (k,)), you can use `np.column_stack()` to get a matrix with the input vectors put together as column.\n",
    "\n",
    "If you have matrices (or arrays) that are multidimensional (have the shape (k, t)), you can use `np.hstack()` (means horizontal stack). This is very useful if you already have a matrix, and you want to add a vector.\n",
    "\n",
    "(i) Try to make a matrix with two `row` vectors, this should give you a $9 \\times 2$ vector.\n",
    "\n",
    "(ii) Make a new vector, and add it to the `x` matrix. This should then be a $3 \\times 4$ matrix"
   ]
  },
  {
   "cell_type": "code",
   "execution_count": 65,
   "metadata": {},
   "outputs": [
    {
     "name": "stdout",
     "output_type": "stream",
     "text": [
      "[[1 1]\n",
      " [2 2]\n",
      " [3 3]\n",
      " [4 4]\n",
      " [5 5]\n",
      " [6 6]\n",
      " [7 7]\n",
      " [8 8]\n",
      " [9 9]]\n",
      "[1 2 3 4 5 6 7 8 9]\n"
     ]
    }
   ],
   "source": [
    "x1 = np.arange(1,10)# FILL IN HERE\n",
    "x2 = np.arange(1,10)\n",
    "\n",
    "x3 = np.column_stack((x1,x2))\n",
    "print(x3)\n",
    "print(x1)\n",
    "\n"
   ]
  },
  {
   "cell_type": "code",
   "execution_count": 73,
   "metadata": {},
   "outputs": [
    {
     "name": "stdout",
     "output_type": "stream",
     "text": [
      "[[1 2 3 1]\n",
      " [4 5 6 2]\n",
      " [7 8 9 3]]\n"
     ]
    }
   ],
   "source": [
    "x4 = np.arange(1,4)\n",
    "x5 = np.column_stack((y,x4))# FILL IN HERE\n",
    "print(x5)"
   ]
  },
  {
   "cell_type": "markdown",
   "metadata": {},
   "source": [
    "### Other methods that you need to know.\n",
    "The numpy library is vast. Some other methods that are useful are `ones`, `diag`, `diagonal`, `eye`."
   ]
  },
  {
   "cell_type": "markdown",
   "metadata": {},
   "source": [
    "## Exercise 1 - Data generation\n",
    "### 1.1 \n",
    "Create a synthetic dataset with the following characteristics\n",
    "\n",
    "\\begin{align}\n",
    "    y_i &= \\beta_0 + x_{1i}\\beta_1 + x_{2i}\\beta_2 + \\varepsilon_i\n",
    "\\end{align}\n",
    "\n",
    "where $\\beta_0=1$, $\\beta_1 = -0.5$, $\\beta_2 = 2$, $x_{1i} \\sim \\mathcal{N}(0, 4)$, $x_{2i} \\sim \\mathcal{N}(5, 9)$, $\\varepsilon_i \\sim \\mathcal{N}(0, 1)$, and $(x_{1i},x_{2i})$ and $\\varepsilon_i$ are independent, and where $i = 0, ..., 99$. <br>"
   ]
  },
  {
   "cell_type": "code",
   "execution_count": 5,
   "metadata": {},
   "outputs": [
    {
     "name": "stdout",
     "output_type": "stream",
     "text": [
      "(100, 1)\n",
      "(100, 3)\n"
     ]
    }
   ],
   "source": [
    "# Create a seed to always have identical draws.\n",
    "seed = 42\n",
    "# Instance a random number generator using this seed.\n",
    "rng = random.default_rng(seed=seed)\n",
    "n = 100\n",
    "b = np.array([1, -0.5, 2]).reshape(-1, 1)\n",
    "\n",
    "# Make random draws from a normal distribution.\n",
    "def random_draws(n):\n",
    "    x0 = np.ones((n,1)).reshape(-1,1)# FILL IN HERE\n",
    "    x1 = np.array(rng.normal(loc=0, scale=4, size=n)).reshape(-1,1)# FILL IN HERE\n",
    "    x2 = np.array(rng.normal(loc=5, scale=5, size=n)).reshape(-1,1)# FILL IN HERE\n",
    "    eps = np.array(rng.normal(loc=0, scale=1, size=n)).reshape(-1,1)# FILL IN HERE\n",
    "    \n",
    "    # Stack the single columns into a matrix, \n",
    "    X = np.column_stack([x0,x1,x2])# FILL IN HERE\n",
    "    \n",
    "    return X, eps\n",
    "\n",
    "X, eps = random_draws(n)\n",
    "\n",
    "# Create y using the betas, X and eps.\n",
    "y = X.dot(b)+eps# FILL IN HERE\n",
    "\n",
    "# Does y have the dimensions you expect?\n",
    "print(y.shape)\n",
    "print(X.shape)\n"
   ]
  },
  {
   "cell_type": "markdown",
   "metadata": {},
   "source": [
    "### 1.2 \n",
    "Imagine that you had not generated the dataset yourself, but that you were given a similar data set that was already collected (generated) and ready to analyze. What would you observe and not observe in that data set?"
   ]
  },
  {
   "cell_type": "markdown",
   "metadata": {},
   "source": [
    "We can observe y_i and x_i but not beta or epsilon. These must be estimated."
   ]
  },
  {
   "cell_type": "markdown",
   "metadata": {},
   "source": [
    "## Exercise 2 - OLS\n",
    "### 2.1\n",
    "Remember the mathematical equation for OLS estimation, as we will later use it to estimate the beta coefficients with the data from the previous exercise.<br>\n",
    "**Write out the OLS estimator in matrix form:**\n"
   ]
  },
  {
   "cell_type": "markdown",
   "metadata": {},
   "source": [
    "$\\hat{\\boldsymbol{\\beta}} = (\\N^{-1}\\sum_{i=1}^n x'_i x_i )^{-1} (\\N^{-1}\\sum_{i=1}^n x'_i y_i)$ "
   ]
  },
  {
   "cell_type": "markdown",
   "metadata": {},
   "source": [
    "*Hint: Look it up on p.57 in Wooldridge*"
   ]
  },
  {
   "cell_type": "markdown",
   "metadata": {},
   "source": [
    "### 2.2\n",
    "To perform inference on the OLS estimators, we need to calculate the standard errors for the previously estimates OLS coefficients. Again, make sure you remember its equation, *and write up the OLS standard errors in matrix form:*"
   ]
  },
  {
   "cell_type": "markdown",
   "metadata": {},
   "source": [
    "$\\mathbf{\\widehat{Var(\\boldsymbol{\\hat{\\beta}})}} = \\hat{\\sigma}^2 E(X'X)^{-1}$, for $\\hat{\\sigma}^2 =  \\frac{1}{N-K} \\sum_{i=1}^{N} \\hat{u}_i^2$, <br>\n",
    "\n",
    "where $SSR = \\sum_{i=0}^{N - 1} \\hat{u}^2_i$, $N$ is the number of observations, and $K$ is the number of explanatory variables including the constant."
   ]
  },
  {
   "cell_type": "markdown",
   "metadata": {},
   "source": [
    "*Hint: Look it up on p.60 in Wooldridge* <br>\n",
    "*Hint: Remember that the variance estimate is a function of $\\hat{\\sigma}^2$, which is calculated using SSR*"
   ]
  },
  {
   "cell_type": "markdown",
   "metadata": {},
   "source": [
    "### 2.3\n",
    "Estimate $\\boldsymbol{\\hat{\\beta}}$ from the synthetic data set. Furthermore, calculate standard errors and t-values (assuming that the assumptions of the classical linear regression model are satisfied)."
   ]
  },
  {
   "cell_type": "code",
   "execution_count": 18,
   "metadata": {},
   "outputs": [],
   "source": [
    "def ols_estimation(y, X):\n",
    "    # Make sure that y and X are 2-D.\n",
    "    y = y.reshape(-1, 1)\n",
    "    if len(X.shape)<2:\n",
    "        X = X.reshape(-1, 1)\n",
    "\n",
    "    # Estimate beta\n",
    "    b_hat = np.linalg.inv(X.T @ X) @ (X.T @ y) # Fill in here\n",
    "\n",
    "    # Calculate standard errors\n",
    "    residual = y - X.dot(b_hat)# Fill in here\n",
    "    sigma = ((residual.T @ residual) / (n - X.shape[1])).item()\n",
    "    varb = sigma**2 * np.linalg.inv(X.T@X).diagonal()# Fill in here\n",
    "    se = varb**2# Fill in here\n",
    "\n",
    "    # Calculate t-values\n",
    "    t_values = b_hat/se\n",
    "    \n",
    "    return b_hat, se, t_values\n",
    "\n",
    "b_hat, se, t_values = ols_estimation(y, X)"
   ]
  },
  {
   "cell_type": "markdown",
   "metadata": {},
   "source": [
    "Python stores vectors as one-dimensional rather than two-dimensional objects. This can sometimes cause havoc when we want to compute matrix products. Compute the outer and inner products of the residuals from above using np.inner() and np.outer(). Compare these with your computed outer and inner products when using matrix multiplication @. When computing outer and inner products of a column vector, a, recall that a'a is the inner product and aa' is the outer product."
   ]
  },
  {
   "cell_type": "code",
   "execution_count": 11,
   "metadata": {},
   "outputs": [
    {
     "name": "stdout",
     "output_type": "stream",
     "text": [
      "res shape:          (100, 1)\n",
      "inner shape:        (100, 100)\n",
      "outer shape:        (100, 100)\n",
      "matmul_inner shape: (1, 1)\n",
      "matmul_outer shape: (100, 100)\n"
     ]
    }
   ],
   "source": [
    "res = y - X@b_hat# FILL IN HERE\n",
    "inner = np.inner(res, res)# FILL IN HERE\n",
    "outer = np.outer(res, res)# FILL IN HERE\n",
    "matmul_inner = res.T@res# FILL IN HERE\n",
    "matmul_outer = res@res.T# FILL IN HERE\n",
    "\n",
    "print('res shape:         ', res.shape)\n",
    "print('inner shape:       ', inner.shape)\n",
    "print('outer shape:       ', outer.shape)\n",
    "print('matmul_inner shape:', matmul_inner.shape)\n",
    "print('matmul_outer shape:', matmul_outer.shape)"
   ]
  },
  {
   "cell_type": "markdown",
   "metadata": {},
   "source": [
    "Now if we flatten the residuals to be stored in Python's default mode (i.e. one-dimensional) what happens?"
   ]
  },
  {
   "cell_type": "code",
   "execution_count": 12,
   "metadata": {},
   "outputs": [
    {
     "name": "stdout",
     "output_type": "stream",
     "text": [
      "res shape:          (100,)\n",
      "inner shape:        ()\n",
      "outer shape:        (100, 100)\n",
      "matmul_inner shape: ()\n",
      "matmul_outer shape: ()\n"
     ]
    }
   ],
   "source": [
    "res = res.flatten()\n",
    "inner = np.inner(res, res) # FILL IN HERE\n",
    "outer = np.outer(res, res)# FILL IN HERE\n",
    "matmul_inner = res.T@res# FILL IN HERE\n",
    "matmul_outer = res@res.T# FILL IN HERE\n",
    "\n",
    "print('res shape:         ', res.shape)\n",
    "print('inner shape:       ', inner.shape)\n",
    "print('outer shape:       ', outer.shape)\n",
    "print('matmul_inner shape:', matmul_inner.shape)\n",
    "print('matmul_outer shape:', matmul_outer.shape)"
   ]
  },
  {
   "cell_type": "markdown",
   "metadata": {},
   "source": [
    "I have written a code to print a table, using the `tabulate` package. You will need to add the row names for this code to work - each row contains a information about the different coefficients on the explanatory variables."
   ]
  },
  {
   "cell_type": "code",
   "execution_count": 19,
   "metadata": {},
   "outputs": [
    {
     "name": "stdout",
     "output_type": "stream",
     "text": [
      "OLS Estimates:\n",
      "\n",
      "              β      β̂      Se  t-value\n",
      "---------  ----  ------  -----  -------------------------------------------------\n",
      "Intercept   1.0   0.923  0.001  [1.65893139e+03 6.29276420e+05 3.88652304e+06]\n",
      "x1         -0.5  -0.503  0.000  [-9.03455618e+02 -3.42704540e+05 -2.11660416e+06]\n",
      "x2          2.0   2.003  0.000  [3.59960673e+03 1.36542575e+06 8.43311217e+06]\n"
     ]
    }
   ],
   "source": [
    "def print_table(row_names, b, b_hat, se, t_values):\n",
    "    table = []\n",
    "\n",
    "    # Make a list, where each row contains the estimated and calculated values.\n",
    "    for index, name in enumerate(row_names):\n",
    "        table_row = [\n",
    "            name, b[index], b_hat[index], se[index], t_values[index]\n",
    "        ]\n",
    "        table.append(table_row)\n",
    "\n",
    "    # Print the list using the tabulate class.\n",
    "    headers = ['', '\\u03b2', '\\u03b2\\u0302 ', 'Se', 't-value']\n",
    "    print('OLS Estimates:\\n')\n",
    "    print(tabulate(table, headers, floatfmt=['', '.1f', '.3f', '.3f', '.1f']))\n",
    "\n",
    "row_names = ['Intercept', 'x1', 'x2']# Fill in here\n",
    "print_table(row_names, b, b_hat, se, t_values)"
   ]
  },
  {
   "cell_type": "markdown",
   "metadata": {},
   "source": [
    "Alternatively, you can print a table which you can paste straight into latex using the following code. This uses panda data frames  which we'll cover next week."
   ]
  },
  {
   "cell_type": "code",
   "execution_count": 20,
   "metadata": {},
   "outputs": [
    {
     "name": "stdout",
     "output_type": "stream",
     "text": [
      "\\begin{tabular}{lllrl}\n",
      " & β & β̂ & se & t-values \\\\\n",
      "beta1 & [1.] & [0.923] & 0.000600 & [1.65893140e+03 6.29276420e+05 3.88652304e+06] \\\\\n",
      "beta2 & [-0.5] & [-0.5027] & 0.000000 & [-9.03455600e+02 -3.42704540e+05 -2.11660416e+06] \\\\\n",
      "beta3 & [2.] & [2.0028] & 0.000000 & [3.59960670e+03 1.36542575e+06 8.43311217e+06] \\\\\n",
      "\\end{tabular}\n",
      "\n"
     ]
    }
   ],
   "source": [
    "import pandas as pd\n",
    "dat = pd.DataFrame(zip(b,b_hat.round(4),se.round(4),t_values.round(4)))\n",
    "dat.columns = ['\\u03b2','\\u03b2\\u0302','se','t-values']\n",
    "dat.index = ['beta1','beta2','beta3']\n",
    "print(dat.style.to_latex())"
   ]
  },
  {
   "cell_type": "markdown",
   "metadata": {},
   "source": [
    "## Exercise 3 - a simple Monte Carlo Experiment\n",
    "Carry out a Monte Carlo experiment with $S = 200$ replications and $N = 100$ observations to check if the OLS estimator provides an unbiased estimate of $\\boldsymbol{\\beta}$\n",
    "### 3.1\n",
    "Generate 200 data sets similar to what you did in exercise 1, and estimate $\\boldsymbol{\\beta}$ on each of them."
   ]
  },
  {
   "cell_type": "markdown",
   "metadata": {},
   "source": [
    "*Hint:* Start by making prefilling two arrays using `np.zeros`, one array to store the estimated beta coefficients, and one to store the estimated standard errors. What shape should these arrays have?\n",
    "\n",
    "Then make a loop where each loop makes a random draw, and then estimates on this random draw. And finally stores the estimated coefficients and standard errors."
   ]
  },
  {
   "cell_type": "code",
   "execution_count": 21,
   "metadata": {},
   "outputs": [],
   "source": [
    "# Initialize the variables and lists\n",
    "s = 200\n",
    "n = 100\n",
    "\n",
    "# Allocate memory for arrays to later fill\n",
    "b_coeffs = np.zeros((s, b.size))\n",
    "b_ses = np.zeros((s, b.size))\n",
    "\n",
    "for i in range(s):\n",
    "    # Generate data\n",
    "    X, eps = random_draws(n)# Fill in here\n",
    "    y = X@b + eps# Fill in here\n",
    "\n",
    "\n",
    "    # Estimate coefficients and variance\n",
    "    b_hat, se, t_values = ols_estimation(y, X)\n",
    "\n",
    "    # Store estimates\n",
    "    b_coeffs[i, :] = b_hat.flatten()# Fill in here\n",
    "    b_ses[i, :] = se # Fill in here\n",
    "\n",
    "# Make sure that there are no more zeros left in the arrays.\n",
    "assert np.all(b_coeffs) and np.all(b_ses), 'Not all coefficients or standard errors are non-zero.'"
   ]
  },
  {
   "cell_type": "markdown",
   "metadata": {},
   "source": [
    "### 3.2\n",
    "Do the following three calculations:\n",
    "- Calculate the means of the estimates (means across simulations)\n",
    "- Calculate the means of the standard errors (means across simulations)\n",
    "- Calculate the standard error of the MC estimates"
   ]
  },
  {
   "cell_type": "code",
   "execution_count": 22,
   "metadata": {},
   "outputs": [],
   "source": [
    "mean_b_hat = np.mean(b_coeffs, axis=0)\n",
    "mean_b_se = np.mean(b_ses, axis=0)\n",
    "mean_mc_se = np.std(b_coeffs, axis=0, ddof=1)# Fill in here"
   ]
  },
  {
   "cell_type": "markdown",
   "metadata": {},
   "source": [
    "### 3.3\n",
    "Draw a histogram for the 200 estimates of $\\beta_1$. This can be done using matplotlib with the method `plt.hist()`."
   ]
  },
  {
   "cell_type": "code",
   "execution_count": 23,
   "metadata": {},
   "outputs": [
    {
     "data": {
      "image/png": "[encoded data removed]",
      "text/plain": [
       "<Figure size 640x480 with 1 Axes>"
      ]
     },
     "metadata": {},
     "output_type": "display_data"
    }
   ],
   "source": [
    "plt.hist(b_coeffs[:, 1], bins=20, edgecolor='black')\n",
    "plt.xlabel('Estimates of $\\\\beta_1$')\n",
    "plt.ylabel('Frequency')\n",
    "plt.title('Histogram of $\\\\beta_1$ Estimates (Monte Carlo)')\n",
    "plt.show()# Fill in here"
   ]
  }
 ],
 "metadata": {
  "kernelspec": {
   "display_name": "base",
   "language": "python",
   "name": "python3"
  },
  "language_info": {
   "codemirror_mode": {
    "name": "ipython",
    "version": 3
   },
   "file_extension": ".py",
   "mimetype": "text/x-python",
   "name": "python",
   "nbconvert_exporter": "python",
   "pygments_lexer": "ipython3",
   "version": "3.11.7"
  }
 },
 "nbformat": 4,
 "nbformat_minor": 2
}
