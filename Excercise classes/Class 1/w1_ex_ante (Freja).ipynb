{
 "cells": [
  {
   "cell_type": "markdown",
   "metadata": {},
   "source": [
    "# Week 1 \n",
    "\n",
    "The purpose of this week's exercise is twofold: First, to introduce you to Numpy and making you familiar with the library and some of its pitfalls. Second, you will apply this to estimate the linear model using OLS."
   ]
  },
  {
   "cell_type": "markdown",
   "metadata": {},
   "source": [
    "(Jupyter Basics) A few things to note about Jupyter Notebook (ipynb files). (1) Notebooks may run cells individually by selecting a cell and using ctrl + enter. (2) Each notebook runs on a kernel which is selected by the user the first time a cell is run. (3) The kernel \"stores\" variables as the code is run. To utilize code in a proceeding cell, it is neccessary to run the previous cell. Be careful with overlapping variable names across cells. It becomes messy to clean up.\n",
    "\n",
    "* The kernel is your installation of Python. Make sure your installation of Python is visible to your environment."
   ]
  },
  {
   "cell_type": "markdown",
   "metadata": {},
   "source": [
    "Please note that some of the exercises are purposefully made to return errors. Take the time to identify why they occur."
   ]
  },
  {
   "cell_type": "markdown",
   "metadata": {},
   "source": [
    "## A short introduction to Numpy and Linear Algebra (Linalg)\n",
    "First, import all necessary packages. If you are missing a package, you can either install it through your terminal using pip, or an Anaconda terminal using conda."
   ]
  },
  {
   "cell_type": "code",
   "execution_count": 1,
   "metadata": {},
   "outputs": [],
   "source": [
    "import numpy as np # We import the package numpy and name it \"np\"\n",
    "from numpy import linalg as la \n",
    "# We import the subpackage linalg from numpy and name it \"la\". \n",
    "# In most cases, importing a subpackage is not neccessary when the overarching package has been imported, \n",
    "# although lacking dependencies may change functionality in some cases.\n",
    "from numpy import random as random\n",
    "from tabulate import tabulate\n",
    "#(NB if you havent got tabulate yet, install it using !pip install tabulate)\n",
    "from matplotlib import pyplot as plt"
   ]
  },
  {
   "cell_type": "markdown",
   "metadata": {},
   "source": [
    "### Entering matrices manually\n",
    "To create a $1\\times9$ *row* vector write,"
   ]
  },
  {
   "cell_type": "code",
   "execution_count": 2,
   "metadata": {},
   "outputs": [
    {
     "name": "stdout",
     "output_type": "stream",
     "text": [
      "[1 2 3 4 5 6 7 8 9]\n"
     ]
    }
   ],
   "source": [
    "row = np.array([1, 2, 3, 4, 5, 6, 7, 8, 9])\n",
    "print(row)"
   ]
  },
  {
   "cell_type": "markdown",
   "metadata": {},
   "source": [
    "To create a $9\\times1$ *column* vector write,"
   ]
  },
  {
   "cell_type": "code",
   "execution_count": 3,
   "metadata": {},
   "outputs": [
    {
     "name": "stdout",
     "output_type": "stream",
     "text": [
      "[[1]\n",
      " [2]\n",
      " [3]\n",
      " [4]\n",
      " [5]\n",
      " [6]\n",
      " [7]\n",
      " [8]\n",
      " [9]]\n"
     ]
    }
   ],
   "source": [
    "col = np.array([[1], [2], [3], [4], [5], [6], [7], [8], [9]])\n",
    "print(col)"
   ]
  },
  {
   "cell_type": "markdown",
   "metadata": {},
   "source": [
    "An easier method is to define a row vector, and transpose it. Notice the double [[]]. Try to see what happens if you transpose a row vector using only []."
   ]
  },
  {
   "cell_type": "code",
   "execution_count": 4,
   "metadata": {},
   "outputs": [
    {
     "name": "stdout",
     "output_type": "stream",
     "text": [
      "[[1]\n",
      " [2]\n",
      " [3]\n",
      " [4]\n",
      " [5]\n",
      " [6]\n",
      " [7]\n",
      " [8]\n",
      " [9]]\n"
     ]
    }
   ],
   "source": [
    "col = np.array([[1, 2, 3, 4, 5, 6, 7, 8, 9]]).T\n",
    "print(col)"
   ]
  },
  {
   "cell_type": "markdown",
   "metadata": {},
   "source": [
    "**A short note on numpy vectors**\n",
    "Numpy does not treat vectors and matrices the same. A *true* numpy vector has the shape (k,), . The shape of a numpy array is an attribute, how do you call this attribute for the `row` and `col` arrays? What is the shape of the `row.T` array? "
   ]
  },
  {
   "cell_type": "code",
   "execution_count": 5,
   "metadata": {},
   "outputs": [
    {
     "data": {
      "text/plain": [
       "(1, 9)"
      ]
     },
     "execution_count": 5,
     "metadata": {},
     "output_type": "execute_result"
    }
   ],
   "source": [
    "# Call the shape attribute for the row and col vars. Check the shape of col.T\n",
    "# FILL IN HERE\n",
    "col.T.shape"
   ]
  },
  {
   "cell_type": "markdown",
   "metadata": {},
   "source": [
    "To create a matrix, you combine what you have learned to manually create a $3 \\times 3$ matrix called x, that has the numbers 0 to 8."
   ]
  },
  {
   "cell_type": "code",
   "execution_count": 6,
   "metadata": {},
   "outputs": [
    {
     "name": "stdout",
     "output_type": "stream",
     "text": [
      "[[0 1 2]\n",
      " [3 4 5]\n",
      " [6 7 8]]\n"
     ]
    }
   ],
   "source": [
    "#Create 3x3 matrix called x that has the numbers 0 to 8\n",
    "x = np.array([[0, 1, 2], [3, 4, 5], [6, 7, 8]])\n",
    "print(x)"
   ]
  },
  {
   "cell_type": "markdown",
   "metadata": {},
   "source": [
    "Create the same $3 \\times 3$ using `np.arange()` and np.reshape()"
   ]
  },
  {
   "cell_type": "code",
   "execution_count": 7,
   "metadata": {},
   "outputs": [
    {
     "name": "stdout",
     "output_type": "stream",
     "text": [
      "[[0 1 2]\n",
      " [3 4 5]\n",
      " [6 7 8]]\n"
     ]
    }
   ],
   "source": [
    "x = x = np.arange(9).reshape(3,3)\n",
    "print(x)"
   ]
  },
  {
   "cell_type": "markdown",
   "metadata": {},
   "source": [
    "### Matrix calculations \n",
    "There are several types of matrix calculations available to us with the numpy library, and we will introduce some here.\n",
    "\n",
    "For matrix **multiplication** you can for the matrices `a` and `b` use `a@b`, `np.dot(a, b)` or `a.dot(b)`\n",
    "\n",
    "Perform matrix multiplication on the following:\n",
    "- `row`$\\cdot$`row'`, `row'`$\\cdot$`row`, `row`$\\cdot$`row`;\n",
    "- `col`$\\cdot$`col'`, `col'`$\\cdot$`col`, `col`$\\cdot$`col`;\n",
    "- `x`$\\cdot$`x`, `row`$\\cdot$`col'`, `col`$\\cdot$`row'`.\n",
    "\n",
    "Does the `row` vector behave as you would expect?"
   ]
  },
  {
   "cell_type": "code",
   "execution_count": 8,
   "metadata": {},
   "outputs": [
    {
     "name": "stdout",
     "output_type": "stream",
     "text": [
      "285\n",
      "285\n",
      "285\n"
     ]
    }
   ],
   "source": [
    "print(row@row.T)\n",
    "print(row.T@row)\n",
    "print(row@row)"
   ]
  },
  {
   "cell_type": "code",
   "execution_count": 9,
   "metadata": {},
   "outputs": [
    {
     "name": "stdout",
     "output_type": "stream",
     "text": [
      "[[ 1  2  3  4  5  6  7  8  9]\n",
      " [ 2  4  6  8 10 12 14 16 18]\n",
      " [ 3  6  9 12 15 18 21 24 27]\n",
      " [ 4  8 12 16 20 24 28 32 36]\n",
      " [ 5 10 15 20 25 30 35 40 45]\n",
      " [ 6 12 18 24 30 36 42 48 54]\n",
      " [ 7 14 21 28 35 42 49 56 63]\n",
      " [ 8 16 24 32 40 48 56 64 72]\n",
      " [ 9 18 27 36 45 54 63 72 81]]\n",
      "[[285]]\n"
     ]
    }
   ],
   "source": [
    "print(col@col.T)\n",
    "print(col.T@col)\n",
    "#print(col@col)"
   ]
  },
  {
   "cell_type": "code",
   "execution_count": 28,
   "metadata": {},
   "outputs": [
    {
     "name": "stdout",
     "output_type": "stream",
     "text": [
      "[[ 15  18  21]\n",
      " [ 42  54  66]\n",
      " [ 69  90 111]]\n",
      "[1 2 3 4 5 6 7 8 9]\n",
      "[[1 2 3 4 5 6 7 8 9]]\n"
     ]
    }
   ],
   "source": [
    "print(x@x)\n",
    "#print(row@col.T)\n",
    "#print(col@row.T)\n",
    "print(row)\n",
    "print(col.T)"
   ]
  },
  {
   "cell_type": "markdown",
   "metadata": {},
   "source": [
    "What happens if you use `*` and `/` operators on the same pairs as above? Does the `col` vector behave as you would expect?"
   ]
  },
  {
   "cell_type": "code",
   "execution_count": 10,
   "metadata": {},
   "outputs": [
    {
     "name": "stdout",
     "output_type": "stream",
     "text": [
      "[[ 1  4  9 16 25 36 49 64 81]]\n",
      "[ 1  4  9 16 25 36 49 64 81]\n",
      "[ 1  4  9 16 25 36 49 64 81]\n",
      "[1. 1. 1. 1. 1. 1. 1. 1. 1.]\n",
      "[1. 1. 1. 1. 1. 1. 1. 1. 1.]\n",
      "[1. 1. 1. 1. 1. 1. 1. 1. 1.]\n"
     ]
    }
   ],
   "source": [
    "print(row*col.T)\n",
    "print(row.T*row)\n",
    "print(row*row)\n",
    "print(row/row.T)\n",
    "print(row.T/row)\n",
    "print(row/row)"
   ]
  },
  {
   "cell_type": "code",
   "execution_count": 30,
   "metadata": {},
   "outputs": [
    {
     "name": "stdout",
     "output_type": "stream",
     "text": [
      "[[ 1  2  3  4  5  6  7  8  9]\n",
      " [ 2  4  6  8 10 12 14 16 18]\n",
      " [ 3  6  9 12 15 18 21 24 27]\n",
      " [ 4  8 12 16 20 24 28 32 36]\n",
      " [ 5 10 15 20 25 30 35 40 45]\n",
      " [ 6 12 18 24 30 36 42 48 54]\n",
      " [ 7 14 21 28 35 42 49 56 63]\n",
      " [ 8 16 24 32 40 48 56 64 72]\n",
      " [ 9 18 27 36 45 54 63 72 81]]\n",
      "[[ 1]\n",
      " [ 4]\n",
      " [ 9]\n",
      " [16]\n",
      " [25]\n",
      " [36]\n",
      " [49]\n",
      " [64]\n",
      " [81]]\n",
      "[[1.         0.5        0.33333333 0.25       0.2        0.16666667\n",
      "  0.14285714 0.125      0.11111111]\n",
      " [2.         1.         0.66666667 0.5        0.4        0.33333333\n",
      "  0.28571429 0.25       0.22222222]\n",
      " [3.         1.5        1.         0.75       0.6        0.5\n",
      "  0.42857143 0.375      0.33333333]\n",
      " [4.         2.         1.33333333 1.         0.8        0.66666667\n",
      "  0.57142857 0.5        0.44444444]\n",
      " [5.         2.5        1.66666667 1.25       1.         0.83333333\n",
      "  0.71428571 0.625      0.55555556]\n",
      " [6.         3.         2.         1.5        1.2        1.\n",
      "  0.85714286 0.75       0.66666667]\n",
      " [7.         3.5        2.33333333 1.75       1.4        1.16666667\n",
      "  1.         0.875      0.77777778]\n",
      " [8.         4.         2.66666667 2.         1.6        1.33333333\n",
      "  1.14285714 1.         0.88888889]\n",
      " [9.         4.5        3.         2.25       1.8        1.5\n",
      "  1.28571429 1.125      1.        ]]\n",
      "[[1.         2.         3.         4.         5.         6.\n",
      "  7.         8.         9.        ]\n",
      " [0.5        1.         1.5        2.         2.5        3.\n",
      "  3.5        4.         4.5       ]\n",
      " [0.33333333 0.66666667 1.         1.33333333 1.66666667 2.\n",
      "  2.33333333 2.66666667 3.        ]\n",
      " [0.25       0.5        0.75       1.         1.25       1.5\n",
      "  1.75       2.         2.25      ]\n",
      " [0.2        0.4        0.6        0.8        1.         1.2\n",
      "  1.4        1.6        1.8       ]\n",
      " [0.16666667 0.33333333 0.5        0.66666667 0.83333333 1.\n",
      "  1.16666667 1.33333333 1.5       ]\n",
      " [0.14285714 0.28571429 0.42857143 0.57142857 0.71428571 0.85714286\n",
      "  1.         1.14285714 1.28571429]\n",
      " [0.125      0.25       0.375      0.5        0.625      0.75\n",
      "  0.875      1.         1.125     ]\n",
      " [0.11111111 0.22222222 0.33333333 0.44444444 0.55555556 0.66666667\n",
      "  0.77777778 0.88888889 1.        ]]\n",
      "[[1.]\n",
      " [1.]\n",
      " [1.]\n",
      " [1.]\n",
      " [1.]\n",
      " [1.]\n",
      " [1.]\n",
      " [1.]\n",
      " [1.]]\n"
     ]
    }
   ],
   "source": [
    "print(col.T*col)\n",
    "print(col*col)\n",
    "print(col/col.T)\n",
    "print(col.T/col)\n",
    "print(col/col)"
   ]
  },
  {
   "cell_type": "code",
   "execution_count": 11,
   "metadata": {},
   "outputs": [
    {
     "name": "stdout",
     "output_type": "stream",
     "text": [
      "[[ 1  2  3  4  5  6  7  8  9]\n",
      " [ 2  4  6  8 10 12 14 16 18]\n",
      " [ 3  6  9 12 15 18 21 24 27]\n",
      " [ 4  8 12 16 20 24 28 32 36]\n",
      " [ 5 10 15 20 25 30 35 40 45]\n",
      " [ 6 12 18 24 30 36 42 48 54]\n",
      " [ 7 14 21 28 35 42 49 56 63]\n",
      " [ 8 16 24 32 40 48 56 64 72]\n",
      " [ 9 18 27 36 45 54 63 72 81]]\n",
      "[[ 1  2  3  4  5  6  7  8  9]\n",
      " [ 2  4  6  8 10 12 14 16 18]\n",
      " [ 3  6  9 12 15 18 21 24 27]\n",
      " [ 4  8 12 16 20 24 28 32 36]\n",
      " [ 5 10 15 20 25 30 35 40 45]\n",
      " [ 6 12 18 24 30 36 42 48 54]\n",
      " [ 7 14 21 28 35 42 49 56 63]\n",
      " [ 8 16 24 32 40 48 56 64 72]\n",
      " [ 9 18 27 36 45 54 63 72 81]]\n",
      "[[nan  1.  1.]\n",
      " [ 1.  1.  1.]\n",
      " [ 1.  1.  1.]]\n",
      "[[1.         2.         3.         4.         5.         6.\n",
      "  7.         8.         9.        ]\n",
      " [0.5        1.         1.5        2.         2.5        3.\n",
      "  3.5        4.         4.5       ]\n",
      " [0.33333333 0.66666667 1.         1.33333333 1.66666667 2.\n",
      "  2.33333333 2.66666667 3.        ]\n",
      " [0.25       0.5        0.75       1.         1.25       1.5\n",
      "  1.75       2.         2.25      ]\n",
      " [0.2        0.4        0.6        0.8        1.         1.2\n",
      "  1.4        1.6        1.8       ]\n",
      " [0.16666667 0.33333333 0.5        0.66666667 0.83333333 1.\n",
      "  1.16666667 1.33333333 1.5       ]\n",
      " [0.14285714 0.28571429 0.42857143 0.57142857 0.71428571 0.85714286\n",
      "  1.         1.14285714 1.28571429]\n",
      " [0.125      0.25       0.375      0.5        0.625      0.75\n",
      "  0.875      1.         1.125     ]\n",
      " [0.11111111 0.22222222 0.33333333 0.44444444 0.55555556 0.66666667\n",
      "  0.77777778 0.88888889 1.        ]]\n",
      "[[1.         0.5        0.33333333 0.25       0.2        0.16666667\n",
      "  0.14285714 0.125      0.11111111]\n",
      " [2.         1.         0.66666667 0.5        0.4        0.33333333\n",
      "  0.28571429 0.25       0.22222222]\n",
      " [3.         1.5        1.         0.75       0.6        0.5\n",
      "  0.42857143 0.375      0.33333333]\n",
      " [4.         2.         1.33333333 1.         0.8        0.66666667\n",
      "  0.57142857 0.5        0.44444444]\n",
      " [5.         2.5        1.66666667 1.25       1.         0.83333333\n",
      "  0.71428571 0.625      0.55555556]\n",
      " [6.         3.         2.         1.5        1.2        1.\n",
      "  0.85714286 0.75       0.66666667]\n",
      " [7.         3.5        2.33333333 1.75       1.4        1.16666667\n",
      "  1.         0.875      0.77777778]\n",
      " [8.         4.         2.66666667 2.         1.6        1.33333333\n",
      "  1.14285714 1.         0.88888889]\n",
      " [9.         4.5        3.         2.25       1.8        1.5\n",
      "  1.28571429 1.125      1.        ]]\n"
     ]
    },
    {
     "name": "stderr",
     "output_type": "stream",
     "text": [
      "/var/folders/yb/2nwpczt56kvbrmb8klk29wfw0000gn/T/ipykernel_12154/1767398005.py:3: RuntimeWarning: invalid value encountered in divide\n",
      "  print(x/x)\n"
     ]
    }
   ],
   "source": [
    "print(row*col)\n",
    "print(col*row)\n",
    "print(x/x)\n",
    "print(row/col)\n",
    "print(col/row)"
   ]
  },
  {
   "cell_type": "markdown",
   "metadata": {},
   "source": [
    "For OLS we need to be able to calculate the inverse. This is done with the `linalg` submodule. Create a new matrix that we can calculate the inverse on. Why can't we take the inverse of `x`?"
   ]
  },
  {
   "cell_type": "code",
   "execution_count": 12,
   "metadata": {},
   "outputs": [
    {
     "name": "stdout",
     "output_type": "stream",
     "text": [
      "[[1 2 3]\n",
      " [0 1 4]\n",
      " [5 6 0]]\n",
      "[[-24.  18.   5.]\n",
      " [ 20. -15.  -4.]\n",
      " [ -5.   4.   1.]]\n"
     ]
    }
   ],
   "source": [
    "#Take the inverse of x\n",
    "#print(la.inv(x))\n",
    "\n",
    "#Create a new matrix that we can calculate the inverse of\n",
    "y = np.array([[1, 2, 3], [0, 1, 4], [5, 6, 0]])\n",
    "print(y)\n",
    "print(la.inv(y))"
   ]
  },
  {
   "cell_type": "markdown",
   "metadata": {},
   "source": [
    "What do we normally need to check before we take the inverse? What `numpy.linalg` methods can we use to help us check for this?"
   ]
  },
  {
   "cell_type": "code",
   "execution_count": 13,
   "metadata": {},
   "outputs": [
    {
     "name": "stdout",
     "output_type": "stream",
     "text": [
      "0.0\n",
      "0.9999999999999964\n"
     ]
    }
   ],
   "source": [
    "#Check the determinant of x\n",
    "print(la.det(x))\n",
    "#Check the determinant of y\n",
    "print(la.det(y))"
   ]
  },
  {
   "cell_type": "markdown",
   "metadata": {},
   "source": [
    "### Stack vectors or matrices together\n",
    "If you have several 1-D vectors (has the shape (k,)), you can use `np.column_stack()` to get a matrix with the input vectors put together as column.\n",
    "\n",
    "If you have matrices (or arrays) that are multidimensional (have the shape (k, t)), you can use `np.hstack()` (means horizontal stack). This is very useful if you already have a matrix, and you want to add a vector.\n",
    "\n",
    "(i) Try to make a matrix with two `row` vectors, this should give you a $9 \\times 2$ vector.\n",
    "\n",
    "(ii) Make a new vector, and add it to the `x` matrix. This should then be a $3 \\times 4$ matrix"
   ]
  },
  {
   "cell_type": "code",
   "execution_count": 40,
   "metadata": {},
   "outputs": [
    {
     "name": "stdout",
     "output_type": "stream",
     "text": [
      "[1 2 3]\n",
      "[4 5 6]\n",
      "[[1 4]\n",
      " [2 5]\n",
      " [3 6]]\n"
     ]
    }
   ],
   "source": [
    "#(i) Make a matrix with two row vectors with share (k,) using column stacking\n",
    "A = np.array([1, 2, 3])\n",
    "B = np.array([4, 5, 6])\n",
    "C = np.column_stack((A, B))\n",
    "print(A)\n",
    "print(B)\n",
    "print(C)"
   ]
  },
  {
   "cell_type": "code",
   "execution_count": 15,
   "metadata": {},
   "outputs": [
    {
     "name": "stdout",
     "output_type": "stream",
     "text": [
      "[[0 1 2 7]\n",
      " [3 4 5 8]\n",
      " [6 7 8 9]]\n"
     ]
    }
   ],
   "source": [
    "#Make a new vector, and add it to the `x` matrix. This should then be a $3 \\times 4$ matrix\n",
    "D = np.array([7, 8, 9]).reshape(-1, 1)  # form = (3,1)\n",
    "X = np.hstack((x, D))\n",
    "print(X)"
   ]
  },
  {
   "cell_type": "markdown",
   "metadata": {},
   "source": [
    "### Other methods that you need to know.\n",
    "The numpy library is vast. Some other methods that are useful are `ones`, `diag`, `diagonal`, `eye`."
   ]
  },
  {
   "cell_type": "markdown",
   "metadata": {},
   "source": [
    "## Exercise 1 - Data generation\n",
    "### 1.1 \n",
    "Create a synthetic dataset with the following characteristics\n",
    "\n",
    "\\begin{align}\n",
    "    y_i &= \\beta_0 + x_{1i}\\beta_1 + x_{2i}\\beta_2 + \\varepsilon_i\n",
    "\\end{align}\n",
    "\n",
    "where $\\beta_0=1$, $\\beta_1 = -0.5$, $\\beta_2 = 2$, $x_{1i} \\sim \\mathcal{N}(0, 4)$, $x_{2i} \\sim \\mathcal{N}(5, 9)$, $\\varepsilon_i \\sim \\mathcal{N}(0, 1)$, and $(x_{1i},x_{2i})$ and $\\varepsilon_i$ are independent, and where $i = 0, ..., 99$. <br>"
   ]
  },
  {
   "cell_type": "code",
   "execution_count": 17,
   "metadata": {},
   "outputs": [
    {
     "name": "stdout",
     "output_type": "stream",
     "text": [
      "(100, 1)\n",
      "(100, 3)\n"
     ]
    }
   ],
   "source": [
    "# Create a seed to always have identical draws.\n",
    "seed = 25\n",
    "# Instance a random number generator using this seed.\n",
    "rng = np.random.default_rng(seed=seed)\n",
    "n = 100\n",
    "beta = np.array([1, -0.5, 2]).reshape(-1, 1)\n",
    "\n",
    "# Make random draws from a normal distribution.\n",
    "def random_draws(n):\n",
    "    #draw x0 from a normal distribution with mean 0 and std 4\n",
    "    x0 = rng.normal(loc=0, scale=4, size=n).reshape(-1, 1)\n",
    "    #draw x1 from a normal distribution with mean 5 and std 9\n",
    "    x1 = rng.normal(loc=5, scale=9, size=n).reshape(-1, 1)\n",
    "    #draw the error term from a normal distribution with mean 0 and std 1\n",
    "    eps = rng.normal(loc=0, scale=1, size=n).reshape(-1, 1)\n",
    "    \n",
    "    # Stack the single columns into a matrix\n",
    "    X = np.hstack((np.ones((n,1)), x0, x1))  # form = (n, 3)\n",
    "    \n",
    "    return X, eps\n",
    "\n",
    "X, eps = random_draws(n)\n",
    "\n",
    "# Create y using the betas, X and eps.\n",
    "y = X @ beta + eps\n",
    "\n",
    "# Does y have the dimensions you expect?\n",
    "print(y.shape)\n",
    "print(X.shape)"
   ]
  },
  {
   "cell_type": "markdown",
   "metadata": {},
   "source": [
    "### 1.2 \n",
    "Imagine that you had not generated the dataset yourself, but that you were given a similar data set that was already collected (generated) and ready to analyze. What would you observe and not observe in that data set?"
   ]
  },
  {
   "cell_type": "markdown",
   "metadata": {},
   "source": [
    "The true distribution and its moments"
   ]
  },
  {
   "cell_type": "markdown",
   "metadata": {},
   "source": [
    "## Exercise 2 - OLS\n",
    "### 2.1\n",
    "Remember the mathematical equation for OLS estimation, as we will later use it to estimate the beta coefficients with the data from the previous exercise.<br>\n",
    "**Write out the OLS estimator in matrix form:**\n"
   ]
  },
  {
   "cell_type": "markdown",
   "metadata": {},
   "source": [
    "\n",
    "\\begin{align}\n",
    " \\hat{\\boldsymbol{\\beta}} =  \\left(\\frac{1}{N} \\sum_{i=1}^N \\boldsymbol{x_i}'\\boldsymbol{x_i}\\right)^{-1} \\left(\\frac{1}{N} \\sum_{i=1}^N \\boldsymbol{x_i}'y_i \\right)\n",
    "\\end{align}"
   ]
  },
  {
   "cell_type": "markdown",
   "metadata": {},
   "source": [
    "*Hint: Look it up on p.57 in Wooldridge*"
   ]
  },
  {
   "cell_type": "markdown",
   "metadata": {},
   "source": [
    "### 2.2\n",
    "To perform inference on the OLS estimators, we need to calculate the standard errors for the previously estimates OLS coefficients. Again, make sure you remember its equation, *and write up the OLS standard errors in matrix form:*"
   ]
  },
  {
   "cell_type": "markdown",
   "metadata": {},
   "source": [
    "$\\mathbf{\\widehat{Var(\\boldsymbol{\\hat{\\beta}})}} = \\hat{\\sigma}^2 E(X'X)^{-1} $, for $\\hat{\\sigma}^2 = \\sqrt{\\dfrac{\\sum_{i=0}^{N - 1} \\hat{u}^2_i}{N-K}}$, <br>\n",
    "\n",
    "where $SSR = \\sum_{i=0}^{N - 1} \\hat{u}^2_i$, $N$ is the number of observations, and $K$ is the number of explanatory variables including the constant."
   ]
  },
  {
   "cell_type": "markdown",
   "metadata": {},
   "source": [
    "*Hint: Look it up on p.60 in Wooldridge* <br>\n",
    "*Hint: Remember that the variance estimate is a function of $\\hat{\\sigma}^2$, which is calculated using SSR*"
   ]
  },
  {
   "cell_type": "markdown",
   "metadata": {},
   "source": [
    "### 2.3\n",
    "Estimate $\\boldsymbol{\\hat{\\beta}}$ from the synthetic data set. Furthermore, calculate standard errors and t-values (assuming that the assumptions of the classical linear regression model are satisfied)."
   ]
  },
  {
   "cell_type": "code",
   "execution_count": 22,
   "metadata": {},
   "outputs": [
    {
     "name": "stdout",
     "output_type": "stream",
     "text": [
      "[[ 1.06392683]\n",
      " [-0.55703084]\n",
      " [ 2.00631743]]\n",
      "-----\n",
      "[0.12483523 0.02878184 0.01314932]\n",
      "-----\n",
      "[[  8.52264854  36.96521827  80.91115498]\n",
      " [ -4.46212834 -19.3535551  -42.36194374]\n",
      " [ 16.07172396  69.70776529 152.57953464]]\n"
     ]
    }
   ],
   "source": [
    "#Define a function that estimates the OLS coefficients, their standard errors and t-values\n",
    "def ols_estimation(y, X):\n",
    "    # Make sure that y and X are 2-D.\n",
    "    y = y.reshape(-1, 1)\n",
    "    if len(X.shape)<2:\n",
    "        X = X.reshape(-1, 1)\n",
    "\n",
    "    # Estimate beta as b_hat = (X'X)^(-1)X'y\n",
    "    b_hat = la.inv(X.T @ X) @ X.T @ y\n",
    "    \n",
    "    # Calculate residuals, u\n",
    "    residual = y-X.dot(b_hat)\n",
    "    #Calculate sigma\n",
    "    sigma = np.sqrt((residual.T.dot(residual) / (n - X.shape[1]))).item()\n",
    "    #Calculate variance and standard errors of b_hat\n",
    "    var_b = sigma**2 * la.inv(X.T.dot(X)).diagonal()\n",
    "    se = np.sqrt(var_b)\n",
    "   \n",
    "    # Calculate t-values\n",
    "    t_values = b_hat/se\n",
    "    \n",
    "    return b_hat, se, t_values\n",
    "\n",
    "b_hat, se, t_values = ols_estimation(y, X)\n",
    "print(b_hat)\n",
    "print(\"-----\")\n",
    "print(se)\n",
    "print(\"-----\")\n",
    "print(t_values)"
   ]
  },
  {
   "cell_type": "markdown",
   "metadata": {},
   "source": [
    "Python stores vectors as one-dimensional rather than two-dimensional objects. This can sometimes cause havoc when we want to compute matrix products. Compute the outer and inner products of the residuals from above using np.inner() and np.outer(). Compare these with your computed outer and inner products when using matrix multiplication @. When computing outer and inner products of a column vector, a, recall that a'a is the inner product and aa' is the outer product."
   ]
  },
  {
   "cell_type": "code",
   "execution_count": 25,
   "metadata": {},
   "outputs": [
    {
     "name": "stdout",
     "output_type": "stream",
     "text": [
      "res shape:          (100, 1)\n",
      "inner shape:        (100, 100)\n",
      "outer shape:        (100, 100)\n",
      "manual_inner shape: (1, 1)\n",
      "manual_outer shape: (100, 100)\n"
     ]
    }
   ],
   "source": [
    "res = y-X.dot(b_hat)\n",
    "inner = np.inner(res, res)\n",
    "outer = np.outer(res, res)\n",
    "manual_inner = res.T.dot(res)\n",
    "manual_outer = res.dot(res.T)\n",
    "\n",
    "print('res shape:         ', res.shape)\n",
    "print('inner shape:       ', inner.shape)\n",
    "print('outer shape:       ', outer.shape)\n",
    "print('manual_inner shape:', manual_inner.shape)\n",
    "print('manual_outer shape:', manual_outer.shape)"
   ]
  },
  {
   "cell_type": "markdown",
   "metadata": {},
   "source": [
    "Now if we flatten the residuals to be stored in Python's default mode (i.e. one-dimensional) what happens?"
   ]
  },
  {
   "cell_type": "code",
   "execution_count": 26,
   "metadata": {},
   "outputs": [
    {
     "name": "stdout",
     "output_type": "stream",
     "text": [
      "res shape:          (100,)\n",
      "inner shape:        ()\n",
      "outer shape:        (100, 100)\n",
      "matmul_inner shape: ()\n",
      "matmul_outer shape: ()\n"
     ]
    }
   ],
   "source": [
    "res = res.flatten()\n",
    "inner = np.inner(res, res)\n",
    "outer = np.outer(res, res)\n",
    "matmul_inner = res.T.dot(res)\n",
    "matmul_outer = res.dot(res.T)\n",
    "\n",
    "print('res shape:         ', res.shape)\n",
    "print('inner shape:       ', inner.shape)\n",
    "print('outer shape:       ', outer.shape)\n",
    "print('matmul_inner shape:', matmul_inner.shape)\n",
    "print('matmul_outer shape:', matmul_outer.shape)"
   ]
  },
  {
   "cell_type": "markdown",
   "metadata": {},
   "source": [
    "I have written a code to print a table, using the `tabulate` package. You will need to add the row names for this code to work - each row contains a information about the different coefficients on the explanatory variables."
   ]
  },
  {
   "cell_type": "code",
   "execution_count": 33,
   "metadata": {},
   "outputs": [
    {
     "name": "stdout",
     "output_type": "stream",
     "text": [
      "OLS Estimates:\n",
      "\n",
      "              β      β̂      Se  t-value\n",
      "---------  ----  ------  -----  ----------------------------------------\n",
      "intercept   1.0   1.064  0.125  [ 8.52264854 36.96521827 80.91115498]\n",
      "x1         -0.5  -0.557  0.029  [ -4.46212834 -19.3535551  -42.36194374]\n",
      "x2          2.0   2.006  0.013  [ 16.07172396  69.70776529 152.57953464]\n"
     ]
    }
   ],
   "source": [
    "def print_table(row_names, beta, b_hat, se, t_values):\n",
    "    table = []\n",
    "\n",
    "    # Make a list, where each row contains the estimated and calculated values.\n",
    "    for index, name in enumerate(row_names):\n",
    "        table_row = [\n",
    "            name, beta[index], b_hat[index], se[index], t_values[index]\n",
    "        ]\n",
    "        table.append(table_row)\n",
    "\n",
    "    # Print the list using the tabulate class.\n",
    "    headers = ['', '\\u03b2', '\\u03b2\\u0302 ', 'Se', 't-value']\n",
    "    print('OLS Estimates:\\n')\n",
    "    print(tabulate(table, headers, floatfmt=['', '.1f', '.3f', '.3f', '.1f']))\n",
    "\n",
    "row_names = ['intercept', 'x1', 'x2']\n",
    "print_table(row_names, beta, b_hat, se, t_values)"
   ]
  },
  {
   "cell_type": "markdown",
   "metadata": {},
   "source": [
    "Alternatively, you can print a table which you can paste straight into latex using the following code. This uses panda data frames  which we'll cover next week."
   ]
  },
  {
   "cell_type": "code",
   "execution_count": 34,
   "metadata": {},
   "outputs": [
    {
     "name": "stdout",
     "output_type": "stream",
     "text": [
      "\\begin{tabular}{lllrl}\n",
      " & β & β̂ & se & t-values \\\\\n",
      "beta1 & [1.] & [1.0639] & 0.124800 & [ 8.5226 36.9652 80.9112] \\\\\n",
      "beta2 & [-0.5] & [-0.557] & 0.028800 & [ -4.4621 -19.3536 -42.3619] \\\\\n",
      "beta3 & [2.] & [2.0063] & 0.013100 & [ 16.0717  69.7078 152.5795] \\\\\n",
      "\\end{tabular}\n",
      "\n"
     ]
    }
   ],
   "source": [
    "import pandas as pd\n",
    "dat = pd.DataFrame(zip(beta,b_hat.round(4),se.round(4),t_values.round(4)))\n",
    "dat.columns = ['\\u03b2','\\u03b2\\u0302','se','t-values']\n",
    "dat.index = ['beta1','beta2','beta3']\n",
    "print(dat.style.to_latex())"
   ]
  },
  {
   "cell_type": "markdown",
   "metadata": {},
   "source": [
    "## Exercise 3 - a simple Monte Carlo Experiment\n",
    "Carry out a Monte Carlo experiment with $S = 200$ replications and $N = 100$ observations to check if the OLS estimator provides an unbiased estimate of $\\boldsymbol{\\beta}$\n",
    "### 3.1\n",
    "Generate 200 data sets similar to what you did in exercise 1, and estimate $\\boldsymbol{\\beta}$ on each of them."
   ]
  },
  {
   "cell_type": "markdown",
   "metadata": {},
   "source": [
    "*Hint:* Start by making prefilling two arrays using `np.zeros`, one array to store the estimated beta coefficients, and one to store the estimated standard errors. What shape should these arrays have?\n",
    "\n",
    "Then make a loop where each loop makes a random draw, and then estimates on this random draw. And finally stores the estimated coefficients and standard errors."
   ]
  },
  {
   "cell_type": "code",
   "execution_count": 35,
   "metadata": {},
   "outputs": [],
   "source": [
    "# Initialize the variables and lists\n",
    "s = 200\n",
    "n = 100\n",
    "\n",
    "# Allocate memory for arrays to later fill\n",
    "b_coeffs = np.zeros((s, beta.size))\n",
    "b_ses = np.zeros((s, beta.size))\n",
    "\n",
    "for i in range(s):\n",
    "    # Generate data\n",
    "    X, eps = random_draws(n)\n",
    "    y = X @ beta + eps\n",
    "\n",
    "    # Estimate coefficients and variance\n",
    "    b_hat, se, t_values = ols_estimation(y, X)\n",
    "\n",
    "    # Store estimates\n",
    "    b_coeffs[i, :] = b_hat.flatten()\n",
    "    b_ses[i, :] = se.flatten()\n",
    "\n",
    "# Make sure that there are no more zeros left in the arrays.\n",
    "assert np.all(b_coeffs) and np.all(b_ses), 'Not all coefficients or standard errors are non-zero.'"
   ]
  },
  {
   "cell_type": "code",
   "execution_count": 36,
   "metadata": {},
   "outputs": [
    {
     "name": "stdout",
     "output_type": "stream",
     "text": [
      "OLS Estimates:\n",
      "\n",
      "              β      β̂      Se  t-value\n",
      "---------  ----  ------  -----  ----------------------------------------\n",
      "intercept   1.0   1.138  0.125  [ 9.13010344 39.54629682 87.84043824]\n",
      "x1         -0.5  -0.490  0.029  [ -3.93491246 -17.04375171 -37.85766912]\n",
      "x2          2.0   1.988  0.013  [ 15.94893239  69.08149706 153.44417719]\n"
     ]
    }
   ],
   "source": [
    "def print_table(row_names, beta, b_hat, se, t_values):\n",
    "    table = []\n",
    "\n",
    "    # Make a list, where each row contains the estimated and calculated values.\n",
    "    for index, name in enumerate(row_names):\n",
    "        table_row = [\n",
    "            name, beta[index], b_hat[index], se[index], t_values[index]\n",
    "        ]\n",
    "        table.append(table_row)\n",
    "\n",
    "    # Print the list using the tabulate class.\n",
    "    headers = ['', '\\u03b2', '\\u03b2\\u0302 ', 'Se', 't-value']\n",
    "    print('OLS Estimates:\\n')\n",
    "    print(tabulate(table, headers, floatfmt=['', '.1f', '.3f', '.3f', '.1f']))\n",
    "\n",
    "row_names = ['intercept', 'x1', 'x2']\n",
    "print_table(row_names, beta, b_hat, se, t_values)"
   ]
  },
  {
   "cell_type": "markdown",
   "metadata": {},
   "source": [
    "### 3.2\n",
    "Do the following three calculations:\n",
    "- Calculate the means of the estimates (means across simulations)\n",
    "- Calculate the means of the standard errors (means across simulations)\n",
    "- Calculate the standard error of the MC estimates"
   ]
  },
  {
   "cell_type": "code",
   "execution_count": 41,
   "metadata": {},
   "outputs": [
    {
     "name": "stdout",
     "output_type": "stream",
     "text": [
      "[ 1.00511659 -0.50048145  1.99927859]\n",
      "[0.1141212  0.02488419 0.01114419]\n",
      "[0.11133699 0.02345038 0.01217641]\n"
     ]
    }
   ],
   "source": [
    "mean_b_hat = b_coeffs.mean(axis=0)\n",
    "mean_b_se = b_ses.mean(axis=0)\n",
    "mean_mc_se = b_coeffs.std(axis=0)\n",
    "print(mean_b_hat)\n",
    "print(mean_b_se)\n",
    "print(mean_mc_se)"
   ]
  },
  {
   "cell_type": "markdown",
   "metadata": {},
   "source": [
    "### 3.3\n",
    "Draw a histogram for the 200 estimates of $\\beta_1$. This can be done using matplotlib with the method `plt.hist()`."
   ]
  },
  {
   "cell_type": "code",
   "execution_count": 42,
   "metadata": {},
   "outputs": [
    {
     "data": {
      "image/png": "[encoded data removed]",
      "text/plain": [
       "<Figure size 640x480 with 1 Axes>"
      ]
     },
     "metadata": {},
     "output_type": "display_data"
    }
   ],
   "source": [
    "#Draw histograms of the estimates of beta using plt.hist()\n",
    "plt.hist(b_coeffs, bins=20, label=['Intercept', 'X1', 'X2'])\n",
    "plt.xlabel('Coefficient Estimates')\n",
    "plt.ylabel('Frequency')\n",
    "plt.title('Histogram of Coefficient Estimates from Simulations')\n",
    "plt.legend()\n",
    "plt.show()\n"
   ]
  },
  {
   "cell_type": "code",
   "execution_count": 44,
   "metadata": {},
   "outputs": [
    {
     "data": {
      "image/png": "[encoded data removed]",
      "text/plain": [
       "<Figure size 640x480 with 1 Axes>"
      ]
     },
     "metadata": {},
     "output_type": "display_data"
    }
   ],
   "source": [
    "#Plot the distribution of the simulated coefficient for x1 along with a normal distribution with mean equal to the true beta 1 and std equal to the mean of the estimated standard errors\n",
    "import scipy.stats as stats\n",
    "x1_coeffs = b_coeffs[:, 1]\n",
    "mean_x1 = mean_b_hat[1]\n",
    "std_x1 = mean_b_se[1]\n",
    "x = np.linspace(mean_x1 - 4*std_x1, mean_x1 + 4*std_x1, 100)\n",
    "plt.hist(x1_coeffs, bins=20, density=True, alpha=0.6, color='g', label='Simulated Coefficients')\n",
    "plt.plot(x, stats.norm.pdf(x, mean_x1, std_x1), 'k', linewidth=2, label='Normal Distribution')\n",
    "plt.xlabel('Coefficient Estimates for X1')\n",
    "plt.ylabel('Density')\n",
    "plt.title('Distribution of Simulated Coefficients for X1 vs Normal Distribution')\n",
    "plt.legend()\n",
    "plt.show()  "
   ]
  }
 ],
 "metadata": {
  "kernelspec": {
   "display_name": "base",
   "language": "python",
   "name": "python3"
  },
  "language_info": {
   "codemirror_mode": {
    "name": "ipython",
    "version": 3
   },
   "file_extension": ".py",
   "mimetype": "text/x-python",
   "name": "python",
   "nbconvert_exporter": "python",
   "pygments_lexer": "ipython3",
   "version": "3.12.4"
  }
 },
 "nbformat": 4,
 "nbformat_minor": 2
}
