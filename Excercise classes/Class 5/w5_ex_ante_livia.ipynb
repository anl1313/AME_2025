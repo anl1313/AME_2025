{
 "cells": [
  {
   "cell_type": "markdown",
   "metadata": {},
   "source": [
    "# Week 5: High-Dimensional Methods and Confidence Intervals"
   ]
  },
  {
   "cell_type": "markdown",
   "metadata": {},
   "source": [
    "The purpose of this week's problem set is to get familiar with inference based on high-dimensional methods.  Our focus is again on methods based on the Lasso, and we again use the <tt>housing.csv</tt> dataset. (See the previous problem set for data details.) Note how our focus has here changed from prediction (of house prices) to inference (drivers of house prices).\n",
    "\n",
    "We first read the data into Python and remove missings."
   ]
  },
  {
   "cell_type": "code",
   "execution_count": 2,
   "metadata": {},
   "outputs": [
    {
     "name": "stdout",
     "output_type": "stream",
     "text": [
      "The number of rows and columns are (20433, 10) and also called shape of the matrix\n"
     ]
    }
   ],
   "source": [
    "# Load packages\n",
    "import numpy as np\n",
    "import numpy.linalg as la\n",
    "import pandas as pd\n",
    "from sklearn.linear_model import Lasso\n",
    "from scipy.stats import norm\n",
    "from sklearn.preprocessing import PolynomialFeatures\n",
    "\n",
    "# Read data\n",
    "housing = pd.read_csv(\"housing.csv\")\n",
    "housing=housing.dropna() # dropping observations missing a bedroom count \n",
    "print(\"The number of rows and columns are {} and also called shape of the matrix\".format(housing.shape)) # data dimensions"
   ]
  },
  {
   "cell_type": "code",
   "execution_count": 3,
   "metadata": {},
   "outputs": [
    {
     "name": "stdout",
     "output_type": "stream",
     "text": [
      "Columns names are \n",
      " Index(['longitude', 'latitude', 'housing_median_age', 'total_rooms',\n",
      "       'total_bedrooms', 'population', 'households', 'median_income',\n",
      "       'median_house_value', 'ocean_proximity'],\n",
      "      dtype='object')\n"
     ]
    }
   ],
   "source": [
    "print(\"Columns names are \\n {}\".format(housing.columns))"
   ]
  },
  {
   "cell_type": "code",
   "execution_count": 4,
   "metadata": {},
   "outputs": [
    {
     "name": "stdout",
     "output_type": "stream",
     "text": [
      "   longitude  latitude  housing_median_age  total_rooms  total_bedrooms  \\\n",
      "0    -122.23     37.88                41.0        880.0           129.0   \n",
      "1    -122.22     37.86                21.0       7099.0          1106.0   \n",
      "2    -122.24     37.85                52.0       1467.0           190.0   \n",
      "3    -122.25     37.85                52.0       1274.0           235.0   \n",
      "4    -122.25     37.85                52.0       1627.0           280.0   \n",
      "\n",
      "   population  households  median_income  median_house_value ocean_proximity  \n",
      "0       322.0       126.0         8.3252            452600.0        NEAR BAY  \n",
      "1      2401.0      1138.0         8.3014            358500.0        NEAR BAY  \n",
      "2       496.0       177.0         7.2574            352100.0        NEAR BAY  \n",
      "3       558.0       219.0         5.6431            341300.0        NEAR BAY  \n",
      "4       565.0       259.0         3.8462            342200.0        NEAR BAY  \n"
     ]
    }
   ],
   "source": [
    "print(housing.head()) # first observations"
   ]
  },
  {
   "cell_type": "code",
   "execution_count": 5,
   "metadata": {},
   "outputs": [
    {
     "name": "stdout",
     "output_type": "stream",
     "text": [
      "       longitude  latitude  housing_median_age  total_rooms  total_bedrooms  \\\n",
      "20635    -121.09     39.48                25.0       1665.0           374.0   \n",
      "20636    -121.21     39.49                18.0        697.0           150.0   \n",
      "20637    -121.22     39.43                17.0       2254.0           485.0   \n",
      "20638    -121.32     39.43                18.0       1860.0           409.0   \n",
      "20639    -121.24     39.37                16.0       2785.0           616.0   \n",
      "\n",
      "       population  households  median_income  median_house_value  \\\n",
      "20635       845.0       330.0         1.5603             78100.0   \n",
      "20636       356.0       114.0         2.5568             77100.0   \n",
      "20637      1007.0       433.0         1.7000             92300.0   \n",
      "20638       741.0       349.0         1.8672             84700.0   \n",
      "20639      1387.0       530.0         2.3886             89400.0   \n",
      "\n",
      "      ocean_proximity  \n",
      "20635          INLAND  \n",
      "20636          INLAND  \n",
      "20637          INLAND  \n",
      "20638          INLAND  \n",
      "20639          INLAND  \n"
     ]
    }
   ],
   "source": [
    "print(housing.tail()) # last observations"
   ]
  },
  {
   "cell_type": "code",
   "execution_count": 6,
   "metadata": {},
   "outputs": [
    {
     "name": "stdout",
     "output_type": "stream",
     "text": [
      "longitude             float64\n",
      "latitude              float64\n",
      "housing_median_age    float64\n",
      "total_rooms           float64\n",
      "total_bedrooms        float64\n",
      "population            float64\n",
      "households            float64\n",
      "median_income         float64\n",
      "median_house_value    float64\n",
      "ocean_proximity        object\n",
      "dtype: object\n"
     ]
    }
   ],
   "source": [
    "print(housing.dtypes) # data types"
   ]
  },
  {
   "cell_type": "markdown",
   "metadata": {},
   "source": [
    "We model house prices (<tt>median_house_value</tt>) using a linear (in the parameters) model of the basic regressors (minus the categorical variable <tt>ocean_proximity</tt>). \n",
    "\n",
    "$$\n",
    "\\underbrace{\\mathtt{median\\,house\\,value}}_{=Y}= \\alpha\\times\\underbrace{\\mathtt{median\\,income}}_{=D} + Z'\\gamma + \\varepsilon,\\quad\\mathrm{E}[\\varepsilon|D,Z]=0.\n",
    "$$\n",
    "\n",
    "Note that Z should contains a constant, but the implementation of Lasso in sklearn adds this automatically.\n",
    "\n",
    "We here focus on constructing a confidence interval for the coefficient of <tt>median_income</tt> after having used the Lasso. In doing so we treat both <tt>median_income</tt> and the remaining ($p=7$) contrOLS as exogenous. Moreover, we augment the above model with another linear model\n",
    "\n",
    "$$\n",
    "\\mathtt{median\\,income}=Z'\\psi + \\nu,\\quad\\mathrm{E[\\nu|Z]=0},\n",
    "$$\n",
    "\n",
    "now for <tt>median_income</tt>.\n",
    "\n",
    "(One would be hard pressed to claim that median income *causes* house price movements. This is only an exercise in the mechanics.)"
   ]
  },
  {
   "cell_type": "markdown",
   "metadata": {},
   "source": [
    "# Exercises\n",
    "\n",
    "## Part 1: Prepare data\n",
    "Use the eight basic regressors ($Z_1,\\dotsc,Z_p$) and add all control quadratics ($Z_1^2,\\dotsc,Z_p^2$), cubics ($Z_1^3,\\dotsc,Z_p^3$), first-order interactions ($Z_1Z_2,Z_1Z_3,\\dotsc,Z_{p-1}Z_{p}$), and second-order interactions ($Z_1Z_1Z_2,Z_1Z_1Z_3,\\dotsc,Z_{p}Z_{p}Z_{p-1}$). \n",
    "\n",
    "Hints: Use <tt>sklearn.preprocessing.PolynomialFeatures</tt> for simple transformation. Your optimizer may not converge. Consider increasing the maximum number of iterations using the Lasso option <tt>max_iter=</tt>[your number]."
   ]
  },
  {
   "cell_type": "markdown",
   "metadata": {},
   "source": [
    "### Question 1.1\n",
    "Setup data and add all control quadratics, cubics, first-order interactions, and second-order interactions. Don't include a constant - this is done automatically by the Lasso implementation in python. How many regressors do you have now?"
   ]
  },
  {
   "cell_type": "code",
   "execution_count": 7,
   "metadata": {},
   "outputs": [
    {
     "name": "stdout",
     "output_type": "stream",
     "text": [
      "The number of regressors in Z is 119\n"
     ]
    }
   ],
   "source": [
    "# Setup data\n",
    "import numpy as np\n",
    "import sklearn\n",
    "import numpy.linalg as la\n",
    "import pandas as pd\n",
    "from sklearn.linear_model import Lasso\n",
    "from scipy.stats import norm\n",
    "from sklearn.preprocessing import PolynomialFeatures\n",
    "y = housing.median_house_value\n",
    "d = housing.median_income\n",
    "Z_basic = housing.drop([\"median_house_value\",\"median_income\",\"ocean_proximity\"],axis=1)\n",
    "\n",
    "# Add polynomial features\n",
    "# Hint: remember, you don't want the constant\n",
    "Z = sklearn.preprocessing.PolynomialFeatures(degree=3, include_bias=False).fit_transform(Z_basic)\n",
    "\n",
    "# Display number of regressors\n",
    "print(\"The number of regressors in Z is {}\".format(Z.shape[1]))"
   ]
  },
  {
   "cell_type": "markdown",
   "metadata": {},
   "source": [
    "    You should get: The number of regressors in Z is 119"
   ]
  },
  {
   "cell_type": "code",
   "execution_count": 8,
   "metadata": {},
   "outputs": [],
   "source": [
    "# Construct X \n",
    "X = np.column_stack((d,Z))\n",
    "\n",
    "# Find N\n",
    "N = X.shape[0]"
   ]
  },
  {
   "cell_type": "markdown",
   "metadata": {},
   "source": [
    "### Question 1.2\n",
    "Standardize variables before running the Lasso.\n",
    "\n",
    "*Note:* Make sure make a degrees of freedom correction when computing the standard errors. Pandas does this automatically, but if you use numpy, you should set the argument ddof=1 in the function np.std()."
   ]
  },
  {
   "cell_type": "code",
   "execution_count": 9,
   "metadata": {},
   "outputs": [],
   "source": [
    "# Create a function for standardizing\n",
    "def standardize(X):\n",
    "    # Fill in \n",
    "    X_stan = (X-np.mean(X))/np.std(X) # Fill in\n",
    "    return X_stan\n",
    "\n",
    "# Standardize data\n",
    "X_stan = standardize(X)\n",
    "Z_stan = standardize(Z)\n",
    "d_stan = standardize(d)"
   ]
  },
  {
   "cell_type": "markdown",
   "metadata": {},
   "source": [
    "## Part 2: OLS"
   ]
  },
  {
   "cell_type": "markdown",
   "metadata": {},
   "source": [
    "Students get slightly different answers with each different version of Python. Your results for Exercise 3 should be correct to 3 significant figures."
   ]
  },
  {
   "cell_type": "markdown",
   "metadata": {},
   "source": [
    "### Question 2.1\n",
    "Estimate $\\alpha$ using Ordinary Least Squares (OLS). Remember to add a constant to the regressors for this part."
   ]
  },
  {
   "cell_type": "code",
   "execution_count": 10,
   "metadata": {},
   "outputs": [
    {
     "name": "stdout",
     "output_type": "stream",
     "text": [
      "alpha_OLS =  [37152.441]\n"
     ]
    }
   ],
   "source": [
    "# Add a constant to X\n",
    "xx = np.column_stack((np.ones(N),X)) # Fill in\n",
    "# Reshape y\n",
    "yy = y.values.reshape(-1,1) # Fill in\n",
    "\n",
    "# Calculate OLS estimate\n",
    "coefs_OLS = np.linalg.inv(xx.T @ xx) @ xx.T @ yy # Fill in\n",
    "alpha_OLS =  coefs_OLS[1] # Fill in\n",
    "\n",
    "# Calculate residuals\n",
    "res_OLS = yy-xx@coefs_OLS# Fill in\n",
    "\n",
    "# Display alpha\n",
    "print(\"alpha_OLS = \",alpha_OLS.round(3))"
   ]
  },
  {
   "cell_type": "markdown",
   "metadata": {},
   "source": [
    "#### Hint: We are doing OLS not Lasso"
   ]
  },
  {
   "cell_type": "markdown",
   "metadata": {},
   "source": [
    "    You should get: alpha_OLS =  37143.8"
   ]
  },
  {
   "cell_type": "markdown",
   "metadata": {},
   "source": [
    "### Question 2.2"
   ]
  },
  {
   "cell_type": "markdown",
   "metadata": {},
   "source": [
    "Estimate the variance of the OLS estimator and calculate the standard deviation of $\\hat{\\alpha}$. For this exercise we will assume homoscedasticity."
   ]
  },
  {
   "cell_type": "code",
   "execution_count": 19,
   "metadata": {},
   "outputs": [],
   "source": [
    "K = xx.shape[1]"
   ]
  },
  {
   "cell_type": "code",
   "execution_count": 46,
   "metadata": {},
   "outputs": [
    {
     "name": "stdout",
     "output_type": "stream",
     "text": [
      "se_OLS =  394.32\n"
     ]
    }
   ],
   "source": [
    "# Estimate variance\n",
    "SSR = res_OLS.T @ res_OLS\n",
    "sigma2_OLS = SSR / (N - K) # Fill in\n",
    "var = sigma2_OLS * np.linalg.inv(xx.T @ xx) # only taking diagonal assuming homoskedasticity\n",
    "\n",
    "# Calculate standard errors\n",
    "se = np.sqrt(np.diag(var)) # sqrt of diagonal of var\n",
    "\n",
    "# Get standard error of alpha\n",
    "se_OLS = None\n",
    "\n",
    "# Display standard error\n",
    "se_OLS = se[1] if len(se) > 1 else se[0]  # handle case if se has only one element\n",
    "print(\"se_OLS = \", se_OLS.round(2))\n"
   ]
  },
  {
   "cell_type": "markdown",
   "metadata": {},
   "source": [
    "    You should get:  se_OLS =  394.41"
   ]
  },
  {
   "cell_type": "markdown",
   "metadata": {},
   "source": [
    "### Question 2.3 "
   ]
  },
  {
   "cell_type": "markdown",
   "metadata": {},
   "source": [
    "Calculate the 95% confidence interval for $\\hat{\\alpha}$.\n",
    "\n",
    "*Hint:* Use scipy.stats.norm.ppf to find quantiles of the normal distribution."
   ]
  },
  {
   "cell_type": "code",
   "execution_count": 47,
   "metadata": {},
   "outputs": [
    {
     "name": "stdout",
     "output_type": "stream",
     "text": [
      "CI_OLS =  (array([36379.58]), array([37925.3]))\n"
     ]
    }
   ],
   "source": [
    "# Calculate the quantile of the standard normal distribution that corresponds to the 95% confidence interval of a two-sided test\n",
    "q = norm.ppf(0.975) # Fill in\n",
    "\n",
    "# Calculate confidence interval\n",
    "CI_low_OLS  = alpha_OLS - q*se_OLS # Fill in\n",
    "CI_high_OLS = alpha_OLS+ q*se_OLS\n",
    "\n",
    "# Display confidence interval\n",
    "CI_OLS =  (((alpha_OLS-q*se_OLS).round(2),(alpha_OLS+q*se_OLS).round(2)))\n",
    "print(\"CI_OLS = \",(CI_low_OLS.round(2),CI_high_OLS.round(2)))"
   ]
  },
  {
   "cell_type": "markdown",
   "metadata": {},
   "source": [
    "    You should get:  CI_OLS =  (36370.76, 37916.84)"
   ]
  },
  {
   "cell_type": "markdown",
   "metadata": {},
   "source": [
    "## Part 3: Post-Single Lasso"
   ]
  },
  {
   "cell_type": "markdown",
   "metadata": {},
   "source": [
    "### Question 3.1\n",
    "Estimate $\\alpha$ using Post-Single Lasso (PSL)."
   ]
  },
  {
   "cell_type": "markdown",
   "metadata": {},
   "source": [
    "Step 0: Calculate BRT"
   ]
  },
  {
   "cell_type": "code",
   "execution_count": 49,
   "metadata": {},
   "outputs": [],
   "source": [
    "# Make a function that calculates BRT. Hint: You implemented a version of this last week\n",
    "def BRT(X_tilde,y):\n",
    "    import scipy\n",
    "    n,p = X_tilde.shape\n",
    "    sigma = np.std(y)\n",
    "    c = 1.1\n",
    "    alpha = 0.05\n",
    "    max_term = 1\n",
    "    phi = scipy.stats.norm.ppf(1 - alpha / (2 * p))\n",
    "    penalty_BRT = (c * sigma) * phi / np.sqrt(n)\n",
    "    penalty_BRT = max(penalty_BRT, max_term)\n",
    "    return penalty_BRT"
   ]
  },
  {
   "cell_type": "code",
   "execution_count": 50,
   "metadata": {},
   "outputs": [
    {
     "name": "stdout",
     "output_type": "stream",
     "text": [
      "lambda_BRT = 3135.05\n"
     ]
    }
   ],
   "source": [
    "# Calculate BRT\n",
    "penalty_BRTyx = BRT(X_stan,y)\n",
    "print(\"lambda_BRT =\",penalty_BRTyx.round(2))"
   ]
  },
  {
   "cell_type": "markdown",
   "metadata": {},
   "source": [
    "    You should get:  lambda_BRT = 3135.12"
   ]
  },
  {
   "cell_type": "markdown",
   "metadata": {},
   "source": [
    "Step 1: Lasso Y using D and Z. Collect variables in Z with non-zero coefficients in a set called Z_J.\n",
    "\n",
    "*Hint:* Set max_iter=10_000 to make the Lasso converge."
   ]
  },
  {
   "cell_type": "code",
   "execution_count": 60,
   "metadata": {},
   "outputs": [
    {
     "name": "stdout",
     "output_type": "stream",
     "text": [
      "The number of variables in Z_J is 5\n"
     ]
    }
   ],
   "source": [
    "# Run Lasso \n",
    "max_iter=10000\n",
    "\n",
    "fit_BRTyx = Lasso(alpha=penalty_BRTyx,fit_intercept=False, max_iter=max_iter).fit(X_stan,y)\n",
    "coefs=fit_BRTyx.coef_\n",
    "\n",
    "\n",
    "# Save variables where coefficients are not zero\n",
    "Z_J = Z[:,coefs[1:]!=0] # Note: We use Z and not Z_stan\n",
    "\n",
    "# Display number of variables in Z_J\n",
    "print(\"The number of variables in Z_J is {}\".format(Z_J.shape[1]))"
   ]
  },
  {
   "cell_type": "code",
   "execution_count": 68,
   "metadata": {},
   "outputs": [
    {
     "data": {
      "text/plain": [
       "(120,)"
      ]
     },
     "execution_count": 68,
     "metadata": {},
     "output_type": "execute_result"
    }
   ],
   "source": [
    "coefs.shape"
   ]
  },
  {
   "cell_type": "markdown",
   "metadata": {},
   "source": [
    "    You should get: The number of variables in Z_J is 8"
   ]
  },
  {
   "cell_type": "markdown",
   "metadata": {},
   "source": [
    "Step 2: Regress Y using D and Z_J"
   ]
  },
  {
   "cell_type": "code",
   "execution_count": null,
   "metadata": {},
   "outputs": [],
   "source": [
    "# Add a constant to X\n",
    "xx = None # Fill in\n",
    "yy = np.array(y).reshape(-1,1)\n",
    "\n",
    "# Calculate OLS estimate\n",
    "coefs_PSL = la.inv(xx.T@xx)@xx.T@yy\n",
    "alpha_PSL = coefs_PSL[1][0]\n",
    "\n",
    "# Calculate residuals\n",
    "res_PSL = None # Fill in\n",
    "\n",
    "# Display alpha\n",
    "print(\"alpha_PSL = \",alpha_PSL.round(2))"
   ]
  },
  {
   "cell_type": "markdown",
   "metadata": {},
   "source": [
    "    You should get: alpha_PSL =  38147.07"
   ]
  },
  {
   "cell_type": "markdown",
   "metadata": {},
   "source": [
    "### Question 3.2"
   ]
  },
  {
   "cell_type": "markdown",
   "metadata": {},
   "source": [
    "Estimate the variance of the second step OLS estimator and calculate the standard deviation of $\\tilde{\\alpha}$."
   ]
  },
  {
   "cell_type": "code",
   "execution_count": null,
   "metadata": {},
   "outputs": [],
   "source": [
    "# Estimate variance\n",
    "SSR = None # Fill in\n",
    "sigma2_PSL = None # Fill in\n",
    "var = None # Fill in\n",
    "\n",
    "# Calculate standard errors\n",
    "se = np.sqrt(np.diagonal(var)).reshape(-1, 1)\n",
    "se_PSL=se[1][0]\n",
    "\n",
    "# Display standard error\n",
    "print(\"se_PSL = \",se_PSL.round(2))\n"
   ]
  },
  {
   "cell_type": "markdown",
   "metadata": {},
   "source": [
    "    You should get: se_PSL =  268.92"
   ]
  },
  {
   "cell_type": "markdown",
   "metadata": {},
   "source": [
    "### Question 3.3 "
   ]
  },
  {
   "cell_type": "markdown",
   "metadata": {},
   "source": [
    "Calculate the 95% confidence interval for $\\tilde{\\alpha}$."
   ]
  },
  {
   "cell_type": "code",
   "execution_count": null,
   "metadata": {},
   "outputs": [],
   "source": [
    "# Calculate the z statistic that corresponds to the 95% confidence interval of a two-sided test\n",
    "q = None # Fill in\n",
    "\n",
    "# Calculate confidence interval\n",
    "CI_low_PSL  = None # Fill in\n",
    "CI_high_PSL = None # Fill in\n",
    "\n",
    "# Display confidence interval\n",
    "CI_PSL =  (((alpha_PSL-q*se_PSL).round(2),(alpha_PSL+q*se_PSL).round(2)))\n",
    "print(\"CI_PSL = \",(CI_low_PSL.round(2),CI_high_PSL.round(2)))"
   ]
  },
  {
   "cell_type": "markdown",
   "metadata": {},
   "source": [
    "    You should get: CI_PSL =  (37620.01, 38674.14)"
   ]
  },
  {
   "cell_type": "markdown",
   "metadata": {},
   "source": [
    "## Part 4: Double Post Lasso"
   ]
  },
  {
   "cell_type": "markdown",
   "metadata": {},
   "source": [
    "### Question 4.1\n",
    "Estimate $\\alpha$ using Double Post Lasso (DPL)."
   ]
  },
  {
   "cell_type": "markdown",
   "metadata": {},
   "source": [
    "Step 0: Calculate BRT\n",
    "\n",
    "*Note:* In this exercise we will use the penalty suggested by BRT. BRT relies on homoscedasticity which is a strong assumption."
   ]
  },
  {
   "cell_type": "code",
   "execution_count": null,
   "metadata": {},
   "outputs": [],
   "source": [
    "# Calculate BRT\n",
    "penalty_BRTyx = None # Fill in\n",
    "print(\"lambda_BRT =\",penalty_BRTyx.round(2))"
   ]
  },
  {
   "cell_type": "markdown",
   "metadata": {},
   "source": [
    "    You should get: lambda_BRT = 3135.12"
   ]
  },
  {
   "cell_type": "markdown",
   "metadata": {},
   "source": [
    "Step 1: Lasso Y using D and Z\n",
    "\n",
    "*Hint:* To calculate the residuals from the LASSO-regression you can use the predict method from the Lasso object. The predict method returns the predicted values from the LASSO regression. You can then calculate the residuals by subtracting the predicted values from the actual values. "
   ]
  },
  {
   "cell_type": "code",
   "execution_count": null,
   "metadata": {},
   "outputs": [],
   "source": [
    "# Run Lasso \n",
    "fit_BRTyx = None # Fill in\n",
    "coefs=fit_BRTyx.coef_\n",
    "\n",
    "# Calculate residuals\n",
    "resyx = None # Fill in\n",
    "\n",
    "# Calculate Y - Z@gamma (epsilon + alpha*d)\n",
    "# Hint: You only need the variables given to you in this cell, in addition\n",
    "# to a standardized data set you made previoously.\n",
    "resyxz = None # Fill in\n",
    "\n",
    "# Display first coefficient\n",
    "print(\"First coefficient =\",coefs[0].round(2))"
   ]
  },
  {
   "cell_type": "markdown",
   "metadata": {},
   "source": [
    "    You should get: First coefficient = 74248.24"
   ]
  },
  {
   "cell_type": "markdown",
   "metadata": {},
   "source": [
    "Step 2: Lasso D using Z"
   ]
  },
  {
   "cell_type": "code",
   "execution_count": null,
   "metadata": {},
   "outputs": [],
   "source": [
    "# Calculate BRT\n",
    "penalty_BRTdz = None # Fill in"
   ]
  },
  {
   "cell_type": "code",
   "execution_count": null,
   "metadata": {},
   "outputs": [],
   "source": [
    "# Run Lasso\n",
    "fit_BRTdz = None # Fill in \n",
    "coefs=fit_BRTdz.coef_\n",
    "\n",
    "# Calculate residuals\n",
    "resdz=d-fit_BRTdz.predict(Z_stan)\n",
    "\n",
    "# Display first coefficient\n",
    "print(\"First coefficient =\",coefs[0].round(2))"
   ]
  },
  {
   "cell_type": "markdown",
   "metadata": {},
   "source": [
    "    You should get: First coefficient = -0.55"
   ]
  },
  {
   "cell_type": "markdown",
   "metadata": {},
   "source": [
    "Step 3: Estimate alpha"
   ]
  },
  {
   "cell_type": "code",
   "execution_count": null,
   "metadata": {},
   "outputs": [],
   "source": [
    "# Calculate alpha\n",
    "num = None # Fill in\n",
    "denom = None # Fill in\n",
    "alpha_PDL = num/denom\n",
    "\n",
    "# Display alpha\n",
    "print(\"alpha_PDL = \",alpha_PDL.round(2))"
   ]
  },
  {
   "cell_type": "markdown",
   "metadata": {},
   "source": [
    "    You should get: alpha_PDL =  40788.63"
   ]
  },
  {
   "cell_type": "markdown",
   "metadata": {},
   "source": [
    "### Question 4.2\n",
    "Calculate the implied variance estimate, $\\check{\\sigma}^2$, and calculate the standard deviation of $\\check{\\alpha}$."
   ]
  },
  {
   "cell_type": "code",
   "execution_count": null,
   "metadata": {},
   "outputs": [],
   "source": [
    "# Calculate variance    \n",
    "num = None # Fill in\n",
    "denom = None # Fill in\n",
    "sigma2_PDL = num/denom\n",
    "\n",
    "# Display variance\n",
    "print(\"sigma2_PDL = \",sigma2_PDL.round(2))"
   ]
  },
  {
   "cell_type": "markdown",
   "metadata": {},
   "source": [
    "    You should get: sigma2_PDL =  4557181789.27"
   ]
  },
  {
   "cell_type": "code",
   "execution_count": null,
   "metadata": {},
   "outputs": [],
   "source": [
    "# Calculate standard error\n",
    "se_PDL = None # Fill in\n",
    "\n",
    "# Display standard error\n",
    "print(\"se_PDL = \",se_PDL.round(2))"
   ]
  },
  {
   "cell_type": "markdown",
   "metadata": {},
   "source": [
    "    You should get: se_PDL =  472.26"
   ]
  },
  {
   "cell_type": "markdown",
   "metadata": {},
   "source": [
    "### Question 4.3\n",
    "Calculate the confidence interval for $\\check{\\alpha}$."
   ]
  },
  {
   "cell_type": "code",
   "execution_count": null,
   "metadata": {},
   "outputs": [],
   "source": [
    "# Calculate the quantile of the standard normal distribution that corresponds to the 95% confidence interval of a two-sided test\n",
    "q = None # Fill in\n",
    "\n",
    "# Calculate confidence interval\n",
    "CI_low_PDL  = None # Fill in\n",
    "CI_high_PDL = None # Fill in\n",
    "\n",
    "# Display confidence interval\n",
    "print(\"CI_PDL = \",(CI_low_PDL.round(2),CI_high_PDL.round(2)))"
   ]
  },
  {
   "cell_type": "markdown",
   "metadata": {},
   "source": [
    "    You should get: CI_PDL =  (39863.01, 41714.24)"
   ]
  },
  {
   "cell_type": "markdown",
   "metadata": {},
   "source": [
    "### Question 4.4\n",
    "Compare OLS, PSL and PDL. \n",
    "- Which estimator do you believe the most? \n",
    "- Does the dimensionality of the problem affect your answer?"
   ]
  },
  {
   "cell_type": "code",
   "execution_count": null,
   "metadata": {},
   "outputs": [],
   "source": [
    "# Create a dictionary with the results\n",
    "results = {'OLS': [alpha_OLS, se_OLS, CI_low_OLS, CI_high_OLS], \n",
    "           'PSL': [alpha_PSL, se_PSL, CI_low_PSL, CI_high_PSL],\n",
    "           'PDL': [alpha_PDL, se_PDL, CI_low_PDL, CI_high_PDL]}\n",
    "\n",
    "# Create a dataframe from the dictionary\n",
    "df_results = pd.DataFrame.from_dict(results, orient='index', columns=['Estimate of alpha', 'Standard error', 'Low bound of CI', 'High bound of CI'])\n",
    "\n",
    "# Format the dataframe to two digits after the comma\n",
    "df_results = df_results.round(2)\n",
    "\n",
    "# Display the dataframe\n",
    "df_results\n"
   ]
  },
  {
   "cell_type": "markdown",
   "metadata": {},
   "source": [
    "    You should get:\n",
    "|      | Estimate of alpha | Standard error | Low bound of CI | High bound of CI |\n",
    "|-----:|------------------:|---------------:|----------------:|-----------------:|\n",
    "|  OLS |          37143.80 |         394.41 |        36370.76 |         37915.84 |\n",
    "|  PSL |          38147.07 |         268.92 |        37620.01 |         38674.14 |\n",
    "|  PDL |          40788.63 |         472.26 |        39863.01 |         41714.24 |"
   ]
  },
  {
   "cell_type": "markdown",
   "metadata": {},
   "source": [
    "## Part 5: Post Partialling Out Lasso"
   ]
  },
  {
   "cell_type": "markdown",
   "metadata": {},
   "source": [
    "An alternative to Post Double Lasso is Post Partialling Out Lasso (PPOL). PPOL is based on another orthogonalized moment condition, which is asymptotically first order equivalent to the one used in Post Double Lasso,\n",
    "\n",
    "$$\n",
    "E[(D - Z'\\psi_0) ([Y - Z'\\delta_0] - \\alpha_0[D - Z' \\psi_0])] = 0 \n",
    "$$\n",
    "\n",
    "The PPOL estimator of $\\alpha_0$ can be found by applying the following 3 steps:\n",
    "1. Lasso Y using Z to get residuals $\\hat{\\zeta} = Y - Z' \\hat{\\delta}$\n",
    "2. Lasso D using Z to get residuals $\\hat{\\nu} = D - Z' \\hat{\\psi}$\n",
    "3. OLS of $\\hat{\\zeta}$ on $\\hat{\\nu}$ to get $\\breve{\\alpha} = \\frac{\\sum_i \\hat{\\nu}_i \\hat{\\zeta}_i}{\\sum_i \\hat{\\nu}_i^2}$\n"
   ]
  },
  {
   "cell_type": "markdown",
   "metadata": {},
   "source": [
    "### Question 5.1\n",
    "Estimate $\\alpha$ using Post Partialling Out Lasso (PPOL)."
   ]
  },
  {
   "cell_type": "markdown",
   "metadata": {},
   "source": [
    "Step 1: Lasso Y using Z"
   ]
  },
  {
   "cell_type": "code",
   "execution_count": null,
   "metadata": {},
   "outputs": [],
   "source": [
    "penalty_BRTyz = None # Fill in\n",
    "print(\"lambda_BRT =\",penalty_BRTyz.round(2))"
   ]
  },
  {
   "cell_type": "markdown",
   "metadata": {},
   "source": [
    "    You should get: lambda_BRT = 3133.16"
   ]
  },
  {
   "cell_type": "code",
   "execution_count": null,
   "metadata": {},
   "outputs": [],
   "source": [
    "# Run Lasso\n",
    "fit_BRTyz = None # Fill in\n",
    "coefs=fit_BRTdz.coef_\n",
    "\n",
    "# Calculate residuals\n",
    "resyz = None # Fill in\n",
    "\n",
    "# Display first coefficient\n",
    "print(\"First coefficient =\",coefs[0].round(2))"
   ]
  },
  {
   "cell_type": "markdown",
   "metadata": {},
   "source": [
    "    You should get: First coefficient = -0.55"
   ]
  },
  {
   "cell_type": "markdown",
   "metadata": {},
   "source": [
    "Step 2: Lasso D and Z"
   ]
  },
  {
   "cell_type": "code",
   "execution_count": null,
   "metadata": {},
   "outputs": [],
   "source": [
    "penalty_BRTdz = None # Fill in\n",
    "print(\"lambda_BRT =\",penalty_BRTdz.round(2))"
   ]
  },
  {
   "cell_type": "markdown",
   "metadata": {},
   "source": [
    "        You should get: lambda_BRT = 0.05"
   ]
  },
  {
   "cell_type": "code",
   "execution_count": null,
   "metadata": {},
   "outputs": [],
   "source": [
    "# Run Lasso\n",
    "fit_BRTdz = None # Fill in\n",
    "coefs=fit_BRTdz.coef_\n",
    "\n",
    "# Calculate residuals\n",
    "resdz = None # Fill in\n",
    "\n",
    "# Display first coefficient\n",
    "print(\"First coefficient =\",coefs[0].round(2))"
   ]
  },
  {
   "cell_type": "markdown",
   "metadata": {},
   "source": [
    "        You should get: First coefficient = -0.55"
   ]
  },
  {
   "cell_type": "markdown",
   "metadata": {},
   "source": [
    "d) Estimate alpha"
   ]
  },
  {
   "cell_type": "code",
   "execution_count": null,
   "metadata": {},
   "outputs": [],
   "source": [
    "# Calculate alpha\n",
    "num = None # Fill in\n",
    "denom = None # Fill in\n",
    "alpha_PPOL = num/denom\n",
    "\n",
    "# Display alpha\n",
    "print(\"alpha_PPOL = \",alpha_PPOL.round(2))"
   ]
  },
  {
   "cell_type": "markdown",
   "metadata": {},
   "source": [
    "        You should get: alpha_PPOL =  41175.15"
   ]
  },
  {
   "cell_type": "markdown",
   "metadata": {},
   "source": [
    "### Question 5.2"
   ]
  },
  {
   "cell_type": "markdown",
   "metadata": {},
   "source": [
    "The variance of the PPOL estimator is given by\n",
    "\n",
    "$$\n",
    "\\breve{\\sigma}^2 = \\frac{N^{-1}\\sum_i \\hat{\\zeta}_i^2 \\hat{\\nu}_i^2}{(N^{-1}\\sum_i \\hat{\\nu}_i^2)^2}\n",
    "$$\n",
    "\n",
    "where it can be shown that \n",
    "$$\n",
    "\\sqrt{N} (\\breve{\\alpha} - \\alpha_0)/\\breve{\\sigma} \\xrightarrow{d} N(0,1)\n",
    "$$\n",
    "\n",
    "Calculate the implied variance estimate, $\\check{\\sigma}^2$, and calculate the standard deviation of $\\breve{\\alpha}$."
   ]
  },
  {
   "cell_type": "code",
   "execution_count": null,
   "metadata": {},
   "outputs": [],
   "source": [
    "# Calculate variance    \n",
    "num = None # Fill in\n",
    "denom = None # Fill in\n",
    "sigma2_PPOL = num/denom\n",
    "\n",
    "# Display variance\n",
    "print(\"sigma2_PDL = \",sigma2_PPOL.round(2))"
   ]
  },
  {
   "cell_type": "markdown",
   "metadata": {},
   "source": [
    "        You should get: sigma2_PDL =  15304055350.41"
   ]
  },
  {
   "cell_type": "code",
   "execution_count": null,
   "metadata": {},
   "outputs": [],
   "source": [
    "# Calculate standard error\n",
    "se_PPOL = None # Fill in\n",
    "\n",
    "# Display standard error\n",
    "print(\"se_PDL = \",se_PPOL.round(2))"
   ]
  },
  {
   "cell_type": "markdown",
   "metadata": {},
   "source": [
    "        You should get: se_PDL =  865.44"
   ]
  },
  {
   "cell_type": "markdown",
   "metadata": {},
   "source": [
    "### Question 5.3\n",
    "Calculate the confidence interval for $\\breve{\\alpha}$."
   ]
  },
  {
   "cell_type": "code",
   "execution_count": null,
   "metadata": {},
   "outputs": [],
   "source": [
    "# Calculate the quantile of the standard normal distribution that corresponds to the 95% confidence interval of a two-sided test\n",
    "q = None # Fill in\n",
    "\n",
    "# Calculate confidence interval\n",
    "CI_low_PPOL  = None # Fill in\n",
    "CI_high_PPOL = None # Fill in\n",
    "\n",
    "# Display confidence interval\n",
    "print(\"CI_PDL = \",(CI_low_PPOL.round(2),CI_high_PPOL.round(2)))"
   ]
  },
  {
   "cell_type": "markdown",
   "metadata": {},
   "source": [
    "        You should get: CI_PDL =  (39478.92, 42871.38)"
   ]
  },
  {
   "cell_type": "markdown",
   "metadata": {},
   "source": [
    "### Question 5.4\n",
    "Compare OLS, PDL and PPOL"
   ]
  },
  {
   "cell_type": "code",
   "execution_count": null,
   "metadata": {},
   "outputs": [],
   "source": [
    "# Create a dictionary with the results\n",
    "results = {'OLS'   : [alpha_OLS,    se_OLS,    CI_low_OLS,    CI_high_OLS], \n",
    "           'PSL'   : [alpha_PSL,    se_PSL,    CI_low_PSL,    CI_high_PSL],\n",
    "           'PDL'   : [alpha_PDL,    se_PDL,    CI_low_PDL,    CI_high_PDL],\n",
    "           'PPOL'  : [alpha_PPOL,   se_PPOL,   CI_low_PPOL,   CI_high_PPOL]}\n",
    "\n",
    "# Create a dataframe from the dictionary\n",
    "df_results = pd.DataFrame.from_dict(results, orient='index', columns=['Estimate of alpha', 'Standard error', 'Low bound of CI', 'High bound of CI'])\n",
    "\n",
    "# Format the dataframe to two digits after the comma\n",
    "df_results = df_results.round(2)\n",
    "\n",
    "# Display the dataframe\n",
    "df_results\n"
   ]
  },
  {
   "cell_type": "markdown",
   "metadata": {},
   "source": [
    "    You should get:\n",
    "|      | Estimate of alpha | Standard error | Low bound of CI | High bound of CI |\n",
    "|-----:|------------------:|---------------:|----------------:|-----------------:|\n",
    "|  OLS |          37138.55 |         394.31 |        36365.72 |         37911.38 |\n",
    "|  PSL |          38147.07 |         268.92 |        37620.01 |         38674.14 |\n",
    "|  PDL |          40788.63 |         472.26 |        39863.01 |         41714.24 |\n",
    "| PPOL |          41175.15 |         865.44 |        39478.92 |         42871.38 |\n",
    "\n",
    "Why is the PDL and PPOL estimates not identical? "
   ]
  },
  {
   "cell_type": "markdown",
   "metadata": {},
   "source": [
    "## (Optional) Part 6: Repeat with BCCH and CV"
   ]
  },
  {
   "cell_type": "markdown",
   "metadata": {},
   "source": [
    "* Repeat Exercises using the Belloni-Chen-Chernozhukov-Hansen (BCCH) penalty level for each Lasso (which may be justified without any independence/homoscedasticity assumptions).\n",
    "* Repeat Exercises using cross-validation (CV) for each Lasso."
   ]
  }
 ],
 "metadata": {
  "kernelspec": {
   "display_name": "base",
   "language": "python",
   "name": "python3"
  },
  "language_info": {
   "codemirror_mode": {
    "name": "ipython",
    "version": 3
   },
   "file_extension": ".py",
   "mimetype": "text/x-python",
   "name": "python",
   "nbconvert_exporter": "python",
   "pygments_lexer": "ipython3",
   "version": "3.13.5"
  }
 },
 "nbformat": 4,
 "nbformat_minor": 4
}
