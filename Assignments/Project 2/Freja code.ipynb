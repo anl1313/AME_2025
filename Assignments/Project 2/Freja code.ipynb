{
 "cells": [
  {
   "cell_type": "markdown",
   "metadata": {},
   "source": [
    "# Project II: Economic Growth \n",
    "\n",
    "This notebook will help you getting started with analyzing the growth dataset, `growth.csv`."
   ]
  },
  {
   "cell_type": "code",
   "execution_count": 546,
   "metadata": {},
   "outputs": [
    {
     "name": "stdout",
     "output_type": "stream",
     "text": [
      "The autoreload extension is already loaded. To reload it, use:\n",
      "  %reload_ext autoreload\n"
     ]
    }
   ],
   "source": [
    "import pandas as pd \n",
    "import numpy as np \n",
    "import statsmodels.formula.api as smf\n",
    "import matplotlib.pyplot as plt\n",
    "import sklearn\n",
    "from sklearn.linear_model import Lasso\n",
    "from sklearn.linear_model import LassoCV\n",
    "import numpy.linalg as la\n",
    "from scipy.stats import norm\n",
    "from sklearn.preprocessing import PolynomialFeatures\n",
    "import plotly.express as px\n",
    "\n",
    "%load_ext autoreload\n",
    "%autoreload 2\n",
    "\n",
    "# Import the py-file\n",
    "import assignment_2 as a2"
   ]
  },
  {
   "cell_type": "markdown",
   "metadata": {},
   "source": [
    "## Read data "
   ]
  },
  {
   "cell_type": "code",
   "execution_count": 520,
   "metadata": {},
   "outputs": [
    {
     "name": "stdout",
     "output_type": "stream",
     "text": [
      "The data contains 214 rows (countries) and 85 columns (variables).\n"
     ]
    }
   ],
   "source": [
    "dat = pd.read_csv('growth.csv')\n",
    "lbldf = pd.read_csv('labels.csv', index_col='variable')\n",
    "lbl_all = lbldf.label.to_dict() # as a dictionary\n",
    "print(f'The data contains {dat.shape[0]} rows (countries) and {dat.shape[1]} columns (variables).')"
   ]
  },
  {
   "cell_type": "markdown",
   "metadata": {},
   "source": [
    "# Collections of variables\n",
    "\n",
    "In order to make the analysis simpler, it may be convenient to collect variables in sets that belong together naturally. "
   ]
  },
  {
   "cell_type": "code",
   "execution_count": 521,
   "metadata": {},
   "outputs": [],
   "source": [
    "# all available variables\n",
    "#vv_institutions = ['marketref', 'dem', 'demCGV', 'demBMR', 'demreg', 'legor_fr', 'legor_uk'] \n",
    "vv_institutions = ['marketref', 'polity', 'legor_fr', 'legor_uk', 'dem', 'demreg', 'ln_yst'] \n",
    "vv_geography = [\n",
    "        'tropicar','distr', 'distcr', 'distc','suitavg','temp', 'suitgini', 'elevavg', 'elevstd',\n",
    "        'kgatr', 'precip', 'area', 'abslat', 'cenlong', 'area_ar', 'rough','landlock', \n",
    "        'africa',  'asia', 'oceania', 'americas' # 'europe' is the reference\n",
    "]\n",
    "vv_geneticdiversity = ['pdiv', 'pdiv_aa', 'pdivhmi', 'pdivhmi_aa']\n",
    "vv_historical = ['gdp_pc_initial', 'lpop_initial'] # these are often missing: ['pd1', 'pop1']\n",
    "vv_religion = ['pprotest', 'pcatholic', 'pmuslim']\n",
    "vv_danger = ['yellow', 'malfal',  'uvdamage']\n",
    "vv_resources = ['oilres', 'goldm', 'iron', 'silv', 'zinc']\n",
    "vv_educ = ['ls_bl', 'lh_bl'] # secondary, tertiary: we exclude 'lp_bl' (primary) to avoid rank failure \n",
    "vv_econ = ['investment_rate', 'pop_growth']\n",
    "\n",
    "vv_all = {'institutions': vv_institutions, \n",
    "          'geography': vv_geography, \n",
    "          'geneticdiversity': vv_geneticdiversity,\n",
    "          'historical': vv_historical,\n",
    "          'religion': vv_religion,\n",
    "          'danger':vv_danger, \n",
    "          'resources':vv_resources,\n",
    "          'econ':vv_econ,\n",
    "          'educ':vv_educ\n",
    "         }\n",
    "list_of_lists = vv_all.values()\n",
    "vv_all['all'] = [v for sublist in list_of_lists for v in sublist]"
   ]
  },
  {
   "cell_type": "code",
   "execution_count": 522,
   "metadata": {},
   "outputs": [],
   "source": [
    "# convenient to keep a column of ones in the dataset\n",
    "dat['constant'] = np.ones((dat.shape[0],))"
   ]
  },
  {
   "cell_type": "markdown",
   "metadata": {},
   "source": [
    "# Our selection of variables"
   ]
  },
  {
   "cell_type": "code",
   "execution_count": 523,
   "metadata": {},
   "outputs": [
    {
     "name": "stdout",
     "output_type": "stream",
     "text": [
      "The data contains 102 rows (countries) and 86 columns (variables).\n"
     ]
    }
   ],
   "source": [
    "#Remove all countries with missing values in gdp_growth or lgdp_initial\n",
    "dat = dat.dropna(subset=['gdp_growth', 'lgdp_initial'])\n",
    "print(f'The data contains {dat.shape[0]} rows (countries) and {dat.shape[1]} columns (variables).')"
   ]
  },
  {
   "cell_type": "code",
   "execution_count": 524,
   "metadata": {},
   "outputs": [
    {
     "name": "stdout",
     "output_type": "stream",
     "text": [
      "The reduced data contains 102 rows (countries) and 22 columns (variables).\n"
     ]
    }
   ],
   "source": [
    "#Keep only the variables we want to work with \n",
    "vv_selected = ['code', 'gdp_growth', 'lgdp_initial'] + vv_all['institutions'] + vv_all['resources'] + vv_all['educ'] + vv_all['historical'] + vv_all['econ'] + ['constant']\n",
    "dat_reduced = dat[vv_selected].copy()\n",
    "print(f'The reduced data contains {dat_reduced.shape[0]} rows (countries) and {dat_reduced.shape[1]} columns (variables).')"
   ]
  },
  {
   "cell_type": "code",
   "execution_count": 525,
   "metadata": {},
   "outputs": [
    {
     "name": "stdout",
     "output_type": "stream",
     "text": [
      "code: 102 observations\n",
      "gdp_growth: 102 observations\n",
      "lgdp_initial: 102 observations\n",
      "marketref: 84 observations\n",
      "polity: 86 observations\n",
      "legor_fr: 102 observations\n",
      "legor_uk: 102 observations\n",
      "dem: 90 observations\n",
      "demreg: 99 observations\n",
      "ln_yst: 96 observations\n",
      "oilres: 97 observations\n",
      "goldm: 97 observations\n",
      "iron: 97 observations\n",
      "silv: 97 observations\n",
      "zinc: 97 observations\n",
      "ls_bl: 88 observations\n",
      "lh_bl: 88 observations\n",
      "gdp_pc_initial: 102 observations\n",
      "lpop_initial: 102 observations\n",
      "investment_rate: 99 observations\n",
      "pop_growth: 102 observations\n",
      "constant: 102 observations\n"
     ]
    }
   ],
   "source": [
    "#List all remaining variables and their number of observations\n",
    "for col in dat_reduced.columns:\n",
    "    n_obs = dat_reduced[col].notnull().sum()\n",
    "    print(f'{col}: {n_obs} observations')"
   ]
  },
  {
   "cell_type": "code",
   "execution_count": 526,
   "metadata": {},
   "outputs": [
    {
     "name": "stdout",
     "output_type": "stream",
     "text": [
      "The number of countries where all variables are available is 71.\n",
      "Countries with all variables available: ['ARG', 'AUS', 'AUT', 'BEL', 'BEN', 'BOL', 'BRA', 'CAF', 'CHL', 'CHN', 'CIV', 'CMR', 'COL', 'CRI', 'DNK', 'DOM', 'DZA', 'ECU', 'EGY', 'ESP', 'FIN', 'FRA', 'GAB', 'GBR', 'GHA', 'GMB', 'GRC', 'GTM', 'GUY', 'HND', 'IDN', 'IND', 'IRL', 'IRN', 'ITA', 'JAM', 'KEN', 'KOR', 'LKA', 'MAR', 'MEX', 'MLI', 'MMR', 'MRT', 'MYS', 'NER', 'NIC', 'NLD', 'NOR', 'NPL', 'PAK', 'PAN', 'PER', 'PHL', 'PRT', 'PRY', 'RWA', 'SAU', 'SEN', 'SLE', 'SLV', 'SWE', 'TGO', 'THA', 'TUN', 'TUR', 'URY', 'USA', 'ZAF', 'ZMB', 'ZWE']\n"
     ]
    }
   ],
   "source": [
    "# avoiding missings\n",
    "all_vars = vv_selected.copy()\n",
    "all_vars.remove('code')  # we do not care about 'code' here\n",
    "I_all = dat[all_vars].notnull().all(1)\n",
    "print(f'The number of countries where all variables are available is {I_all.sum()}.')\n",
    "dat.set_index('code')[all_vars].notnull().all(axis=1)\n",
    "#print list of countries with all variables available\n",
    "countries_with_all_vars = dat.loc[I_all, 'code'].tolist()\n",
    "print('Countries with all variables available:', countries_with_all_vars)"
   ]
  },
  {
   "cell_type": "code",
   "execution_count": 527,
   "metadata": {},
   "outputs": [
    {
     "name": "stdout",
     "output_type": "stream",
     "text": [
      "The reduced data contains 71 rows (countries) and 22 columns (variables).\n"
     ]
    }
   ],
   "source": [
    "#Now remove countries with any missing values in the selected variables\n",
    "dat_reduced = dat_reduced.dropna()\n",
    "print(f'The reduced data contains {dat_reduced.shape[0]} rows (countries) and {dat_reduced.shape[1]} columns (variables).')"
   ]
  },
  {
   "cell_type": "code",
   "execution_count": 533,
   "metadata": {},
   "outputs": [],
   "source": [
    "#Remove code column for the analysis\n",
    "dat_reduced = dat_reduced.drop(columns=['code'])"
   ]
  },
  {
   "cell_type": "markdown",
   "metadata": {},
   "source": [
    "# Simple OLS"
   ]
  },
  {
   "cell_type": "code",
   "execution_count": 534,
   "metadata": {},
   "outputs": [
    {
     "name": "stdout",
     "output_type": "stream",
     "text": [
      "Number of variables in the reduced data: 21\n"
     ]
    }
   ],
   "source": [
    "new_vars = dat_reduced.columns.tolist()\n",
    "print(f'Number of variables in the reduced data: {len(new_vars)}')\n",
    "\n",
    "#Make index based on the reduced data\n",
    "I = dat_reduced[new_vars].notnull().all(1)\n",
    "\n",
    "#make list of all explanatory variables (exclude gdp_growth)\n",
    "xs = dat_reduced.columns.tolist()\n",
    "xs.remove('gdp_growth')\n",
    "\n",
    "# extract data\n",
    "X = dat_reduced.loc[I, xs].values\n",
    "y = dat_reduced.loc[I,'gdp_growth'].values.reshape((-1,1)) * 100. #easier to read output when growth is in 100%\n",
    "\n",
    "# check the rank condition\n",
    "K = X.shape[1]\n",
    "assert np.linalg.matrix_rank(X) == X.shape[1], f'X does not have full rank'"
   ]
  },
  {
   "cell_type": "code",
   "execution_count": 535,
   "metadata": {},
   "outputs": [],
   "source": [
    "# compute the OLS estimator\n",
    "betas = np.linalg.inv(X.T @ X) @ X.T @ y"
   ]
  },
  {
   "cell_type": "code",
   "execution_count": 536,
   "metadata": {},
   "outputs": [
    {
     "name": "stdout",
     "output_type": "stream",
     "text": [
      "Mean y =  1.56% growth per year\n"
     ]
    },
    {
     "data": {
      "text/html": [
       "<div>\n",
       "<style scoped>\n",
       "    .dataframe tbody tr th:only-of-type {\n",
       "        vertical-align: middle;\n",
       "    }\n",
       "\n",
       "    .dataframe tbody tr th {\n",
       "        vertical-align: top;\n",
       "    }\n",
       "\n",
       "    .dataframe thead th {\n",
       "        text-align: right;\n",
       "    }\n",
       "</style>\n",
       "<table border=\"1\" class=\"dataframe\">\n",
       "  <thead>\n",
       "    <tr style=\"text-align: right;\">\n",
       "      <th></th>\n",
       "      <th>β</th>\n",
       "    </tr>\n",
       "  </thead>\n",
       "  <tbody>\n",
       "    <tr>\n",
       "      <th>lgdp_initial</th>\n",
       "      <td>-0.522</td>\n",
       "    </tr>\n",
       "    <tr>\n",
       "      <th>marketref</th>\n",
       "      <td>-0.003</td>\n",
       "    </tr>\n",
       "    <tr>\n",
       "      <th>polity</th>\n",
       "      <td>0.006</td>\n",
       "    </tr>\n",
       "    <tr>\n",
       "      <th>legor_fr</th>\n",
       "      <td>-0.852</td>\n",
       "    </tr>\n",
       "    <tr>\n",
       "      <th>legor_uk</th>\n",
       "      <td>-1.007</td>\n",
       "    </tr>\n",
       "    <tr>\n",
       "      <th>dem</th>\n",
       "      <td>0.684</td>\n",
       "    </tr>\n",
       "    <tr>\n",
       "      <th>demreg</th>\n",
       "      <td>-0.724</td>\n",
       "    </tr>\n",
       "    <tr>\n",
       "      <th>ln_yst</th>\n",
       "      <td>0.309</td>\n",
       "    </tr>\n",
       "    <tr>\n",
       "      <th>oilres</th>\n",
       "      <td>0.000</td>\n",
       "    </tr>\n",
       "    <tr>\n",
       "      <th>goldm</th>\n",
       "      <td>-0.031</td>\n",
       "    </tr>\n",
       "    <tr>\n",
       "      <th>iron</th>\n",
       "      <td>0.019</td>\n",
       "    </tr>\n",
       "    <tr>\n",
       "      <th>silv</th>\n",
       "      <td>-0.062</td>\n",
       "    </tr>\n",
       "    <tr>\n",
       "      <th>zinc</th>\n",
       "      <td>0.006</td>\n",
       "    </tr>\n",
       "    <tr>\n",
       "      <th>ls_bl</th>\n",
       "      <td>0.040</td>\n",
       "    </tr>\n",
       "    <tr>\n",
       "      <th>lh_bl</th>\n",
       "      <td>0.067</td>\n",
       "    </tr>\n",
       "    <tr>\n",
       "      <th>gdp_pc_initial</th>\n",
       "      <td>-0.000</td>\n",
       "    </tr>\n",
       "    <tr>\n",
       "      <th>lpop_initial</th>\n",
       "      <td>0.219</td>\n",
       "    </tr>\n",
       "    <tr>\n",
       "      <th>investment_rate</th>\n",
       "      <td>0.080</td>\n",
       "    </tr>\n",
       "    <tr>\n",
       "      <th>pop_growth</th>\n",
       "      <td>-72.342</td>\n",
       "    </tr>\n",
       "    <tr>\n",
       "      <th>constant</th>\n",
       "      <td>-0.255</td>\n",
       "    </tr>\n",
       "  </tbody>\n",
       "</table>\n",
       "</div>"
      ],
      "text/plain": [
       "                      β\n",
       "lgdp_initial     -0.522\n",
       "marketref        -0.003\n",
       "polity            0.006\n",
       "legor_fr         -0.852\n",
       "legor_uk         -1.007\n",
       "dem               0.684\n",
       "demreg           -0.724\n",
       "ln_yst            0.309\n",
       "oilres            0.000\n",
       "goldm            -0.031\n",
       "iron              0.019\n",
       "silv             -0.062\n",
       "zinc              0.006\n",
       "ls_bl             0.040\n",
       "lh_bl             0.067\n",
       "gdp_pc_initial   -0.000\n",
       "lpop_initial      0.219\n",
       "investment_rate   0.080\n",
       "pop_growth      -72.342\n",
       "constant         -0.255"
      ]
     },
     "execution_count": 536,
     "metadata": {},
     "output_type": "execute_result"
    }
   ],
   "source": [
    "#Format nicely\n",
    "print(f'Mean y = {y.mean(): 5.2f}% growth per year')\n",
    "pd.DataFrame({'β': betas[:,0]}, index=xs).round(3)"
   ]
  },
  {
   "cell_type": "markdown",
   "metadata": {},
   "source": [
    "# Prepare data"
   ]
  },
  {
   "cell_type": "code",
   "execution_count": null,
   "metadata": {},
   "outputs": [
    {
     "name": "stdout",
     "output_type": "stream",
     "text": [
      "The number of regressors in Z is 189\n"
     ]
    }
   ],
   "source": [
    "#Define d, Z and X\n",
    "d = dat_reduced.loc[I,'lgdp_initial'].values.reshape((-1,1))\n",
    "#Z is all variables except gdp_growth and lgdp_initial by dropping them from dat_reduced\n",
    "Z = dat_reduced.loc[I, :].drop(columns=['gdp_growth', 'lgdp_initial', 'constant']).values\n",
    "\n",
    "# Add polynomial features\n",
    "# Hint: remember, you don't want the constant\n",
    "Z = sklearn.preprocessing.PolynomialFeatures(degree=2, include_bias=False).fit_transform(Z)\n",
    "\n",
    "# Display number of regressors\n",
    "print(\"The number of regressors in Z is {}\".format(Z.shape[1]))"
   ]
  },
  {
   "cell_type": "code",
   "execution_count": 542,
   "metadata": {},
   "outputs": [],
   "source": [
    "# Construct X \n",
    "X = np.column_stack((d,Z))\n",
    "\n",
    "#Redfine output \n",
    "g_LR = dat_reduced.loc[I,'gdp_growth'] * 100 #easier to read output when growth is in %\n",
    "y = dat_reduced.loc[I, 'lgdp_initial']\n",
    "\n",
    "# Find N\n",
    "N = X.shape[0]"
   ]
  },
  {
   "cell_type": "code",
   "execution_count": 539,
   "metadata": {},
   "outputs": [
    {
     "name": "stdout",
     "output_type": "stream",
     "text": [
      "The shape of X is (71, 190)\n",
      "The shape of Z is (71, 189)\n",
      "The shape of d is (71, 1)\n"
     ]
    }
   ],
   "source": [
    "#print shape of X, Z, d\n",
    "print(\"The shape of X is {}\".format(X.shape))\n",
    "print(\"The shape of Z is {}\".format(Z.shape))\n",
    "print(\"The shape of d is {}\".format(d.shape))"
   ]
  },
  {
   "cell_type": "code",
   "execution_count": 540,
   "metadata": {},
   "outputs": [
    {
     "name": "stdout",
     "output_type": "stream",
     "text": [
      "Removed 1 constant columns.\n",
      "Number of columns after cleaning: 189\n",
      "Number of NaNs after standardization: 0\n"
     ]
    }
   ],
   "source": [
    "stds = np.std(X, axis=0)\n",
    "nonconstant_cols = stds != 0\n",
    "X = X[:, nonconstant_cols]\n",
    "Z = Z[:, np.std(Z, axis=0) != 0]  # hvis du også vil rense Z separat\n",
    "d = d[:, np.std(d, axis=0) != 0]  # burde dog ikke være nødvendigt for én kolonne\n",
    "\n",
    "print(f\"Removed {(~nonconstant_cols).sum()} constant columns.\")\n",
    "print(\"Number of columns after cleaning:\", X.shape[1])\n",
    "\n",
    "# Standardize data (function in py-file)\n",
    "X_stan = a2.standardize(X)\n",
    "Z_stan = a2.standardize(Z)\n",
    "y_stan = a2.standardize(y)\n",
    "\n",
    "print(\"Number of NaNs after standardization:\", np.isnan(X_stan).sum())"
   ]
  },
  {
   "cell_type": "markdown",
   "metadata": {},
   "source": [
    "# Post double using CV"
   ]
  },
  {
   "cell_type": "code",
   "execution_count": 543,
   "metadata": {},
   "outputs": [
    {
     "name": "stderr",
     "output_type": "stream",
     "text": [
      "/Applications/anaconda3/lib/python3.12/site-packages/sklearn/linear_model/_coordinate_descent.py:678: ConvergenceWarning: Objective did not converge. You might want to increase the number of iterations, check the scale of the features or consider increasing regularisation. Duality gap: 1.980e-02, tolerance: 1.131e-02\n",
      "  model = cd_fast.enet_coordinate_descent(\n",
      "/Applications/anaconda3/lib/python3.12/site-packages/sklearn/linear_model/_coordinate_descent.py:678: ConvergenceWarning: Objective did not converge. You might want to increase the number of iterations, check the scale of the features or consider increasing regularisation. Duality gap: 1.406e-02, tolerance: 1.017e-02\n",
      "  model = cd_fast.enet_coordinate_descent(\n",
      "/Applications/anaconda3/lib/python3.12/site-packages/sklearn/linear_model/_coordinate_descent.py:678: ConvergenceWarning: Objective did not converge. You might want to increase the number of iterations, check the scale of the features or consider increasing regularisation. Duality gap: 1.504e-02, tolerance: 1.017e-02\n",
      "  model = cd_fast.enet_coordinate_descent(\n",
      "/Applications/anaconda3/lib/python3.12/site-packages/sklearn/linear_model/_coordinate_descent.py:678: ConvergenceWarning: Objective did not converge. You might want to increase the number of iterations, check the scale of the features or consider increasing regularisation. Duality gap: 3.765e-02, tolerance: 1.017e-02\n",
      "  model = cd_fast.enet_coordinate_descent(\n",
      "/Applications/anaconda3/lib/python3.12/site-packages/sklearn/linear_model/_coordinate_descent.py:678: ConvergenceWarning: Objective did not converge. You might want to increase the number of iterations, check the scale of the features or consider increasing regularisation. Duality gap: 1.321e-02, tolerance: 1.017e-02\n",
      "  model = cd_fast.enet_coordinate_descent(\n",
      "/Applications/anaconda3/lib/python3.12/site-packages/sklearn/linear_model/_coordinate_descent.py:678: ConvergenceWarning: Objective did not converge. You might want to increase the number of iterations, check the scale of the features or consider increasing regularisation. Duality gap: 1.225e-02, tolerance: 1.017e-02\n",
      "  model = cd_fast.enet_coordinate_descent(\n",
      "/Applications/anaconda3/lib/python3.12/site-packages/sklearn/linear_model/_coordinate_descent.py:678: ConvergenceWarning: Objective did not converge. You might want to increase the number of iterations, check the scale of the features or consider increasing regularisation. Duality gap: 1.174e-02, tolerance: 1.017e-02\n",
      "  model = cd_fast.enet_coordinate_descent(\n",
      "/Applications/anaconda3/lib/python3.12/site-packages/sklearn/linear_model/_coordinate_descent.py:678: ConvergenceWarning: Objective did not converge. You might want to increase the number of iterations, check the scale of the features or consider increasing regularisation. Duality gap: 3.129e-02, tolerance: 1.403e-02\n",
      "  model = cd_fast.enet_coordinate_descent(\n",
      "/Applications/anaconda3/lib/python3.12/site-packages/sklearn/linear_model/_coordinate_descent.py:678: ConvergenceWarning: Objective did not converge. You might want to increase the number of iterations, check the scale of the features or consider increasing regularisation. Duality gap: 1.763e-02, tolerance: 1.403e-02\n",
      "  model = cd_fast.enet_coordinate_descent(\n",
      "/Applications/anaconda3/lib/python3.12/site-packages/sklearn/linear_model/_coordinate_descent.py:678: ConvergenceWarning: Objective did not converge. You might want to increase the number of iterations, check the scale of the features or consider increasing regularisation. Duality gap: 4.109e-02, tolerance: 1.403e-02\n",
      "  model = cd_fast.enet_coordinate_descent(\n",
      "/Applications/anaconda3/lib/python3.12/site-packages/sklearn/linear_model/_coordinate_descent.py:678: ConvergenceWarning: Objective did not converge. You might want to increase the number of iterations, check the scale of the features or consider increasing regularisation. Duality gap: 6.144e-02, tolerance: 1.403e-02\n",
      "  model = cd_fast.enet_coordinate_descent(\n",
      "/Applications/anaconda3/lib/python3.12/site-packages/sklearn/linear_model/_coordinate_descent.py:678: ConvergenceWarning: Objective did not converge. You might want to increase the number of iterations, check the scale of the features or consider increasing regularisation. Duality gap: 2.767e-02, tolerance: 1.403e-02\n",
      "  model = cd_fast.enet_coordinate_descent(\n",
      "/Applications/anaconda3/lib/python3.12/site-packages/sklearn/linear_model/_coordinate_descent.py:678: ConvergenceWarning: Objective did not converge. You might want to increase the number of iterations, check the scale of the features or consider increasing regularisation. Duality gap: 5.198e-02, tolerance: 1.403e-02\n",
      "  model = cd_fast.enet_coordinate_descent(\n",
      "/Applications/anaconda3/lib/python3.12/site-packages/sklearn/linear_model/_coordinate_descent.py:678: ConvergenceWarning: Objective did not converge. You might want to increase the number of iterations, check the scale of the features or consider increasing regularisation. Duality gap: 2.785e-02, tolerance: 1.403e-02\n",
      "  model = cd_fast.enet_coordinate_descent(\n",
      "/Applications/anaconda3/lib/python3.12/site-packages/sklearn/linear_model/_coordinate_descent.py:678: ConvergenceWarning: Objective did not converge. You might want to increase the number of iterations, check the scale of the features or consider increasing regularisation. Duality gap: 3.215e-02, tolerance: 1.403e-02\n",
      "  model = cd_fast.enet_coordinate_descent(\n",
      "/Applications/anaconda3/lib/python3.12/site-packages/sklearn/linear_model/_coordinate_descent.py:678: ConvergenceWarning: Objective did not converge. You might want to increase the number of iterations, check the scale of the features or consider increasing regularisation. Duality gap: 2.960e-02, tolerance: 9.983e-03\n",
      "  model = cd_fast.enet_coordinate_descent(\n",
      "/Applications/anaconda3/lib/python3.12/site-packages/sklearn/linear_model/_coordinate_descent.py:678: ConvergenceWarning: Objective did not converge. You might want to increase the number of iterations, check the scale of the features or consider increasing regularisation. Duality gap: 2.290e-02, tolerance: 9.983e-03\n",
      "  model = cd_fast.enet_coordinate_descent(\n",
      "/Applications/anaconda3/lib/python3.12/site-packages/sklearn/linear_model/_coordinate_descent.py:678: ConvergenceWarning: Objective did not converge. You might want to increase the number of iterations, check the scale of the features or consider increasing regularisation. Duality gap: 2.611e-02, tolerance: 9.983e-03\n",
      "  model = cd_fast.enet_coordinate_descent(\n",
      "/Applications/anaconda3/lib/python3.12/site-packages/sklearn/linear_model/_coordinate_descent.py:678: ConvergenceWarning: Objective did not converge. You might want to increase the number of iterations, check the scale of the features or consider increasing regularisation. Duality gap: 4.108e-02, tolerance: 9.983e-03\n",
      "  model = cd_fast.enet_coordinate_descent(\n",
      "/Applications/anaconda3/lib/python3.12/site-packages/sklearn/linear_model/_coordinate_descent.py:678: ConvergenceWarning: Objective did not converge. You might want to increase the number of iterations, check the scale of the features or consider increasing regularisation. Duality gap: 5.138e-02, tolerance: 9.983e-03\n",
      "  model = cd_fast.enet_coordinate_descent(\n",
      "/Applications/anaconda3/lib/python3.12/site-packages/sklearn/linear_model/_coordinate_descent.py:678: ConvergenceWarning: Objective did not converge. You might want to increase the number of iterations, check the scale of the features or consider increasing regularisation. Duality gap: 2.828e-02, tolerance: 9.983e-03\n",
      "  model = cd_fast.enet_coordinate_descent(\n",
      "/Applications/anaconda3/lib/python3.12/site-packages/sklearn/linear_model/_coordinate_descent.py:678: ConvergenceWarning: Objective did not converge. You might want to increase the number of iterations, check the scale of the features or consider increasing regularisation. Duality gap: 2.409e-02, tolerance: 1.298e-02\n",
      "  model = cd_fast.enet_coordinate_descent(\n",
      "/Applications/anaconda3/lib/python3.12/site-packages/sklearn/linear_model/_coordinate_descent.py:678: ConvergenceWarning: Objective did not converge. You might want to increase the number of iterations, check the scale of the features or consider increasing regularisation. Duality gap: 4.184e-02, tolerance: 1.298e-02\n",
      "  model = cd_fast.enet_coordinate_descent(\n",
      "/Applications/anaconda3/lib/python3.12/site-packages/sklearn/linear_model/_coordinate_descent.py:678: ConvergenceWarning: Objective did not converge. You might want to increase the number of iterations, check the scale of the features or consider increasing regularisation. Duality gap: 1.428e-02, tolerance: 1.298e-02\n",
      "  model = cd_fast.enet_coordinate_descent(\n",
      "/Applications/anaconda3/lib/python3.12/site-packages/sklearn/linear_model/_coordinate_descent.py:678: ConvergenceWarning: Objective did not converge. You might want to increase the number of iterations, check the scale of the features or consider increasing regularisation. Duality gap: 2.370e-02, tolerance: 1.298e-02\n",
      "  model = cd_fast.enet_coordinate_descent(\n",
      "/Applications/anaconda3/lib/python3.12/site-packages/sklearn/linear_model/_coordinate_descent.py:678: ConvergenceWarning: Objective did not converge. You might want to increase the number of iterations, check the scale of the features or consider increasing regularisation. Duality gap: 2.835e-02, tolerance: 1.298e-02\n",
      "  model = cd_fast.enet_coordinate_descent(\n",
      "/Applications/anaconda3/lib/python3.12/site-packages/sklearn/linear_model/_coordinate_descent.py:678: ConvergenceWarning: Objective did not converge. You might want to increase the number of iterations, check the scale of the features or consider increasing regularisation. Duality gap: 2.547e-02, tolerance: 1.298e-02\n",
      "  model = cd_fast.enet_coordinate_descent(\n",
      "/Applications/anaconda3/lib/python3.12/site-packages/sklearn/linear_model/_coordinate_descent.py:678: ConvergenceWarning: Objective did not converge. You might want to increase the number of iterations, check the scale of the features or consider increasing regularisation. Duality gap: 1.660e-02, tolerance: 1.298e-02\n",
      "  model = cd_fast.enet_coordinate_descent(\n",
      "/Applications/anaconda3/lib/python3.12/site-packages/sklearn/linear_model/_coordinate_descent.py:678: ConvergenceWarning: Objective did not converge. You might want to increase the number of iterations, check the scale of the features or consider increasing regularisation. Duality gap: 2.016e-02, tolerance: 1.298e-02\n",
      "  model = cd_fast.enet_coordinate_descent(\n",
      "/Applications/anaconda3/lib/python3.12/site-packages/sklearn/linear_model/_coordinate_descent.py:678: ConvergenceWarning: Objective did not converge. You might want to increase the number of iterations, check the scale of the features or consider increasing regularisation. Duality gap: 2.600e-02, tolerance: 1.298e-02\n",
      "  model = cd_fast.enet_coordinate_descent(\n",
      "/Applications/anaconda3/lib/python3.12/site-packages/sklearn/linear_model/_coordinate_descent.py:678: ConvergenceWarning: Objective did not converge. You might want to increase the number of iterations, check the scale of the features or consider increasing regularisation. Duality gap: 5.207e-02, tolerance: 1.298e-02\n",
      "  model = cd_fast.enet_coordinate_descent(\n",
      "/Applications/anaconda3/lib/python3.12/site-packages/sklearn/linear_model/_coordinate_descent.py:678: ConvergenceWarning: Objective did not converge. You might want to increase the number of iterations, check the scale of the features or consider increasing regularisation. Duality gap: 6.774e-02, tolerance: 1.298e-02\n",
      "  model = cd_fast.enet_coordinate_descent(\n",
      "/Applications/anaconda3/lib/python3.12/site-packages/sklearn/linear_model/_coordinate_descent.py:678: ConvergenceWarning: Objective did not converge. You might want to increase the number of iterations, check the scale of the features or consider increasing regularisation. Duality gap: 8.091e-02, tolerance: 1.298e-02\n",
      "  model = cd_fast.enet_coordinate_descent(\n",
      "/Applications/anaconda3/lib/python3.12/site-packages/sklearn/linear_model/_coordinate_descent.py:678: ConvergenceWarning: Objective did not converge. You might want to increase the number of iterations, check the scale of the features or consider increasing regularisation. Duality gap: 7.065e-02, tolerance: 1.298e-02\n",
      "  model = cd_fast.enet_coordinate_descent(\n",
      "/Applications/anaconda3/lib/python3.12/site-packages/sklearn/linear_model/_coordinate_descent.py:678: ConvergenceWarning: Objective did not converge. You might want to increase the number of iterations, check the scale of the features or consider increasing regularisation. Duality gap: 1.611e-02, tolerance: 1.229e-02\n",
      "  model = cd_fast.enet_coordinate_descent(\n",
      "/Applications/anaconda3/lib/python3.12/site-packages/sklearn/linear_model/_coordinate_descent.py:678: ConvergenceWarning: Objective did not converge. You might want to increase the number of iterations, check the scale of the features or consider increasing regularisation. Duality gap: 2.917e-02, tolerance: 1.229e-02\n",
      "  model = cd_fast.enet_coordinate_descent(\n",
      "/Applications/anaconda3/lib/python3.12/site-packages/sklearn/linear_model/_coordinate_descent.py:678: ConvergenceWarning: Objective did not converge. You might want to increase the number of iterations, check the scale of the features or consider increasing regularisation. Duality gap: 2.924e-02, tolerance: 1.229e-02\n",
      "  model = cd_fast.enet_coordinate_descent(\n",
      "/Applications/anaconda3/lib/python3.12/site-packages/sklearn/linear_model/_coordinate_descent.py:678: ConvergenceWarning: Objective did not converge. You might want to increase the number of iterations, check the scale of the features or consider increasing regularisation. Duality gap: 1.542e-02, tolerance: 1.229e-02\n",
      "  model = cd_fast.enet_coordinate_descent(\n",
      "/Applications/anaconda3/lib/python3.12/site-packages/sklearn/linear_model/_coordinate_descent.py:678: ConvergenceWarning: Objective did not converge. You might want to increase the number of iterations, check the scale of the features or consider increasing regularisation. Duality gap: 2.060e-02, tolerance: 1.229e-02\n",
      "  model = cd_fast.enet_coordinate_descent(\n",
      "/Applications/anaconda3/lib/python3.12/site-packages/sklearn/linear_model/_coordinate_descent.py:678: ConvergenceWarning: Objective did not converge. You might want to increase the number of iterations, check the scale of the features or consider increasing regularisation. Duality gap: 1.889e-02, tolerance: 1.229e-02\n",
      "  model = cd_fast.enet_coordinate_descent(\n",
      "/Applications/anaconda3/lib/python3.12/site-packages/sklearn/linear_model/_coordinate_descent.py:678: ConvergenceWarning: Objective did not converge. You might want to increase the number of iterations, check the scale of the features or consider increasing regularisation. Duality gap: 5.649e-02, tolerance: 1.229e-02\n",
      "  model = cd_fast.enet_coordinate_descent(\n",
      "/Applications/anaconda3/lib/python3.12/site-packages/sklearn/linear_model/_coordinate_descent.py:678: ConvergenceWarning: Objective did not converge. You might want to increase the number of iterations, check the scale of the features or consider increasing regularisation. Duality gap: 6.462e-02, tolerance: 1.229e-02\n",
      "  model = cd_fast.enet_coordinate_descent(\n",
      "/Applications/anaconda3/lib/python3.12/site-packages/sklearn/linear_model/_coordinate_descent.py:678: ConvergenceWarning: Objective did not converge. You might want to increase the number of iterations, check the scale of the features or consider increasing regularisation. Duality gap: 2.061e-02, tolerance: 1.229e-02\n",
      "  model = cd_fast.enet_coordinate_descent(\n"
     ]
    },
    {
     "name": "stdout",
     "output_type": "stream",
     "text": [
      "The first-stage penalty is =  0.06\n",
      "The second-stage penalty is =  0.058\n",
      "The number of non-zero coefficients in the first stage is 20\n",
      "The number of non-zero coefficients in the second stage is = 17\n",
      "beta_PDL_hat =  -0.514\n",
      "SE for beta_PDL_hat  0.205\n",
      "Confidence interval for alpha =  (-0.915, -0.112)\n"
     ]
    },
    {
     "name": "stderr",
     "output_type": "stream",
     "text": [
      "/Applications/anaconda3/lib/python3.12/site-packages/sklearn/linear_model/_coordinate_descent.py:678: ConvergenceWarning: Objective did not converge. You might want to increase the number of iterations, check the scale of the features or consider increasing regularisation. Duality gap: 4.146e-02, tolerance: 1.229e-02\n",
      "  model = cd_fast.enet_coordinate_descent(\n"
     ]
    }
   ],
   "source": [
    "# Post-Double-Lasso with CV (function in py-file)\n",
    "alpha_PDL, se_PDL, CI_low_PDL, CI_high_PDL = a2.post_double_lasso_analysis(Z_stan, y, X_stan, g_LR, penalty_method='CV')"
   ]
  },
  {
   "cell_type": "markdown",
   "metadata": {},
   "source": [
    "# Post-Double-Lasso using BCCH-penalty"
   ]
  },
  {
   "cell_type": "code",
   "execution_count": 544,
   "metadata": {},
   "outputs": [
    {
     "name": "stdout",
     "output_type": "stream",
     "text": [
      "The first-stage penalty is =  1.102\n",
      "The second-stage penalty is =  1.46\n",
      "The number of non-zero coefficients in the first stage is 1\n",
      "The number of non-zero coefficients in the second stage is = 0\n",
      "beta_PDL_hat =  -0.193\n",
      "SE for beta_PDL_hat  0.161\n",
      "Confidence interval for alpha =  (-0.509, 0.123)\n"
     ]
    }
   ],
   "source": [
    "# Post-Double-Lasso with BCCH (function in py-file)\n",
    "alpha_PDL, se_PDL, CI_low_PDL, CI_high_PDL = a2.post_double_lasso_analysis(Z_stan, y, X_stan, g_LR, penalty_method='BCCH')"
   ]
  },
  {
   "cell_type": "markdown",
   "metadata": {},
   "source": [
    "# Post Double using BRT"
   ]
  },
  {
   "cell_type": "code",
   "execution_count": 548,
   "metadata": {},
   "outputs": [
    {
     "name": "stdout",
     "output_type": "stream",
     "text": [
      "The first-stage penalty is =  0.658\n",
      "The second-stage penalty is =  0.691\n",
      "The number of non-zero coefficients in the first stage is 2\n",
      "The number of non-zero coefficients in the second stage is = 2\n",
      "beta_PDL_hat =  -0.26\n",
      "SE for beta_PDL_hat  0.244\n",
      "Confidence interval for alpha =  (-0.738, 0.219)\n"
     ]
    }
   ],
   "source": [
    "# Post-Double-Lasso with BRT (function in py-file)\n",
    "alpha_PDL, se_PDL, CI_low_PDL, CI_high_PDL = a2.post_double_lasso_analysis(Z_stan, y, X_stan, g_LR, penalty_method='BRT')"
   ]
  },
  {
   "cell_type": "markdown",
   "metadata": {},
   "source": [
    "# Lasso Path"
   ]
  },
  {
   "cell_type": "code",
   "execution_count": null,
   "metadata": {},
   "outputs": [
    {
     "name": "stderr",
     "output_type": "stream",
     "text": [
      "<>:23: SyntaxWarning: invalid escape sequence '\\l'\n",
      "<>:23: SyntaxWarning: invalid escape sequence '\\l'\n",
      "/var/folders/yb/2nwpczt56kvbrmb8klk29wfw0000gn/T/ipykernel_37919/1807855942.py:23: SyntaxWarning: invalid escape sequence '\\l'\n",
      "  plt.xlabel('Penalty, $\\lambda$')\n"
     ]
    }
   ],
   "source": [
    "def plot_lasso_path(penalty_grid, coefs, legends, vlines: dict = None):\n",
    "    \"\"\"\n",
    "    Plots the coefficients as a function of the penalty parameter for Lasso regression.\n",
    "\n",
    "    Parameters:\n",
    "    penalty_grid (array-like): The penalty parameter values.\n",
    "    coefs (array-like): The estimated coefficients for each penalty value.\n",
    "    legends (list): The labels for each coefficient estimate.\n",
    "    vlines (dict, optional): A dictionary of vertical lines to add to the plot. The keys are the names of the lines and the values are the penalty values where the lines should be drawn.\n",
    "    \n",
    "    \"\"\"\n",
    "    # Initiate figure \n",
    "    fig, ax = plt.subplots()\n",
    "\n",
    "    # Plot coefficients as a function of the penalty parameter\n",
    "    for i in range(len(coefs[0])):\n",
    "        ax.plot(penalty_grid, np.array(coefs)[:, i], label=legends[i])\n",
    "\n",
    "    # Set log scale for the x-axis\n",
    "    ax.set_xscale('log')\n",
    "\n",
    "    # Add labels\n",
    "    plt.xlabel('Penalty, $\\lambda$')\n",
    "    plt.ylabel(r'Estimates, $\\widehat{\\beta}_j(\\lambda)$')\n",
    "    plt.title('Lasso Path')\n",
    "\n",
    "    # Add legends\n",
    "    lgd=ax.legend(legends,loc=(1.04,0))\n",
    "    \n",
    "    # Add vertical lines\n",
    "    if vlines is not None:\n",
    "        for name, penalty in vlines.items():\n",
    "            ax.axvline(x=penalty, linestyle='--', color='grey')\n",
    "            plt.text(penalty,-80000,name,rotation=90)\n",
    "\n",
    "    \n",
    "    # Display plot\n",
    "    plt.show()\n",
    "    plt.close()"
   ]
  },
  {
   "cell_type": "code",
   "execution_count": null,
   "metadata": {},
   "outputs": [
    {
     "name": "stdout",
     "output_type": "stream",
     "text": [
      "[1.00000000e-02 1.38318219e-02 1.91319296e-02 2.64629443e-02\n",
      " 3.66030732e-02 5.06287188e-02 7.00287420e-02 9.68625086e-02\n",
      " 1.33978497e-01 1.85316670e-01 2.56326717e-01 3.54546549e-01\n",
      " 4.90402471e-01 6.78315963e-01 9.38234557e-01 1.29774933e+00\n",
      " 1.79502375e+00 2.48284488e+00 3.43422681e+00 4.75016136e+00\n",
      " 6.57033858e+00 9.08797528e+00 1.25703255e+01 1.73870504e+01\n",
      " 2.40494584e+01 3.32647824e+01 4.60112545e+01 6.36419477e+01\n",
      " 8.80284084e+01 1.21759327e+02 1.68415332e+02 2.32949087e+02\n",
      " 3.22211027e+02 4.45676554e+02 6.16451870e+02 8.52665247e+02\n",
      " 1.17939138e+03 1.63131315e+03 2.25640329e+03 3.12101684e+03\n",
      " 4.31693490e+03 5.97110746e+03 8.25912948e+03 1.14238808e+04\n",
      " 1.58013084e+04 2.18560883e+04 3.02309521e+04 4.18149144e+04\n",
      " 5.78376448e+04 8.00000000e+04]\n",
      "BRT penalty: 0.6577989601371024\n"
     ]
    }
   ],
   "source": [
    "penalty_grid = np.geomspace(0.01, 80000, num=50)\n",
    "print(penalty_grid)\n",
    "\n",
    "#Extract BRT penalty from as using the function in the py-file\n",
    "brt_penalty = a2.BRT(X_stan, y)\n",
    "print(f'BRT penalty: {brt_penalty}')\n",
    "\n"
   ]
  },
  {
   "cell_type": "code",
   "execution_count": null,
   "metadata": {},
   "outputs": [],
   "source": []
  }
 ],
 "metadata": {
  "kernelspec": {
   "display_name": "base",
   "language": "python",
   "name": "python3"
  },
  "language_info": {
   "codemirror_mode": {
    "name": "ipython",
    "version": 3
   },
   "file_extension": ".py",
   "mimetype": "text/x-python",
   "name": "python",
   "nbconvert_exporter": "python",
   "pygments_lexer": "ipython3",
   "version": "3.12.4"
  }
 },
 "nbformat": 4,
 "nbformat_minor": 4
}
