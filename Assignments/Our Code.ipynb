{
 "cells": [
  {
   "cell_type": "markdown",
   "metadata": {},
   "source": [
    "# Production Technology\n",
    "### Code for Project 1. Anna Livia, Jens og Freja \n",
    "\n",
    "The dataset contains `N = 441` firms observed over `T = 12` years, 1968-1979. There variables are: \n",
    "* `lcap`: Log of capital stock, $k_{it}$ \n",
    "* `lemp`: log of employment, $\\ell_{it}$ \n",
    "* `ldsa`: log of deflated sales, $y_{it}$\n",
    "* `year`: the calendar year of the observation, `year` $ = 1968, ..., 1979$, \n",
    "* `firmid`: anonymized indicator variable for the firm, $i = 1, ..., N$, with $N=441$. "
   ]
  },
  {
   "cell_type": "code",
   "execution_count": 1,
   "metadata": {},
   "outputs": [
    {
     "name": "stdout",
     "output_type": "stream",
     "text": [
      "['reg_table.tex', '2025-09_Project_1.pdf', 'project_1.py', 'firms.csv', '__pycache__', 'figure_prod_vs_intensity.png', 'read (1).ipynb', 'figure1_ldsa_vs_lemp_lcap.png']\n"
     ]
    }
   ],
   "source": [
    "import pandas as pd \n",
    "import numpy as np\n",
    "import seaborn as sns\n",
    "import os\n",
    "print(os.listdir())\n",
    "import project_1 as est\n",
    "from numpy import linalg as la\n",
    "from scipy.stats import chi2\n",
    "from scipy import stats\n",
    "import matplotlib.pyplot as plt\n",
    "\n",
    "%load_ext autoreload\n",
    "%autoreload 2"
   ]
  },
  {
   "cell_type": "code",
   "execution_count": 2,
   "metadata": {},
   "outputs": [],
   "source": [
    "dat = pd.read_csv('firms.csv')"
   ]
  },
  {
   "cell_type": "markdown",
   "metadata": {},
   "source": [
    "# Descriptives"
   ]
  },
  {
   "cell_type": "code",
   "execution_count": 3,
   "metadata": {},
   "outputs": [],
   "source": [
    "#Making more variables for descriptive statistics\n",
    "dat['capital'] = np.exp(dat['lcap'])\n",
    "dat['ansatte'] = np.exp(dat['lemp'])\n",
    "dat['dsa'] = np.exp(dat['ldsa'])\n",
    "dat['empl_prod'] = dat['dsa']/dat['ansatte']\n",
    "dat['cap_prod'] = dat['dsa']/dat['capital']\n",
    "dat['intensity'] = dat['capital']/dat['ansatte']"
   ]
  },
  {
   "cell_type": "code",
   "execution_count": 4,
   "metadata": {},
   "outputs": [
    {
     "name": "stdout",
     "output_type": "stream",
     "text": [
      "            Mean     SD    Min     Max   Skew  ExKurt  JB p\n",
      "lcap      -0.000  1.311 -3.865   4.104  0.295  -0.133   0.0\n",
      "lemp      -0.000  1.180 -3.383   3.371  0.222  -0.190   0.0\n",
      "ldsa       0.000  1.232 -3.552   3.913  0.297  -0.260   0.0\n",
      "capital    2.524  5.079  0.021  60.563  5.499  41.329   0.0\n",
      "ansatte    2.058  3.141  0.034  29.117  3.476  15.489   0.0\n",
      "dsa        2.233  3.800  0.029  50.068  4.392  28.024   0.0\n",
      "empl_prod  1.090  0.532  0.249   7.240  3.331  22.394   0.0\n",
      "cap_prod   1.153  0.710  0.143   8.724  2.754  14.108   0.0\n",
      "intensity  1.166  0.827  0.110  13.856  5.838  64.016   0.0\n",
      "\\begin{table}\n",
      "\\caption{Descriptive statistics: Mean, SD, Min, Max, Skewness, Excess Kurtosis (normal = 0) and Jarque–Bera p-value}\n",
      "\\label{tab:all_vars_desc}\n",
      "\\begin{tabular}{lrrrrrrr}\n",
      "\\toprule\n",
      " & Mean & SD & Min & Max & Skew & ExKurt & JB p \\\\\n",
      "\\midrule\n",
      "lcap & -0.000 & 1.311 & -3.865 & 4.104 & 0.295 & -0.133 & 0.000 \\\\\n",
      "lemp & -0.000 & 1.180 & -3.383 & 3.371 & 0.222 & -0.190 & 0.000 \\\\\n",
      "ldsa & 0.000 & 1.232 & -3.552 & 3.913 & 0.297 & -0.260 & 0.000 \\\\\n",
      "capital & 2.524 & 5.079 & 0.021 & 60.563 & 5.499 & 41.329 & 0.000 \\\\\n",
      "ansatte & 2.058 & 3.141 & 0.034 & 29.117 & 3.476 & 15.489 & 0.000 \\\\\n",
      "dsa & 2.233 & 3.800 & 0.029 & 50.068 & 4.392 & 28.024 & 0.000 \\\\\n",
      "empl_prod & 1.090 & 0.532 & 0.249 & 7.240 & 3.331 & 22.394 & 0.000 \\\\\n",
      "cap_prod & 1.153 & 0.710 & 0.143 & 8.724 & 2.754 & 14.108 & 0.000 \\\\\n",
      "intensity & 1.166 & 0.827 & 0.110 & 13.856 & 5.838 & 64.016 & 0.000 \\\\\n",
      "\\bottomrule\n",
      "\\end{tabular}\n",
      "\\end{table}\n",
      "\n"
     ]
    }
   ],
   "source": [
    "#Descriptive statistics\n",
    "cols = ['lcap','lemp','ldsa',\n",
    "        'capital','ansatte','dsa',\n",
    "        'empl_prod','cap_prod','intensity']\n",
    "\n",
    "def skew(x):\n",
    "    return stats.skew(x, bias=False, nan_policy='omit')\n",
    "\n",
    "def exkurt(x):\n",
    "    # Excess kurtosis (Fisher) => normalfordeling har 0\n",
    "    return stats.kurtosis(x, fisher=True, bias=False, nan_policy='omit')\n",
    "\n",
    "def jb_p(x):\n",
    "    jb = stats.jarque_bera(x, nan_policy='omit')\n",
    "    return jb.pvalue\n",
    "\n",
    "summ = pd.DataFrame({\n",
    "    'Mean':   dat[cols].mean(),\n",
    "    'SD':     dat[cols].std(ddof=1),\n",
    "    'Min':    dat[cols].min(),\n",
    "    'Max':    dat[cols].max(),\n",
    "    'Skew':   dat[cols].apply(skew, axis=0),\n",
    "    'ExKurt': dat[cols].apply(exkurt, axis=0),\n",
    "    'JB p':   dat[cols].apply(jb_p, axis=0)\n",
    "}).round(3)\n",
    "\n",
    "print(summ)\n",
    "\n",
    "latex = summ.to_latex(\n",
    "    index=True,\n",
    "    caption='Descriptive statistics: Mean, SD, Min, Max, Skewness, Excess Kurtosis (normal = 0) and Jarque–Bera p-value',\n",
    "    label='tab:all_vars_desc',\n",
    "    float_format=\"%.3f\",\n",
    "    escape=False\n",
    ")\n",
    "print(latex)"
   ]
  },
  {
   "cell_type": "code",
   "execution_count": 5,
   "metadata": {},
   "outputs": [
    {
     "data": {
      "image/png": "[encoded data removed]",
      "text/plain": [
       "<Figure size 640x480 with 1 Axes>"
      ]
     },
     "metadata": {},
     "output_type": "display_data"
    }
   ],
   "source": [
    "#Return to scale graphical illustration\n",
    "x = (dat['lemp'] + dat['lcap']).to_numpy()\n",
    "y = dat['ldsa'].to_numpy()\n",
    "\n",
    "b, a = np.polyfit(x, y, 1)\n",
    "\n",
    "plt.figure()\n",
    "plt.scatter(x, y, s=8, alpha=0.5)\n",
    "xg = np.linspace(x.min(), x.max(), 200)\n",
    "plt.plot(xg, a + b*xg, linewidth=2, label=f'OLS slope = {b:.3f}')\n",
    "\n",
    "# Reference-linje med hældning 1, flyttet så den går gennem (x̄, ȳ)\n",
    "plt.plot(xg, (y.mean() - x.mean()) + 1.0*xg, linestyle='--', linewidth=1, label='Reference slope = 1')\n",
    "\n",
    "plt.xlabel('Input (lemp + lcap)')\n",
    "plt.ylabel('Deflated sales (ldsa)')\n",
    "plt.legend()\n",
    "plt.tight_layout()\n",
    "plt.savefig('figure1_ldsa_vs_lemp_lcap.png', dpi=300)\n",
    "plt.show()"
   ]
  },
  {
   "cell_type": "markdown",
   "metadata": {},
   "source": [
    "### Converting data to numpy format "
   ]
  },
  {
   "cell_type": "code",
   "execution_count": 6,
   "metadata": {},
   "outputs": [
    {
     "data": {
      "text/plain": [
       "(5292,)"
      ]
     },
     "execution_count": 6,
     "metadata": {},
     "output_type": "execute_result"
    }
   ],
   "source": [
    "dat.ldsa.values.shape"
   ]
  },
  {
   "cell_type": "code",
   "execution_count": 7,
   "metadata": {},
   "outputs": [
    {
     "name": "stdout",
     "output_type": "stream",
     "text": [
      "Data has N=441 and T=12\n"
     ]
    }
   ],
   "source": [
    "#Define N and T for our models \n",
    "N = dat.firmid.unique().size\n",
    "T = dat.year.unique().size\n",
    "assert dat.shape[0] == N*T, f'Error: data is not a balanced panel'\n",
    "print(f'Data has N={N} and T={T}')"
   ]
  },
  {
   "cell_type": "code",
   "execution_count": 8,
   "metadata": {},
   "outputs": [],
   "source": [
    "#Define sales as our dependent variable \n",
    "y = dat.ldsa.values.reshape((N*T,1))\n",
    "\n",
    "#Makes variables\n",
    "ones = np.ones((N*T,1)) \n",
    "l = dat.lemp.values.reshape((N*T,1))\n",
    "k = dat.lcap.values.reshape((N*T,1))\n",
    "X = np.hstack([ones, l, k])\n",
    "label_y = 'log_omsætning'\n",
    "label_x = ['const', 'log_ansatte', 'log_kapital']\n",
    "\n",
    "#Rename columns for easier reading\n",
    "rename_dict = {'year': 'aar', 'ldsa':'log_omsætning', 'lemp': 'log_ansatte', 'lcap': 'log_kapital'}\n",
    "dat = dat.rename(columns=rename_dict)"
   ]
  },
  {
   "cell_type": "markdown",
   "metadata": {},
   "source": [
    "### OLS"
   ]
  },
  {
   "cell_type": "code",
   "execution_count": null,
   "metadata": {},
   "outputs": [
    {
     "name": "stdout",
     "output_type": "stream",
     "text": [
      "Pooled OLS regression\n",
      "Dependent variable: log_omsætning\n",
      "\n",
      "               Beta      Se    t-values\n",
      "-----------  ------  ------  ----------\n",
      "const        0.0000  0.0050      0.0000\n",
      "log_ansatte  0.6748  0.0102     66.4625\n",
      "log_kapital  0.3100  0.0091     33.9237\n",
      "R² = 0.914\n",
      "σ² = 0.131\n"
     ]
    }
   ],
   "source": [
    "pooled_result = est.estimate(y, X, T=T)\n",
    "est.print_table((label_y, label_x), pooled_result, title='Pooled OLS regression', floatfmt='.4f')"
   ]
  },
  {
   "cell_type": "markdown",
   "metadata": {},
   "source": [
    "### FE"
   ]
  },
  {
   "cell_type": "code",
   "execution_count": 10,
   "metadata": {},
   "outputs": [
    {
     "name": "stdout",
     "output_type": "stream",
     "text": [
      "Dimension of Q_T: (12, 12)\n",
      "Fixed Effects\n",
      "Dependent variable: log_omsætning\n",
      "\n",
      "               Beta      Se    t-values\n",
      "-----------  ------  ------  ----------\n",
      "log_ansatte  0.6942  0.0417     16.6674\n",
      "log_kapital  0.1546  0.0299      5.1630\n",
      "R² = 0.477\n",
      "σ² = 0.018\n"
     ]
    }
   ],
   "source": [
    "#Create transformation matrix\n",
    "Q_T = np.eye(T) - (np.ones((T,T)))/T\n",
    "#Print dimension of Q_T\n",
    "print(f'Dimension of Q_T: {Q_T.shape}')\n",
    "\n",
    "#Create y and x dot using the perm function\n",
    "y_dot = est.perm(Q_T, y.reshape(-1, 1))           # (N*T, 1)\n",
    "x_dot = est.perm(Q_T, X)                           # (N*T, K)\n",
    "#Remove constant from x_dot\n",
    "x_dot = x_dot[:,1:]\n",
    "\n",
    "# Estimate the fe model using the estimate function\n",
    "label_x_fe = ['log_ansatte', 'log_kapital'] \n",
    "fe_result = est.estimate(y_dot, x_dot, robust_se=True, transform='fe', T=T)\n",
    "est.print_table((label_y, label_x_fe), fe_result, title=\"Fixed Effects\", floatfmt='.4f')"
   ]
  },
  {
   "cell_type": "markdown",
   "metadata": {},
   "source": [
    "### FD and Serial correlation"
   ]
  },
  {
   "cell_type": "code",
   "execution_count": 11,
   "metadata": {},
   "outputs": [
    {
     "name": "stdout",
     "output_type": "stream",
     "text": [
      "FD regression\n",
      "Dependent variable: log_omsætning\n",
      "\n",
      "               Beta      Se    t-values\n",
      "-----------  ------  ------  ----------\n",
      "log_ansatte  0.5487  0.0284     19.3056\n",
      "log_kapital  0.0630  0.0229      2.7460\n",
      "R² = 0.165\n",
      "σ² = 0.014\n"
     ]
    }
   ],
   "source": [
    "#Make FD transformation matrix\n",
    "def fd_matrix(T):\n",
    "    D_T = np.zeros((T-1, T))\n",
    "    for i in range (T-1):\n",
    "        D_T[i,i] = -1\n",
    "        D_T[i, i+1] = 1\n",
    "    return D_T\n",
    "\n",
    "D_T = fd_matrix(T)\n",
    "\n",
    "#Makes FD transformation\n",
    "y_diff = est.perm(D_T, y.reshape(-1, 1))           # (N*(T-1), 1)\n",
    "x_diff = est.perm(D_T, X)                           # (N*(T-1, K)\n",
    "\n",
    "#Remove constant from x_diff\n",
    "x_diff = x_diff[:, 1:]  \n",
    "\n",
    "#Estimate FD \n",
    "fd_result = est.estimate(y_diff, x_diff, transform='fd', robust_se=True ,T=T)\n",
    "label_x_fd = ['log_ansatte', 'log_kapital']\n",
    "\n",
    "#Print results\n",
    "est.print_table((label_y, label_x_fd), fd_result, title='FD regression', floatfmt='.4f')"
   ]
  },
  {
   "cell_type": "code",
   "execution_count": 12,
   "metadata": {},
   "outputs": [],
   "source": [
    "#Make function to calculate the serial correlation\n",
    "def serial_corr(y, x, T):\n",
    "    #Calculate the residuals\n",
    "    if x.ndim == 1:\n",
    "        x = x.reshape(-1, 1)     \n",
    "    if y.ndim == 1:\n",
    "        y = y.reshape(-1, 1)                    \n",
    "    b_hat = la.inv(x.T @ x) @ (x.T @ y)\n",
    "    e = y - x @ b_hat                         # (N*T,)\n",
    "\n",
    "    # Create a lag transformation matrix (perm to lag)\n",
    "    P_lag = np.eye(T-1, T)                    # (T-1 x T)\n",
    "\n",
    "    #Lag residuals \n",
    "    E = e.reshape(-1, T)                      # (N, T)\n",
    "    e_l = (E @ P_lag.T).reshape(-1, 1)        # (N*(T-1), 1)  ← regressor\n",
    "\n",
    "    # Create a transformation matrix that removes the first time-period (perm to drop first)\n",
    "    I_T = np.eye(T-1, T, k=1)                 # (T-1 x T)\n",
    "\n",
    "    # Remove first observation of each individual (align \"now\" with the lag)\n",
    "    e = (E @ I_T.T).reshape(-1,1)              # (N*(T-1),)\n",
    "\n",
    "    #Calculate the serial correlation \n",
    "    N = e.shape[0] // (T-1)\n",
    "    return est.estimate(e, e_l, transform='fd', T=T-1)"
   ]
  },
  {
   "cell_type": "code",
   "execution_count": 13,
   "metadata": {},
   "outputs": [
    {
     "name": "stdout",
     "output_type": "stream",
     "text": [
      "Serial Correlation\n",
      "Dependent variable: OLS residual, eᵢₜ\n",
      "\n",
      "          Beta      Se    t-values\n",
      "-----  -------  ------  ----------\n",
      "eᵢₜ₋₁  -0.1987  0.0148    -13.4493\n",
      "R² = 0.039\n",
      "σ² = 0.014\n",
      "P-value for test of no serial correlation:   0.0000\n"
     ]
    }
   ],
   "source": [
    "#Estimate serial correlation\n",
    "corr_result = serial_corr(y_diff, x_diff, T-1)\n",
    "#Print results\n",
    "label_ye = 'OLS residual, e\\u1d62\\u209c'\n",
    "label_e = ['e\\u1d62\\u209c\\u208B\\u2081']\n",
    "est.print_table(\n",
    "    (label_ye, label_e), corr_result, \n",
    "    title='Serial Correlation', floatfmt='.4f'\n",
    ")\n",
    "#Calculate p-value for test of no serial correlation\n",
    "r = corr_result['b_hat'][0]\n",
    "p_val = 2 * (1 - stats.norm.cdf(np.abs(r) / corr_result['se'][0]))\n",
    "print(f'P-value for test of no serial correlation: {p_val[0]:8.4f}')"
   ]
  },
  {
   "cell_type": "markdown",
   "metadata": {},
   "source": [
    "### Test for strict exogeneity"
   ]
  },
  {
   "cell_type": "code",
   "execution_count": 14,
   "metadata": {},
   "outputs": [
    {
     "name": "stdout",
     "output_type": "stream",
     "text": [
      "Exogeneity test\n",
      "Dependent variable: log_omsætning\n",
      "\n",
      "            Beta      Se    t-values\n",
      "--------  ------  ------  ----------\n",
      "emp       0.6479  0.0463     13.9826\n",
      "cap       0.0210  0.0374      0.5620\n",
      "emp lead  0.1793  0.0450      3.9819\n",
      "R² = 0.474\n",
      "σ² = 0.016\n",
      "Test statistic for H0: beta_3 = 0 is [3.98186774] with p-value   0.0283\n"
     ]
    },
    {
     "name": "stderr",
     "output_type": "stream",
     "text": [
      "/var/folders/yb/2nwpczt56kvbrmb8klk29wfw0000gn/T/ipykernel_23602/1092650640.py:45: DeprecationWarning: Conversion of an array with ndim > 0 to a scalar is deprecated, and will error in future. Ensure you extract a single element from your array before performing this operation. (Deprecated NumPy 1.25.)\n",
      "  p_value = float(p_value)  # or p_value = p_value.item()\n"
     ]
    }
   ],
   "source": [
    "#Add a lead of the emp variable,\n",
    "#Create F_T to shift the emp variable one period forward\n",
    "F_T = np.eye(T, T, k=1)\n",
    "#Create emp_lead_full using perm function\n",
    "emp_lead_full = est.perm(F_T, X[:, 2].reshape(-1, 1)) # the shape is (N*T, 1)\n",
    "#Remove the last observed year for every individual\n",
    "I_T = np.eye(T-1, T)\n",
    "\n",
    "x_exo = est.perm(I_T, X)                       # (N*(T-1), K)\n",
    "y_exo = est.perm(I_T, y.reshape(-1, 1))        # (N*(T-1), 1)\n",
    "emp_lead = est.perm(I_T, emp_lead_full)             # (N*(T-1), 1)\n",
    "\n",
    "#Check that the dimensions are correct\n",
    "assert x_exo.shape[0] == emp_lead.shape[0] == y_exo.shape[0]\n",
    "\n",
    "#Add union_lead to x_exo\n",
    "x_exo = np.hstack((x_exo, emp_lead))                 # (N*(T-1), K+1)\n",
    "\n",
    "#Within transform the data (demean over T-1)\n",
    "Tm1 = T - 1\n",
    "Q_T = np.eye(Tm1) - np.ones((Tm1, Tm1)) / Tm1          # (T-1)×(T-1)\n",
    "\n",
    "#Apply panel-wise with your perm helper\n",
    "yw_exo = est.perm(Q_T, y_exo.reshape(-1, 1)).reshape(-1,)   # (N*(T-1),)\n",
    "xw_exo = est.perm(Q_T, x_exo)                               # (N*(T-1), K+1)\n",
    "\n",
    "#Select variables (employement, capital stock, emp_lead)\n",
    "xw_exo = np.hstack((xw_exo[:, 1:3], xw_exo[:, -1].reshape(-1, 1)))\n",
    "\n",
    "#Estimate model\n",
    "yw_exo = yw_exo.reshape(-1, 1)\n",
    "exo_test = est.estimate(yw_exo, xw_exo, T=T-1, robust_se=True, transform='fe')\n",
    "\n",
    "#Print results\n",
    "label_exo = ['emp'] + ['cap'] + ['emp lead']\n",
    "est.print_table((label_y, label_exo), exo_test, title='Exogeneity test', floatfmt='.4f')\n",
    "\n",
    "#Test \n",
    "b = exo_test['b_hat']\n",
    "cov = exo_test['cov']\n",
    "se = np.sqrt(np.diag(cov))\n",
    "t_stat = b[2] / se[2]\n",
    "df = exo_test.get('df_resid', len(yw_exo) - len(b))\n",
    "p_value = 2 * (1 - stats.t.cdf(np.abs(t_stat), df=3))\n",
    "p_value = float(p_value)  # or p_value = p_value.item()\n",
    "print(f'Test statistic for H0: beta_3 = 0 is {t_stat} with p-value {p_value:8.4f}')  "
   ]
  },
  {
   "cell_type": "markdown",
   "metadata": {},
   "source": [
    "### Test for weak exogeneity"
   ]
  },
  {
   "cell_type": "code",
   "execution_count": 15,
   "metadata": {},
   "outputs": [
    {
     "name": "stdout",
     "output_type": "stream",
     "text": [
      "Weak Exogeneity test\n",
      "Dependent variable: log_omsætning\n",
      "\n",
      "                  Beta      Se    t-values\n",
      "-------------  -------  ------  ----------\n",
      "Δlog_ansatte    0.5438  0.0298     18.2672\n",
      "Δlog_kapital    0.0611  0.0235      2.6032\n",
      "log_ansatte_t   0.0045  0.0030      1.5021\n",
      "log_kapital_t  -0.0046  0.0026     -1.7901\n",
      "R² = 0.165\n",
      "σ² = 0.014\n",
      "Test statistic for H0: beta_3 = 0 is [1.50210937] with p-value   0.2301\n"
     ]
    },
    {
     "name": "stderr",
     "output_type": "stream",
     "text": [
      "/var/folders/yb/2nwpczt56kvbrmb8klk29wfw0000gn/T/ipykernel_23602/2459345494.py:23: DeprecationWarning: Conversion of an array with ndim > 0 to a scalar is deprecated, and will error in future. Ensure you extract a single element from your array before performing this operation. (Deprecated NumPy 1.25.)\n",
      "  p_value = float(p_value)  # or p_value = p_value.item()\n"
     ]
    }
   ],
   "source": [
    "R_T = np.eye(T-1, T, k=1)                      # (T-1)×T, selects columns 2..T\n",
    "\n",
    "# Levels at time t and drop constant \n",
    "x_level_t = est.perm(R_T, X)[:, 1:]            # (N*(T-1), K-1) \n",
    "\n",
    "#Assemble augmented RHS: [Δk, Δl, k_t, l_t]\n",
    "X_fd_exog = np.hstack([x_diff, x_level_t[:, :x_diff.shape[1]]])\n",
    "\n",
    "labels_fd_exog = ['Δlog_ansatte', 'Δlog_kapital', 'log_ansatte_t', 'log_kapital_t']\n",
    "\n",
    "# Estimate FD regression with levels included\n",
    "fd_exog_res = est.estimate(y_diff, X_fd_exog, transform='fd', T=T-1, robust_se=True)\n",
    "est.print_table((label_y, labels_fd_exog), fd_exog_res, title='Weak Exogeneity test', floatfmt='.4f')\n",
    "\n",
    "#Test \n",
    "b = fd_exog_res['b_hat']\n",
    "cov = fd_exog_res['cov']\n",
    "se = np.sqrt(np.diag(cov))\n",
    "t_stat = b[2] / se[2]\n",
    "# frihedsgrader (hvis ikke df_resid findes, så udled dem)\n",
    "df = fd_exog_res.get('df_resid', len(y_diff) - len(b))\n",
    "p_value = 2 * (1 - stats.t.cdf(np.abs(t_stat), df=3))\n",
    "p_value = float(p_value)  # or p_value = p_value.item()\n",
    "print(f'Test statistic for H0: beta_3 = 0 is {t_stat} with p-value {p_value:8.4f}')  "
   ]
  },
  {
   "cell_type": "markdown",
   "metadata": {},
   "source": [
    "### Test for CRS"
   ]
  },
  {
   "cell_type": "code",
   "execution_count": 16,
   "metadata": {},
   "outputs": [
    {
     "name": "stdout",
     "output_type": "stream",
     "text": [
      "Wald test statistic: 12.9800\n",
      "p-value: 0.0003148\n"
     ]
    },
    {
     "name": "stderr",
     "output_type": "stream",
     "text": [
      "/var/folders/yb/2nwpczt56kvbrmb8klk29wfw0000gn/T/ipykernel_23602/156260583.py:18: DeprecationWarning: Conversion of an array with ndim > 0 to a scalar is deprecated, and will error in future. Ensure you extract a single element from your array before performing this operation. (Deprecated NumPy 1.25.)\n",
      "  num = float(R @ b - 1.0)           # c'β - q, q=1\n",
      "/var/folders/yb/2nwpczt56kvbrmb8klk29wfw0000gn/T/ipykernel_23602/156260583.py:19: DeprecationWarning: Conversion of an array with ndim > 0 to a scalar is deprecated, and will error in future. Ensure you extract a single element from your array before performing this operation. (Deprecated NumPy 1.25.)\n",
      "  den = float(R @ V @ R.T)           # c' V c\n"
     ]
    }
   ],
   "source": [
    "######################POLS##########################\n",
    "b_hat = pooled_result['b_hat']\n",
    "cov   = pooled_result['cov']\n",
    "\n",
    "ansatte_index = label_x.index('log_ansatte')\n",
    "kapital_index = label_x.index('log_kapital')\n",
    "\n",
    "b = np.asarray(b_hat).reshape(-1)   # (P,)\n",
    "V = np.asarray(cov)                 # (P,P)\n",
    "P = b.size\n",
    "if V.shape != (P, P):\n",
    "    raise ValueError(f\"Kovarians har forkert form: {V.shape}, forventede {(P,P)}\")\n",
    "\n",
    "R = np.zeros((1, P))\n",
    "R[0, [ansatte_index, kapital_index]] = 1.0\n",
    "\n",
    "#Wald-test for H0: beta_kapital + beta_ansatte = 1\n",
    "num = float(R @ b - 1.0)           # c'β - q, q=1\n",
    "den = float(R @ V @ R.T)           # c' V c\n",
    "if not np.isfinite(den) or den <= 0:\n",
    "    raise ValueError(\"Check\")\n",
    "\n",
    "wald = (num ** 2) / den\n",
    "p_value = stats.chi2.sf(wald, df=1)\n",
    "\n",
    "print(f\"Wald test statistic: {wald:.4f}\")\n",
    "print(f\"p-value: {p_value:.4g}\")"
   ]
  },
  {
   "cell_type": "code",
   "execution_count": 17,
   "metadata": {},
   "outputs": [
    {
     "name": "stdout",
     "output_type": "stream",
     "text": [
      "Wald test statistic: 164.4890\n",
      "p-value: 1.183e-37\n"
     ]
    },
    {
     "name": "stderr",
     "output_type": "stream",
     "text": [
      "/var/folders/yb/2nwpczt56kvbrmb8klk29wfw0000gn/T/ipykernel_23602/2560267170.py:18: DeprecationWarning: Conversion of an array with ndim > 0 to a scalar is deprecated, and will error in future. Ensure you extract a single element from your array before performing this operation. (Deprecated NumPy 1.25.)\n",
      "  num = float(R @ b - 1.0)           # c'β - q, q=1\n",
      "/var/folders/yb/2nwpczt56kvbrmb8klk29wfw0000gn/T/ipykernel_23602/2560267170.py:19: DeprecationWarning: Conversion of an array with ndim > 0 to a scalar is deprecated, and will error in future. Ensure you extract a single element from your array before performing this operation. (Deprecated NumPy 1.25.)\n",
      "  den = float(R @ V @ R.T)           # c' V c\n"
     ]
    }
   ],
   "source": [
    "######################FD##########################\n",
    "b_hat = fd_result['b_hat']\n",
    "cov   = fd_result['cov']\n",
    "\n",
    "ansatte_index = label_x_fd.index('log_ansatte')\n",
    "kapital_index = label_x_fd.index('log_kapital')\n",
    "\n",
    "b = np.asarray(b_hat).reshape(-1)   # (P,)\n",
    "V = np.asarray(cov)                 # (P,P)\n",
    "P = b.size\n",
    "if V.shape != (P, P):\n",
    "    raise ValueError(f\"Kovarians har forkert form: {V.shape}, forventede {(P,P)}\")\n",
    "\n",
    "R = np.zeros((1, P))\n",
    "R[0, [ansatte_index, kapital_index]] = 1.0\n",
    "\n",
    "# Wald-test for H0: beta_kapital + beta_ansatte = 1\n",
    "num = float(R @ b - 1.0)           # c'β - q, q=1\n",
    "den = float(R @ V @ R.T)           # c' V c\n",
    "if not np.isfinite(den) or den <= 0:\n",
    "    raise ValueError(\"Check.\")\n",
    "\n",
    "wald = (num ** 2) / den\n",
    "p_value = stats.chi2.sf(wald, df=1)\n",
    "\n",
    "print(f\"Wald test statistic: {wald:.4f}\")\n",
    "print(f\"p-value: {p_value:.4g}\")"
   ]
  }
 ],
 "metadata": {
  "kernelspec": {
   "display_name": "base",
   "language": "python",
   "name": "python3"
  },
  "language_info": {
   "codemirror_mode": {
    "name": "ipython",
    "version": 3
   },
   "file_extension": ".py",
   "mimetype": "text/x-python",
   "name": "python",
   "nbconvert_exporter": "python",
   "pygments_lexer": "ipython3",
   "version": "3.12.4"
  },
  "vscode": {
   "interpreter": {
    "hash": "ef42839c56fd8bee084dafb278faf4416bb17c87278e59e0e4bb5f7c8f27c505"
   }
  }
 },
 "nbformat": 4,
 "nbformat_minor": 4
}
