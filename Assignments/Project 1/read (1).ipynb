{
 "cells": [
  {
   "cell_type": "markdown",
   "metadata": {},
   "source": [
    "# Production Technology\n",
    "\n",
    "The dataset contains `N = 441` firms observed over `T = 12` years, 1968-1979. There variables are: \n",
    "* `lcap`: Log of capital stock, $k_{it}$ \n",
    "* `lemp`: log of employment, $\\ell_{it}$ \n",
    "* `ldsa`: log of deflated sales, $y_{it}$\n",
    "* `year`: the calendar year of the observation, `year` $ = 1968, ..., 1979$, \n",
    "* `firmid`: anonymized indicator variable for the firm, $i = 1, ..., N$, with $N=441$. "
   ]
  },
  {
   "cell_type": "code",
   "execution_count": null,
   "metadata": {},
   "outputs": [
    {
     "name": "stdout",
     "output_type": "stream",
     "text": [
      "['reg_table.tex', '2025-09_Project_1.pdf', 'project_1.py', 'firms.csv', '__pycache__', 'read (1).ipynb']\n"
     ]
    }
   ],
   "source": [
    "import pandas as pd \n",
    "import numpy as np\n",
    "import seaborn as sns\n",
    "import os\n",
    "print(os.listdir())\n",
    "import project_1 as est\n",
    "from numpy import linalg as la\n",
    "from scipy.stats import chi2\n",
    "from scipy import stats\n",
    "import matplotlib.pyplot as plt\n",
    "\n",
    "%load_ext autoreload\n",
    "%autoreload 2"
   ]
  },
  {
   "cell_type": "code",
   "execution_count": null,
   "metadata": {},
   "outputs": [],
   "source": [
    "dat = pd.read_csv('firms.csv')"
   ]
  },
  {
   "cell_type": "markdown",
   "metadata": {},
   "source": [
    "# Descriptives"
   ]
  },
  {
   "cell_type": "code",
   "execution_count": null,
   "metadata": {},
   "outputs": [
    {
     "data": {
      "text/html": [
       "<div>\n",
       "<style scoped>\n",
       "    .dataframe tbody tr th:only-of-type {\n",
       "        vertical-align: middle;\n",
       "    }\n",
       "\n",
       "    .dataframe tbody tr th {\n",
       "        vertical-align: top;\n",
       "    }\n",
       "\n",
       "    .dataframe thead th {\n",
       "        text-align: right;\n",
       "    }\n",
       "</style>\n",
       "<table border=\"1\" class=\"dataframe\">\n",
       "  <thead>\n",
       "    <tr style=\"text-align: right;\">\n",
       "      <th></th>\n",
       "      <th>firmid</th>\n",
       "      <th>year</th>\n",
       "      <th>lcap</th>\n",
       "      <th>lemp</th>\n",
       "      <th>ldsa</th>\n",
       "    </tr>\n",
       "  </thead>\n",
       "  <tbody>\n",
       "    <tr>\n",
       "      <th>count</th>\n",
       "      <td>5292.000000</td>\n",
       "      <td>5292.000000</td>\n",
       "      <td>5.292000e+03</td>\n",
       "      <td>5.292000e+03</td>\n",
       "      <td>5.292000e+03</td>\n",
       "    </tr>\n",
       "    <tr>\n",
       "      <th>mean</th>\n",
       "      <td>221.000000</td>\n",
       "      <td>1973.500000</td>\n",
       "      <td>-7.125472e-09</td>\n",
       "      <td>-1.252834e-08</td>\n",
       "      <td>4.695767e-09</td>\n",
       "    </tr>\n",
       "    <tr>\n",
       "      <th>std</th>\n",
       "      <td>127.317437</td>\n",
       "      <td>3.452379</td>\n",
       "      <td>1.310973e+00</td>\n",
       "      <td>1.180122e+00</td>\n",
       "      <td>1.232499e+00</td>\n",
       "    </tr>\n",
       "    <tr>\n",
       "      <th>min</th>\n",
       "      <td>1.000000</td>\n",
       "      <td>1968.000000</td>\n",
       "      <td>-3.864950e+00</td>\n",
       "      <td>-3.382780e+00</td>\n",
       "      <td>-3.551540e+00</td>\n",
       "    </tr>\n",
       "    <tr>\n",
       "      <th>25%</th>\n",
       "      <td>111.000000</td>\n",
       "      <td>1970.750000</td>\n",
       "      <td>-9.083267e-01</td>\n",
       "      <td>-7.855270e-01</td>\n",
       "      <td>-9.279720e-01</td>\n",
       "    </tr>\n",
       "    <tr>\n",
       "      <th>50%</th>\n",
       "      <td>221.000000</td>\n",
       "      <td>1973.500000</td>\n",
       "      <td>-1.180615e-01</td>\n",
       "      <td>-1.137295e-01</td>\n",
       "      <td>-1.029710e-01</td>\n",
       "    </tr>\n",
       "    <tr>\n",
       "      <th>75%</th>\n",
       "      <td>331.000000</td>\n",
       "      <td>1976.250000</td>\n",
       "      <td>9.063340e-01</td>\n",
       "      <td>7.930060e-01</td>\n",
       "      <td>8.562296e-01</td>\n",
       "    </tr>\n",
       "    <tr>\n",
       "      <th>max</th>\n",
       "      <td>441.000000</td>\n",
       "      <td>1979.000000</td>\n",
       "      <td>4.103687e+00</td>\n",
       "      <td>3.371332e+00</td>\n",
       "      <td>3.913391e+00</td>\n",
       "    </tr>\n",
       "  </tbody>\n",
       "</table>\n",
       "</div>"
      ],
      "text/plain": [
       "            firmid         year          lcap          lemp          ldsa\n",
       "count  5292.000000  5292.000000  5.292000e+03  5.292000e+03  5.292000e+03\n",
       "mean    221.000000  1973.500000 -7.125472e-09 -1.252834e-08  4.695767e-09\n",
       "std     127.317437     3.452379  1.310973e+00  1.180122e+00  1.232499e+00\n",
       "min       1.000000  1968.000000 -3.864950e+00 -3.382780e+00 -3.551540e+00\n",
       "25%     111.000000  1970.750000 -9.083267e-01 -7.855270e-01 -9.279720e-01\n",
       "50%     221.000000  1973.500000 -1.180615e-01 -1.137295e-01 -1.029710e-01\n",
       "75%     331.000000  1976.250000  9.063340e-01  7.930060e-01  8.562296e-01\n",
       "max     441.000000  1979.000000  4.103687e+00  3.371332e+00  3.913391e+00"
      ]
     },
     "execution_count": 3,
     "metadata": {},
     "output_type": "execute_result"
    }
   ],
   "source": [
    "dat.describe()"
   ]
  },
  {
   "cell_type": "code",
   "execution_count": null,
   "metadata": {},
   "outputs": [],
   "source": [
    "#Descriptive statistics table\n",
    "cols = ['lcap','lemp','ldsa']\n",
    "\n",
    "tab = (\n",
    "    dat[cols]\n",
    "      .agg(['mean','kurt'])   # 'kurt' = excess kurtosis (normal = 0)\n",
    "      .T\n",
    "      .round(3)\n",
    "      .rename(columns={'mean':'Mean', 'kurt':'Kurtosis'})\n",
    ")\n",
    "\n",
    "latex = tab.to_latex(\n",
    "    index=True,\n",
    "    caption='Beskrivende statistik (samlet): middelværdi og kurtosis',\n",
    "    label='tab:desc_overall',\n",
    "    float_format=\"%.3f\",\n",
    "    escape=False\n",
    ")\n",
    "\n",
    "print(latex)"
   ]
  },
  {
   "cell_type": "code",
   "execution_count": null,
   "metadata": {},
   "outputs": [],
   "source": [
    "# De-log-transform variables \n",
    "dat['cap'] = np.exp(dat['lcap'])\n",
    "dat['emp'] = np.exp(dat['lemp'])\n",
    "dat['dsa'] = np.exp(dat['ldsa'])\n",
    "\n",
    "cols = ['cap','emp','dsa']\n",
    "\n",
    "tab = (\n",
    "    dat[cols]\n",
    "      .agg(['mean','kurt'])   # 'kurt' = excess kurtosis (normal = 0)\n",
    "      .T\n",
    "      .round(3)\n",
    "      .rename(columns={'mean':'Mean', 'kurt':'Kurtosis'})\n",
    ")\n",
    "\n",
    "latex = tab.to_latex(\n",
    "    index=True,\n",
    "    caption='Beskrivende statistik (samlet): middelværdi og kurtosis',\n",
    "    label='tab:desc_overall',\n",
    "    float_format=\"%.3f\",\n",
    "    escape=False\n",
    ")\n",
    "\n",
    "print(latex)"
   ]
  },
  {
   "cell_type": "code",
   "execution_count": null,
   "metadata": {},
   "outputs": [],
   "source": [
    "blue = \"#5aa9e6\"  # lys blå\n",
    "\n",
    "fig = plt.figure(figsize=(10, 6), constrained_layout=True)\n",
    "gs = fig.add_gridspec(nrows=2, ncols=2, height_ratios=[1.2, 1.0])\n",
    "\n",
    "ax_top = fig.add_subplot(gs[0, :])                 # øverste (salg), span begge kolonner\n",
    "ax_bl  = fig.add_subplot(gs[1, 0], sharey=ax_top)  # nederst venstre, deler y med top\n",
    "ax_br  = fig.add_subplot(gs[1, 1], sharey=ax_top)  # nederst højre, deler y med top\n",
    "\n",
    "# Øverst: Salg (centeret)\n",
    "ax_top.hist(dat['ldsa'].dropna(), bins=30, color=blue, edgecolor=\"white\", linewidth=0.5)\n",
    "ax_top.set_title(\"Deflated Sales (log)\", loc=\"center\")\n",
    "\n",
    "# Nederst venstre: Beskæftigelse\n",
    "ax_bl.hist(dat['lemp'].dropna(), bins=30, color=blue, edgecolor=\"white\", linewidth=0.5)\n",
    "ax_bl.set_title(\"Employment (log)\", loc=\"center\")\n",
    "\n",
    "# Nederst højre: Kapital\n",
    "ax_br.hist(dat['lcap'].dropna(), bins=30, color=blue, edgecolor=\"white\", linewidth=0.5)\n",
    "ax_br.set_title(\"Adjusted Capital Stock (log)\", loc=\"center\")\n",
    "\n",
    "# Fælles y-akse: kun én y-label på figuren\n",
    "for ax in (ax_top, ax_bl, ax_br):\n",
    "    ax.grid(True, alpha=0.25)\n",
    "    ax.spines['top'].set_visible(False)\n",
    "    ax.spines['right'].set_visible(False)\n",
    "    ax.set_ylabel(\"\")              # ingen individuelle y-labels\n",
    "\n",
    "fig.supylabel(\"Frequency\")          # fælles y-label for alle paneler\n",
    "\n",
    "# Skjul y-tick labels på højre nederste panel for mindre støj\n",
    "ax_br.tick_params(labelleft=False)\n",
    "\n",
    "# Ingen over-overskrift\n",
    "try:\n",
    "    fig._suptitle.remove()\n",
    "except Exception:\n",
    "    pass\n",
    "plt.show()"
   ]
  },
  {
   "cell_type": "code",
   "execution_count": null,
   "metadata": {},
   "outputs": [],
   "source": [
    "years = np.sort(dat['year'].unique())\n",
    "\n",
    "# Blå palette: vælg et snævert interval af 'Blues' for harmoniske nuancer\n",
    "cmap = plt.cm.Blues\n",
    "colors = cmap(np.linspace(0.45, 0.90, len(years)))  # gør intervallet smallere/større efter smag\n",
    "palette = {y: colors[i] for i, y in enumerate(years)}\n",
    "\n",
    "fig, axes = plt.subplots(1, 2, figsize=(11, 5), sharey=True)\n",
    "\n",
    "# Venstre: Employment (log) vs Adjusted Sales (log)\n",
    "sns.scatterplot(\n",
    "    x='lemp', y='ldsa', data=dat, ax=axes[0],\n",
    "    hue='year', hue_order=years, palette=palette,\n",
    "    edgecolor=\"white\", s=28, alpha=0.85, legend=False\n",
    ")\n",
    "sns.regplot(\n",
    "    x='lemp', y='ldsa', data=dat, ax=axes[0], scatter=False,\n",
    "    color=\"#3a3a3a\", ci=None, line_kws={'linewidth': 2}\n",
    ")\n",
    "axes[0].set_xlabel(\"Employment (log)\")\n",
    "axes[0].set_ylabel(\"\")\n",
    "\n",
    "# Højre: Capital (log) vs Adjusted Sales (log)\n",
    "sns.scatterplot(\n",
    "    x='lcap', y='ldsa', data=dat, ax=axes[1],\n",
    "    hue='year', hue_order=years, palette=palette,\n",
    "    edgecolor=\"white\", s=28, alpha=0.85, legend=True\n",
    ")\n",
    "sns.regplot(\n",
    "    x='lcap', y='ldsa', data=dat, ax=axes[1], scatter=False,\n",
    "    color=\"#3a3a3a\", ci=None, line_kws={'linewidth': 2}\n",
    ")\n",
    "axes[1].set_xlabel(\"Adjusted Capital Stock (log)\")\n",
    "axes[1].set_ylabel(\"\")\n",
    "\n",
    "# Kosmetik\n",
    "for ax in axes:\n",
    "    ax.grid(True, alpha=0.25)\n",
    "    ax.spines['top'].set_visible(False)\n",
    "    ax.spines['right'].set_visible(False)\n",
    "    sns.despine(ax=ax)\n",
    "\n",
    "fig.supylabel(\"Adjusted Sales (log)\")\n",
    "axes[1].legend(title=\"Year\", bbox_to_anchor=(1.02, 1), loc=\"upper left\", borderaxespad=0)\n",
    "\n",
    "try:\n",
    "    fig._suptitle.remove()\n",
    "except Exception:\n",
    "    pass\n",
    "\n",
    "plt.tight_layout()\n",
    "plt.show()\n"
   ]
  },
  {
   "cell_type": "markdown",
   "metadata": {},
   "source": [
    "# Converting data to numpy format "
   ]
  },
  {
   "cell_type": "code",
   "execution_count": 4,
   "metadata": {},
   "outputs": [
    {
     "data": {
      "text/plain": [
       "(5292,)"
      ]
     },
     "execution_count": 4,
     "metadata": {},
     "output_type": "execute_result"
    }
   ],
   "source": [
    "dat.ldsa.values.shape"
   ]
  },
  {
   "cell_type": "code",
   "execution_count": 5,
   "metadata": {},
   "outputs": [
    {
     "name": "stdout",
     "output_type": "stream",
     "text": [
      "Data has N=441 and T=12\n"
     ]
    }
   ],
   "source": [
    "#Define N and T for our models \n",
    "N = dat.firmid.unique().size\n",
    "T = dat.year.unique().size\n",
    "assert dat.shape[0] == N*T, f'Error: data is not a balanced panel'\n",
    "print(f'Data has N={N} and T={T}')"
   ]
  },
  {
   "cell_type": "code",
   "execution_count": 6,
   "metadata": {},
   "outputs": [],
   "source": [
    "#Define sales as our dependent variable \n",
    "y = dat.ldsa.values.reshape((N*T,1))\n",
    "\n",
    "#Laver et konstantled som repræsenterer det teknologiske niveau, A og definerer vores X matrix\n",
    "ones = np.ones((N*T,1)) \n",
    "l = dat.lemp.values.reshape((N*T,1))\n",
    "k = dat.lcap.values.reshape((N*T,1))\n",
    "X = np.hstack([ones, l, k])\n",
    "label_y = 'log_omsætning'\n",
    "label_x = ['const', 'log_ansatte', 'log_kapital']\n",
    "\n",
    "#Rename columns for easier reading\n",
    "rename_dict = {'year': 'aar', 'ldsa':'log_omsætning', 'lemp': 'log_ansatte', 'lcap': 'log_kapital'}\n",
    "dat = dat.rename(columns=rename_dict)"
   ]
  },
  {
   "cell_type": "markdown",
   "metadata": {},
   "source": [
    "# OLS"
   ]
  },
  {
   "cell_type": "code",
   "execution_count": 7,
   "metadata": {},
   "outputs": [
    {
     "name": "stdout",
     "output_type": "stream",
     "text": [
      "Pooled OLS regression\n",
      "Dependent variable: log_omsætning\n",
      "\n",
      "               Beta      Se    t-values\n",
      "-----------  ------  ------  ----------\n",
      "const        0.0000  0.0050      0.0000\n",
      "log_ansatte  0.6748  0.0102     66.4625\n",
      "log_kapital  0.3100  0.0091     33.9237\n",
      "R² = 0.914\n",
      "σ² = 0.131\n"
     ]
    }
   ],
   "source": [
    "#Estimerer pooled ols for benchmark \n",
    "pooled_result = est.estimate(y, X, T=T)\n",
    "est.print_table((label_y, label_x), pooled_result, title='Pooled OLS regression', floatfmt='.4f')"
   ]
  },
  {
   "cell_type": "markdown",
   "metadata": {},
   "source": [
    "# FE"
   ]
  },
  {
   "cell_type": "code",
   "execution_count": 8,
   "metadata": {},
   "outputs": [
    {
     "name": "stdout",
     "output_type": "stream",
     "text": [
      "Dimension of Q_T: (12, 12)\n",
      "Fixed Effects\n",
      "Dependent variable: log_omsætning\n",
      "\n",
      "               Beta      Se    t-values\n",
      "-----------  ------  ------  ----------\n",
      "log_ansatte  0.6942  0.0417     16.6674\n",
      "log_kapital  0.1546  0.0299      5.1630\n",
      "R² = 0.477\n",
      "σ² = 0.018\n"
     ]
    }
   ],
   "source": [
    "###Transform the data#####\n",
    "# Create transformation matrix\n",
    "Q_T = np.eye(T) - (np.ones((T,T)))/T\n",
    "#Print dimension of Q_T\n",
    "print(f'Dimension of Q_T: {Q_T.shape}')\n",
    "\n",
    "#Create y and x dot using the perm function\n",
    "y_dot = est.perm(Q_T, y.reshape(-1, 1))           # (N*T, 1)\n",
    "x_dot = est.perm(Q_T, X)                           # (N*T, K)\n",
    "x_dot = x_dot[:,1:]\n",
    "\n",
    "# Estimate the fe model using the estimate function\n",
    "label_x_fe = ['log_ansatte', 'log_kapital'] \n",
    "fe_result = est.estimate(y_dot, x_dot, robust_se=True, transform='fe', T=T)\n",
    "est.print_table((label_y, label_x_fe), fe_result, title=\"Fixed Effects\", floatfmt='.4f')"
   ]
  },
  {
   "cell_type": "markdown",
   "metadata": {},
   "source": [
    "# test af seriel korrelation i fejlled"
   ]
  },
  {
   "cell_type": "code",
   "execution_count": 25,
   "metadata": {},
   "outputs": [
    {
     "name": "stdout",
     "output_type": "stream",
     "text": [
      "FD regression\n",
      "Dependent variable: log_omsætning\n",
      "\n",
      "               Beta      Se    t-values\n",
      "-----------  ------  ------  ----------\n",
      "log_ansatte  0.5487  0.0284     19.3056\n",
      "log_kapital  0.0630  0.0229      2.7460\n",
      "R² = 0.165\n",
      "σ² = 0.014\n"
     ]
    }
   ],
   "source": [
    "def fd_matrix(T):\n",
    "    D_T = np.zeros((T-1, T))\n",
    "    for i in range (T-1):\n",
    "        D_T[i,i] = -1\n",
    "        D_T[i, i+1] = 1\n",
    "    return D_T\n",
    "\n",
    "# Print the matrix\n",
    "D_T = fd_matrix(T)\n",
    "\n",
    "# use dt til at lave first differences\n",
    "y_diff = est.perm(D_T, y.reshape(-1, 1))           # (N*(T-1), 1)\n",
    "x_diff = est.perm(D_T, X)                           # (N*(T-1, K)\n",
    "\n",
    "#udvælg kolonner\n",
    "x_diff = x_diff[:, 1:]  # drop constant column\n",
    "\n",
    "# Estimate FD \n",
    "fd_result = est.estimate(y_diff, x_diff, transform='fd', robust_se=True ,T=T)\n",
    "label_x_fd = ['log_ansatte', 'log_kapital']\n",
    "\n",
    "# Print results\n",
    "est.print_table((label_y, label_x_fd), fd_result, title='FD regression', floatfmt='.4f')\n"
   ]
  },
  {
   "cell_type": "code",
   "execution_count": 26,
   "metadata": {},
   "outputs": [],
   "source": [
    "# Make function to calculate the serial correlation\n",
    "def serial_corr(y, x, T):\n",
    "    # Calculate the residuals\n",
    "    if x.ndim == 1:\n",
    "        x = x.reshape(-1, 1)     \n",
    "    if y.ndim == 1:\n",
    "        y = y.reshape(-1, 1)                     # sikr 2D\n",
    "    b_hat = la.inv(x.T @ x) @ (x.T @ y)\n",
    "    e = y - x @ b_hat                         # (N*T,)\n",
    "\n",
    "    # Create a lag transformation matrix (perm to lag)\n",
    "    # Picks [y1, y2, ..., y_{T-1}]\n",
    "    P_lag = np.eye(T-1, T)                    # (T-1 x T)\n",
    "\n",
    "    # Lag residuals panelvis\n",
    "    E = e.reshape(-1, T)                      # (N, T)\n",
    "    e_l = (E @ P_lag.T).reshape(-1, 1)        # (N*(T-1), 1)  ← regressor\n",
    "\n",
    "    # Create a transformation matrix that removes the first time-period (perm to drop first)\n",
    "    # Picks [y2, y3, ..., y_T]\n",
    "    I_T = np.eye(T-1, T, k=1)                 # (T-1 x T)\n",
    "\n",
    "    # Remove first observation of each individual (align \"now\" with the lag)\n",
    "    e = (E @ I_T.T).reshape(-1,1)              # (N*(T-1),)    ← dependent var\n",
    "\n",
    "    # Calculate the serial correlation (no intercept in FD)\n",
    "    N = e.shape[0] // (T-1)\n",
    "    return est.estimate(e, e_l, transform='fd', T=T-1)"
   ]
  },
  {
   "cell_type": "code",
   "execution_count": 27,
   "metadata": {},
   "outputs": [
    {
     "name": "stdout",
     "output_type": "stream",
     "text": [
      "Serial Correlation\n",
      "Dependent variable: OLS residual, eᵢₜ\n",
      "\n",
      "          Beta      Se    t-values\n",
      "-----  -------  ------  ----------\n",
      "eᵢₜ₋₁  -0.1987  0.0148    -13.4493\n",
      "R² = 0.039\n",
      "σ² = 0.014\n",
      "P-value for test of no serial correlation:   0.0000\n"
     ]
    }
   ],
   "source": [
    "# Estimate serial correlation\n",
    "corr_result = serial_corr(y_diff, x_diff, T-1)\n",
    "# Print results\n",
    "label_ye = 'OLS residual, e\\u1d62\\u209c'\n",
    "label_e = ['e\\u1d62\\u209c\\u208B\\u2081']\n",
    "est.print_table(\n",
    "    (label_ye, label_e), corr_result, \n",
    "    title='Serial Correlation', floatfmt='.4f'\n",
    ")\n",
    "# calculate p-value for test of no serial correlation\n",
    "r = corr_result['b_hat'][0]\n",
    "p_val = 2 * (1 - stats.norm.cdf(np.abs(r) / corr_result['se'][0]))\n",
    "#p_val = float(p_val)\n",
    "print(f'P-value for test of no serial correlation: {p_val[0]:8.4f}')"
   ]
  },
  {
   "cell_type": "markdown",
   "metadata": {},
   "source": [
    "# RE"
   ]
  },
  {
   "cell_type": "code",
   "execution_count": null,
   "metadata": {},
   "outputs": [],
   "source": [
    "############################### The between estimator ###############################   \n",
    "#Calculate P_T\n",
    "P_T = np.ones((1, T)) / T\n",
    "#Print the shape of P_T\n",
    "print(f'Dimension of P_T: {P_T.shape}')\n",
    "\n",
    "y_mean = est.perm(P_T, y.reshape(-1, 1))   # (N*T,   )\n",
    "x_mean = est.perm(P_T, X)           # (N*T, K )\n",
    "\n",
    "#Estimate the between model using the estimate function\n",
    "be_result = est.estimate(y_mean, x_mean, robust_se=True, transform='be', T=T)\n",
    "est.print_table((label_y, label_x), be_result, title=\"Between Estimator\", floatfmt='.4f')"
   ]
  },
  {
   "cell_type": "code",
   "execution_count": null,
   "metadata": {},
   "outputs": [],
   "source": [
    "############################## Calculate lambda ########################\n",
    "sigma2_u = fe_result['sigma2']\n",
    "sigma2_w = float(((u := (np.asarray(y_mean).reshape(-1,1) - np.asarray(x_mean) @ np.asarray(be_result['b_hat']).reshape(-1,1))).T @ u) / (np.asarray(x_mean).shape[0] - np.asarray(x_mean).shape[1]))\n",
    "sigma2_c = sigma2_w - (sigma2_u / T)\n",
    "_lambda = 1 - np.sqrt(sigma2_u / (T * sigma2_c + sigma2_u))\n",
    "\n",
    "# Print lambda \n",
    "print(f'Lambda is approximately equal to {_lambda.item():.4f}.')"
   ]
  },
  {
   "cell_type": "code",
   "execution_count": null,
   "metadata": {},
   "outputs": [],
   "source": [
    "############################### Estimate RE model ###############################\n",
    "# # Create the identity matrix with dimension T\n",
    "I_T = np.eye(T)\n",
    "#Create C_T using I_T and P_T\n",
    "C_T = I_T - _lambda @ P_T\n",
    "#Transform y and x using perm function\n",
    "y_re = est.perm(C_T, y.reshape(-1, 1))           # (N*T, 1)\n",
    "x_re = est.perm(C_T, X)                           # (N*T, K)\n",
    "\n",
    "# Estimate \n",
    "re_result = est.estimate(y_re, x_re, robust_se=True, transform='re', T=T)\n",
    "est.print_table((label_y, label_x), re_result, title=\"Random Effects\", floatfmt='.4f')"
   ]
  },
  {
   "cell_type": "markdown",
   "metadata": {},
   "source": [
    "## Hausmann "
   ]
  },
  {
   "cell_type": "code",
   "execution_count": null,
   "metadata": {},
   "outputs": [],
   "source": [
    "# Unpack the betas \n",
    "b_fe = fe_result['b_hat']\n",
    "b_re = re_result['b_hat']\n",
    "cov_fe = fe_result['cov']\n",
    "cov_re = re_result['cov']\n",
    "\n",
    "b_diff = b_fe - b_re\n",
    "cov_diff = cov_fe - cov_re\n",
    "H = b_diff.T @ la.inv(cov_diff) @ b_diff\n",
    "\n",
    "# Find critical value and p-value at 5% significance level of chi^2 with M degrees of freedom\n",
    "M = len(b_fe)\n",
    "crit_val = chi2.ppf(0.95, df=M)\n",
    "p_val = 1 - chi2.cdf(H, df=M)\n",
    "\n",
    "\n",
    "# Print the results\n",
    "print(f'The test statistic is {H.item():.2f}.')\n",
    "print(f'The critical value at a 5% significance level is {crit_val:.2f}.')\n",
    "print(f\"The p-value is {float(np.asarray(p_val).reshape(-1)[0]):.8f}.\")"
   ]
  },
  {
   "cell_type": "markdown",
   "metadata": {},
   "source": [
    "Vi aviser at RE og FE er ens, hvilket indikerer korrelation mellem A og kapital,employees "
   ]
  },
  {
   "cell_type": "markdown",
   "metadata": {},
   "source": [
    "## Test for strict exo "
   ]
  },
  {
   "cell_type": "code",
   "execution_count": 12,
   "metadata": {},
   "outputs": [],
   "source": [
    "#Add a lead of the emp variable,\n",
    "# Create F_T to shift the emp variable one period forward\n",
    "F_T = np.eye(T, T, k=1)\n",
    "# Create emp_lead_full using perm function\n",
    "emp_lead_full = est.perm(F_T, X[:, 2].reshape(-1, 1)) # the shape is (N*T, 1)\n",
    "# Remove the last observed year for every individual\n",
    "I_T = np.eye(T-1, T)\n",
    "# Remove the last observations\n",
    "x_exo = est.perm(I_T, X)                       # (N*(T-1), K)\n",
    "y_exo = est.perm(I_T, y.reshape(-1, 1))        # (N*(T-1), 1)\n",
    "emp_lead = est.perm(I_T, emp_lead_full)             # (N*(T-1), 1)\n",
    "assert x_exo.shape[0] == emp_lead.shape[0] == y_exo.shape[0]"
   ]
  },
  {
   "cell_type": "code",
   "execution_count": 13,
   "metadata": {},
   "outputs": [],
   "source": [
    "# Add union_lead to x_exo\n",
    "x_exo = np.hstack((x_exo, emp_lead))                 # (N*(T-1), K+1)\n",
    "\n",
    "# Within transform the data (demean over T-1)\n",
    "Tm1 = T - 1\n",
    "Q_T = np.eye(Tm1) - np.ones((Tm1, Tm1)) / Tm1          # (T-1)×(T-1)\n",
    "\n",
    "# apply panel-wise with your perm helper\n",
    "yw_exo = est.perm(Q_T, y_exo.reshape(-1, 1)).reshape(-1,)   # (N*(T-1),)\n",
    "xw_exo = est.perm(Q_T, x_exo)                               # (N*(T-1), K+1)\n",
    "\n",
    "# Select variables (employement, capital stock, emp_lead)\n",
    "xw_exo = np.hstack((xw_exo[:, 1:3], xw_exo[:, -1].reshape(-1, 1)))"
   ]
  },
  {
   "cell_type": "code",
   "execution_count": null,
   "metadata": {},
   "outputs": [],
   "source": [
    "xw_exo"
   ]
  },
  {
   "cell_type": "code",
   "execution_count": 20,
   "metadata": {},
   "outputs": [
    {
     "name": "stdout",
     "output_type": "stream",
     "text": [
      "Exogeneity test\n",
      "Dependent variable: log_omsætning\n",
      "\n",
      "            Beta      Se    t-values\n",
      "--------  ------  ------  ----------\n",
      "emp       0.6479  0.0463     13.9826\n",
      "cap       0.0210  0.0374      0.5620\n",
      "emp lead  0.1793  0.0450      3.9819\n",
      "R² = 0.474\n",
      "σ² = 0.016\n"
     ]
    }
   ],
   "source": [
    "# Estimate model\n",
    "yw_exo = yw_exo.reshape(-1, 1)\n",
    "exo_test = est.estimate(yw_exo, xw_exo, T=T-1, robust_se=True, transform='fe')\n",
    "\n",
    "# Print results\n",
    "label_exo = ['emp'] + ['cap'] + ['emp lead']\n",
    "est.print_table((label_y, label_exo), exo_test, title='Exogeneity test', floatfmt='.4f')"
   ]
  },
  {
   "cell_type": "code",
   "execution_count": 23,
   "metadata": {},
   "outputs": [
    {
     "name": "stdout",
     "output_type": "stream",
     "text": [
      "Test statistic for H0: beta_3 = 0 is [3.98186774] with p-value   0.0283\n"
     ]
    },
    {
     "name": "stderr",
     "output_type": "stream",
     "text": [
      "/var/folders/yb/2nwpczt56kvbrmb8klk29wfw0000gn/T/ipykernel_20694/2146056921.py:10: DeprecationWarning: Conversion of an array with ndim > 0 to a scalar is deprecated, and will error in future. Ensure you extract a single element from your array before performing this operation. (Deprecated NumPy 1.25.)\n",
      "  p_value = float(p_value)  # or p_value = p_value.item()\n"
     ]
    }
   ],
   "source": [
    "#Test if variable 5 is significant different from 0\n",
    "from scipy import stats\n",
    "b = exo_test['b_hat']\n",
    "cov = exo_test['cov']\n",
    "se = np.sqrt(np.diag(cov))\n",
    "t_stat = b[2] / se[2]\n",
    "# frihedsgrader (hvis ikke df_resid findes, så udled dem)\n",
    "df = exo_test.get('df_resid', len(yw_exo) - len(b))\n",
    "p_value = 2 * (1 - stats.t.cdf(np.abs(t_stat), df=3))\n",
    "p_value = float(p_value)  # or p_value = p_value.item()\n",
    "print(f'Test statistic for H0: beta_3 = 0 is {t_stat} with p-value {p_value:8.4f}')  "
   ]
  },
  {
   "cell_type": "markdown",
   "metadata": {},
   "source": [
    "## WEAK EXO"
   ]
  },
  {
   "cell_type": "code",
   "execution_count": 22,
   "metadata": {},
   "outputs": [],
   "source": [
    "# --- Build selector to pick levels at time t for rows t=2..T (aligns with Δy_t) ---\n",
    "R_T = np.eye(T-1, T, k=1)                      # (T-1)×T, selects columns 2..T\n",
    "\n",
    "# Levels at time t (drop constant to mirror x_diff)\n",
    "x_level_t = est.perm(R_T, X)[:, 1:]            # (N*(T-1), K-1) -> same vars as in x_diff\n",
    "\n",
    "# Assemble augmented RHS: [Δk, Δl, k_t, l_t]\n",
    "X_fd_exog = np.hstack([x_diff, x_level_t[:, :x_diff.shape[1]]])\n",
    "\n",
    "# Labels (adjust names if needed)\n",
    "labels_fd_exog = ['Δlog_ansatte', 'Δlog_kapital', 'log_ansatte_t', 'log_kapital_t']\n",
    "\n",
    "# Estimate FD regression with levels included\n",
    "fd_exog_res = est.estimate(y_diff, X_fd_exog, transform='fd', T=T-1, robust_se=True)"
   ]
  },
  {
   "cell_type": "code",
   "execution_count": 24,
   "metadata": {},
   "outputs": [
    {
     "name": "stdout",
     "output_type": "stream",
     "text": [
      "Test statistic for H0: beta_3 = 0 is [1.50210937] with p-value   0.2301\n"
     ]
    },
    {
     "name": "stderr",
     "output_type": "stream",
     "text": [
      "/var/folders/yb/2nwpczt56kvbrmb8klk29wfw0000gn/T/ipykernel_20694/149150057.py:8: DeprecationWarning: Conversion of an array with ndim > 0 to a scalar is deprecated, and will error in future. Ensure you extract a single element from your array before performing this operation. (Deprecated NumPy 1.25.)\n",
      "  p_value = float(p_value)  # or p_value = p_value.item()\n"
     ]
    }
   ],
   "source": [
    "b = fd_exog_res['b_hat']\n",
    "cov = fd_exog_res['cov']\n",
    "se = np.sqrt(np.diag(cov))\n",
    "t_stat = b[2] / se[2]\n",
    "# frihedsgrader (hvis ikke df_resid findes, så udled dem)\n",
    "df = fd_exog_res.get('df_resid', len(y_diff) - len(b))\n",
    "p_value = 2 * (1 - stats.t.cdf(np.abs(t_stat), df=3))\n",
    "p_value = float(p_value)  # or p_value = p_value.item()\n",
    "print(f'Test statistic for H0: beta_3 = 0 is {t_stat} with p-value {p_value:8.4f}')  "
   ]
  },
  {
   "cell_type": "markdown",
   "metadata": {},
   "source": [
    "## Hypothesis test"
   ]
  },
  {
   "cell_type": "code",
   "execution_count": 28,
   "metadata": {},
   "outputs": [
    {
     "ename": "IndexError",
     "evalue": "index 2 is out of bounds for axis 1 with size 2",
     "output_type": "error",
     "traceback": [
      "\u001b[0;31m---------------------------------------------------------------------------\u001b[0m",
      "\u001b[0;31mIndexError\u001b[0m                                Traceback (most recent call last)",
      "Cell \u001b[0;32mIn[28], line 16\u001b[0m\n\u001b[1;32m     14\u001b[0m \u001b[38;5;66;03m# Byg R (1 x P) med 1 på de to relevante koefficienter\u001b[39;00m\n\u001b[1;32m     15\u001b[0m R \u001b[38;5;241m=\u001b[39m np\u001b[38;5;241m.\u001b[39mzeros((\u001b[38;5;241m1\u001b[39m, P))\n\u001b[0;32m---> 16\u001b[0m R[\u001b[38;5;241m0\u001b[39m, [ansatte_index, kapital_index]] \u001b[38;5;241m=\u001b[39m \u001b[38;5;241m1.0\u001b[39m\n\u001b[1;32m     18\u001b[0m \u001b[38;5;66;03m# Wald-test for H0: beta_kapital + beta_ansatte = 1\u001b[39;00m\n\u001b[1;32m     19\u001b[0m num \u001b[38;5;241m=\u001b[39m \u001b[38;5;28mfloat\u001b[39m(R \u001b[38;5;241m@\u001b[39m b \u001b[38;5;241m-\u001b[39m \u001b[38;5;241m1.0\u001b[39m)           \u001b[38;5;66;03m# c'β - q, q=1\u001b[39;00m\n",
      "\u001b[0;31mIndexError\u001b[0m: index 2 is out of bounds for axis 1 with size 2"
     ]
    }
   ],
   "source": [
    "b_hat = fe_result['b_hat']\n",
    "cov   = fe_result['cov']\n",
    "\n",
    "ansatte_index = label_x.index('log_ansatte')\n",
    "kapital_index = label_x.index('log_kapital')\n",
    "\n",
    "# Gør vektorer/matricer klar\n",
    "b = np.asarray(b_hat).reshape(-1)   # (P,)\n",
    "V = np.asarray(cov)                 # (P,P)\n",
    "P = b.size\n",
    "if V.shape != (P, P):\n",
    "    raise ValueError(f\"Kovarians har forkert form: {V.shape}, forventede {(P,P)}\")\n",
    "\n",
    "# Byg R (1 x P) med 1 på de to relevante koefficienter\n",
    "R = np.zeros((1, P))\n",
    "R[0, [ansatte_index, kapital_index]] = 1.0\n",
    "\n",
    "# Wald-test for H0: beta_kapital + beta_ansatte = 1\n",
    "num = float(R @ b - 1.0)           # c'β - q, q=1\n",
    "den = float(R @ V @ R.T)           # c' V c\n",
    "if not np.isfinite(den) or den <= 0:\n",
    "    raise ValueError(\"Variansen af restriktionen er ikke positiv/finitsk; tjek kovarians og indeks.\")\n",
    "\n",
    "wald = (num ** 2) / den\n",
    "p_value = stats.chi2.sf(wald, df=1)\n",
    "\n",
    "print(f\"Wald test statistic: {wald:.4f}\")\n",
    "print(f\"p-value: {p_value:.4g}\")"
   ]
  },
  {
   "cell_type": "markdown",
   "metadata": {},
   "source": [
    "Vi afviser klart og tydeligt H0 i FE modellen. Altså der er ikke constant return to scale i data givet at FE-modellen er sand. "
   ]
  },
  {
   "cell_type": "code",
   "execution_count": null,
   "metadata": {},
   "outputs": [],
   "source": []
  },
  {
   "cell_type": "code",
   "execution_count": null,
   "metadata": {},
   "outputs": [],
   "source": []
  }
 ],
 "metadata": {
  "kernelspec": {
   "display_name": "base",
   "language": "python",
   "name": "python3"
  },
  "language_info": {
   "codemirror_mode": {
    "name": "ipython",
    "version": 3
   },
   "file_extension": ".py",
   "mimetype": "text/x-python",
   "name": "python",
   "nbconvert_exporter": "python",
   "pygments_lexer": "ipython3",
   "version": "3.12.4"
  },
  "vscode": {
   "interpreter": {
    "hash": "ef42839c56fd8bee084dafb278faf4416bb17c87278e59e0e4bb5f7c8f27c505"
   }
  }
 },
 "nbformat": 4,
 "nbformat_minor": 4
}
